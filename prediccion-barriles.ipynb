{
 "cells": [
  {
   "cell_type": "markdown",
   "metadata": {},
   "source": [
    "# Modelo de predicción extracción de oro."
   ]
  },
  {
   "cell_type": "markdown",
   "metadata": {},
   "source": [
    "## Introducción \n",
    "\n",
    "La empresa Zyfra esta buscando optimizar la producción de oro y eliminar los parámetros no rentables. \n",
    "Zyfra quiere predecir la cantidad de oro extraído del mineral de oro, nos comparte los datos de extracción y purificación. \n",
    "\n",
    "### Objetivos:\n",
    "\n",
    "- Contruir un modelo para predecir la cantidad de extracción de oro. \n",
    "- Limpiar parametros para obtener una mejor rentabilidad."
   ]
  },
  {
   "cell_type": "markdown",
   "metadata": {},
   "source": [
    "## Importación de librerias\n",
    "\n",
    "Para iniciar el desarrollo del analisis comenzaremos importando las librerias que nos funcionaran para la preparación de datos y construccion del modelo. \n",
    "Las librerias a descargas son pandas, Numpy, Seaborn y Skikit-Learn, permiten la lectura de datos, trabajar con base de datos, trazar modelos y construir modelos de machine learning."
   ]
  },
  {
   "cell_type": "code",
   "execution_count": 1,
   "metadata": {},
   "outputs": [],
   "source": [
    "import pandas as pd\n",
    "import numpy as np\n",
    "import matplotlib.pyplot as plt\n",
    "import seaborn as sns\n",
    "\n",
    "from sklearn.linear_model import LinearRegression\n",
    "from sklearn.ensemble import RandomForestRegressor\n",
    "from sklearn.model_selection import train_test_split\n",
    "from sklearn.metrics import make_scorer\n",
    "from sklearn.model_selection import cross_val_score\n",
    "from sklearn.datasets import make_regression\n"
   ]
  },
  {
   "cell_type": "markdown",
   "metadata": {},
   "source": [
    "## Carga de archivos\n",
    "\n",
    "Ahora procedemos con la carga de las base de datos que nos proporcionan del almacen de datos. \n",
    "Se utiliza la función read_csv de pandas para la carga y como argumento la ubicación del archivo. \n",
    "Guardaremos los datos como sigue:\n",
    "\n",
    "df_train = gold_recovery_train.csv\n",
    "\n",
    "df_test = gold_recovery_test.csv\n",
    "\n",
    "df_full = gold_recovery_full.csv"
   ]
  },
  {
   "cell_type": "code",
   "execution_count": 2,
   "metadata": {},
   "outputs": [],
   "source": [
    "df_train = pd.read_csv('/datasets/gold_recovery_train.csv')\n",
    "df_test = pd.read_csv('/datasets/gold_recovery_test.csv')\n",
    "df_full = pd.read_csv('/datasets/gold_recovery_full.csv')"
   ]
  },
  {
   "cell_type": "markdown",
   "metadata": {},
   "source": [
    "## Exploración de datos\n",
    "\n",
    "Ahora que hemos cargado los data sets es hora de validar los datos.\n",
    "Examinaremos la información, llamaremos al atributo shape y a los métodos head, info y describe en los 3 data sets."
   ]
  },
  {
   "cell_type": "markdown",
   "metadata": {},
   "source": [
    "### Dataset Train"
   ]
  },
  {
   "cell_type": "code",
   "execution_count": 3,
   "metadata": {},
   "outputs": [
    {
     "data": {
      "text/plain": [
       "(16860, 87)"
      ]
     },
     "execution_count": 3,
     "metadata": {},
     "output_type": "execute_result"
    }
   ],
   "source": [
    "df_train.shape"
   ]
  },
  {
   "cell_type": "code",
   "execution_count": 4,
   "metadata": {
    "scrolled": false
   },
   "outputs": [
    {
     "data": {
      "text/html": [
       "<div>\n",
       "<style scoped>\n",
       "    .dataframe tbody tr th:only-of-type {\n",
       "        vertical-align: middle;\n",
       "    }\n",
       "\n",
       "    .dataframe tbody tr th {\n",
       "        vertical-align: top;\n",
       "    }\n",
       "\n",
       "    .dataframe thead th {\n",
       "        text-align: right;\n",
       "    }\n",
       "</style>\n",
       "<table border=\"1\" class=\"dataframe\">\n",
       "  <thead>\n",
       "    <tr style=\"text-align: right;\">\n",
       "      <th></th>\n",
       "      <th>date</th>\n",
       "      <th>final.output.concentrate_ag</th>\n",
       "      <th>final.output.concentrate_pb</th>\n",
       "      <th>final.output.concentrate_sol</th>\n",
       "      <th>final.output.concentrate_au</th>\n",
       "      <th>final.output.recovery</th>\n",
       "      <th>final.output.tail_ag</th>\n",
       "      <th>final.output.tail_pb</th>\n",
       "      <th>final.output.tail_sol</th>\n",
       "      <th>final.output.tail_au</th>\n",
       "      <th>...</th>\n",
       "      <th>secondary_cleaner.state.floatbank4_a_air</th>\n",
       "      <th>secondary_cleaner.state.floatbank4_a_level</th>\n",
       "      <th>secondary_cleaner.state.floatbank4_b_air</th>\n",
       "      <th>secondary_cleaner.state.floatbank4_b_level</th>\n",
       "      <th>secondary_cleaner.state.floatbank5_a_air</th>\n",
       "      <th>secondary_cleaner.state.floatbank5_a_level</th>\n",
       "      <th>secondary_cleaner.state.floatbank5_b_air</th>\n",
       "      <th>secondary_cleaner.state.floatbank5_b_level</th>\n",
       "      <th>secondary_cleaner.state.floatbank6_a_air</th>\n",
       "      <th>secondary_cleaner.state.floatbank6_a_level</th>\n",
       "    </tr>\n",
       "  </thead>\n",
       "  <tbody>\n",
       "    <tr>\n",
       "      <th>0</th>\n",
       "      <td>2016-01-15 00:00:00</td>\n",
       "      <td>6.055403</td>\n",
       "      <td>9.889648</td>\n",
       "      <td>5.507324</td>\n",
       "      <td>42.192020</td>\n",
       "      <td>70.541216</td>\n",
       "      <td>10.411962</td>\n",
       "      <td>0.895447</td>\n",
       "      <td>16.904297</td>\n",
       "      <td>2.143149</td>\n",
       "      <td>...</td>\n",
       "      <td>14.016835</td>\n",
       "      <td>-502.488007</td>\n",
       "      <td>12.099931</td>\n",
       "      <td>-504.715942</td>\n",
       "      <td>9.925633</td>\n",
       "      <td>-498.310211</td>\n",
       "      <td>8.079666</td>\n",
       "      <td>-500.470978</td>\n",
       "      <td>14.151341</td>\n",
       "      <td>-605.841980</td>\n",
       "    </tr>\n",
       "    <tr>\n",
       "      <th>1</th>\n",
       "      <td>2016-01-15 01:00:00</td>\n",
       "      <td>6.029369</td>\n",
       "      <td>9.968944</td>\n",
       "      <td>5.257781</td>\n",
       "      <td>42.701629</td>\n",
       "      <td>69.266198</td>\n",
       "      <td>10.462676</td>\n",
       "      <td>0.927452</td>\n",
       "      <td>16.634514</td>\n",
       "      <td>2.224930</td>\n",
       "      <td>...</td>\n",
       "      <td>13.992281</td>\n",
       "      <td>-505.503262</td>\n",
       "      <td>11.950531</td>\n",
       "      <td>-501.331529</td>\n",
       "      <td>10.039245</td>\n",
       "      <td>-500.169983</td>\n",
       "      <td>7.984757</td>\n",
       "      <td>-500.582168</td>\n",
       "      <td>13.998353</td>\n",
       "      <td>-599.787184</td>\n",
       "    </tr>\n",
       "    <tr>\n",
       "      <th>2</th>\n",
       "      <td>2016-01-15 02:00:00</td>\n",
       "      <td>6.055926</td>\n",
       "      <td>10.213995</td>\n",
       "      <td>5.383759</td>\n",
       "      <td>42.657501</td>\n",
       "      <td>68.116445</td>\n",
       "      <td>10.507046</td>\n",
       "      <td>0.953716</td>\n",
       "      <td>16.208849</td>\n",
       "      <td>2.257889</td>\n",
       "      <td>...</td>\n",
       "      <td>14.015015</td>\n",
       "      <td>-502.520901</td>\n",
       "      <td>11.912783</td>\n",
       "      <td>-501.133383</td>\n",
       "      <td>10.070913</td>\n",
       "      <td>-500.129135</td>\n",
       "      <td>8.013877</td>\n",
       "      <td>-500.517572</td>\n",
       "      <td>14.028663</td>\n",
       "      <td>-601.427363</td>\n",
       "    </tr>\n",
       "    <tr>\n",
       "      <th>3</th>\n",
       "      <td>2016-01-15 03:00:00</td>\n",
       "      <td>6.047977</td>\n",
       "      <td>9.977019</td>\n",
       "      <td>4.858634</td>\n",
       "      <td>42.689819</td>\n",
       "      <td>68.347543</td>\n",
       "      <td>10.422762</td>\n",
       "      <td>0.883763</td>\n",
       "      <td>16.532835</td>\n",
       "      <td>2.146849</td>\n",
       "      <td>...</td>\n",
       "      <td>14.036510</td>\n",
       "      <td>-500.857308</td>\n",
       "      <td>11.999550</td>\n",
       "      <td>-501.193686</td>\n",
       "      <td>9.970366</td>\n",
       "      <td>-499.201640</td>\n",
       "      <td>7.977324</td>\n",
       "      <td>-500.255908</td>\n",
       "      <td>14.005551</td>\n",
       "      <td>-599.996129</td>\n",
       "    </tr>\n",
       "    <tr>\n",
       "      <th>4</th>\n",
       "      <td>2016-01-15 04:00:00</td>\n",
       "      <td>6.148599</td>\n",
       "      <td>10.142511</td>\n",
       "      <td>4.939416</td>\n",
       "      <td>42.774141</td>\n",
       "      <td>66.927016</td>\n",
       "      <td>10.360302</td>\n",
       "      <td>0.792826</td>\n",
       "      <td>16.525686</td>\n",
       "      <td>2.055292</td>\n",
       "      <td>...</td>\n",
       "      <td>14.027298</td>\n",
       "      <td>-499.838632</td>\n",
       "      <td>11.953070</td>\n",
       "      <td>-501.053894</td>\n",
       "      <td>9.925709</td>\n",
       "      <td>-501.686727</td>\n",
       "      <td>7.894242</td>\n",
       "      <td>-500.356035</td>\n",
       "      <td>13.996647</td>\n",
       "      <td>-601.496691</td>\n",
       "    </tr>\n",
       "  </tbody>\n",
       "</table>\n",
       "<p>5 rows × 87 columns</p>\n",
       "</div>"
      ],
      "text/plain": [
       "                  date  final.output.concentrate_ag  \\\n",
       "0  2016-01-15 00:00:00                     6.055403   \n",
       "1  2016-01-15 01:00:00                     6.029369   \n",
       "2  2016-01-15 02:00:00                     6.055926   \n",
       "3  2016-01-15 03:00:00                     6.047977   \n",
       "4  2016-01-15 04:00:00                     6.148599   \n",
       "\n",
       "   final.output.concentrate_pb  final.output.concentrate_sol  \\\n",
       "0                     9.889648                      5.507324   \n",
       "1                     9.968944                      5.257781   \n",
       "2                    10.213995                      5.383759   \n",
       "3                     9.977019                      4.858634   \n",
       "4                    10.142511                      4.939416   \n",
       "\n",
       "   final.output.concentrate_au  final.output.recovery  final.output.tail_ag  \\\n",
       "0                    42.192020              70.541216             10.411962   \n",
       "1                    42.701629              69.266198             10.462676   \n",
       "2                    42.657501              68.116445             10.507046   \n",
       "3                    42.689819              68.347543             10.422762   \n",
       "4                    42.774141              66.927016             10.360302   \n",
       "\n",
       "   final.output.tail_pb  final.output.tail_sol  final.output.tail_au  ...  \\\n",
       "0              0.895447              16.904297              2.143149  ...   \n",
       "1              0.927452              16.634514              2.224930  ...   \n",
       "2              0.953716              16.208849              2.257889  ...   \n",
       "3              0.883763              16.532835              2.146849  ...   \n",
       "4              0.792826              16.525686              2.055292  ...   \n",
       "\n",
       "   secondary_cleaner.state.floatbank4_a_air  \\\n",
       "0                                 14.016835   \n",
       "1                                 13.992281   \n",
       "2                                 14.015015   \n",
       "3                                 14.036510   \n",
       "4                                 14.027298   \n",
       "\n",
       "   secondary_cleaner.state.floatbank4_a_level  \\\n",
       "0                                 -502.488007   \n",
       "1                                 -505.503262   \n",
       "2                                 -502.520901   \n",
       "3                                 -500.857308   \n",
       "4                                 -499.838632   \n",
       "\n",
       "   secondary_cleaner.state.floatbank4_b_air  \\\n",
       "0                                 12.099931   \n",
       "1                                 11.950531   \n",
       "2                                 11.912783   \n",
       "3                                 11.999550   \n",
       "4                                 11.953070   \n",
       "\n",
       "   secondary_cleaner.state.floatbank4_b_level  \\\n",
       "0                                 -504.715942   \n",
       "1                                 -501.331529   \n",
       "2                                 -501.133383   \n",
       "3                                 -501.193686   \n",
       "4                                 -501.053894   \n",
       "\n",
       "   secondary_cleaner.state.floatbank5_a_air  \\\n",
       "0                                  9.925633   \n",
       "1                                 10.039245   \n",
       "2                                 10.070913   \n",
       "3                                  9.970366   \n",
       "4                                  9.925709   \n",
       "\n",
       "   secondary_cleaner.state.floatbank5_a_level  \\\n",
       "0                                 -498.310211   \n",
       "1                                 -500.169983   \n",
       "2                                 -500.129135   \n",
       "3                                 -499.201640   \n",
       "4                                 -501.686727   \n",
       "\n",
       "   secondary_cleaner.state.floatbank5_b_air  \\\n",
       "0                                  8.079666   \n",
       "1                                  7.984757   \n",
       "2                                  8.013877   \n",
       "3                                  7.977324   \n",
       "4                                  7.894242   \n",
       "\n",
       "   secondary_cleaner.state.floatbank5_b_level  \\\n",
       "0                                 -500.470978   \n",
       "1                                 -500.582168   \n",
       "2                                 -500.517572   \n",
       "3                                 -500.255908   \n",
       "4                                 -500.356035   \n",
       "\n",
       "   secondary_cleaner.state.floatbank6_a_air  \\\n",
       "0                                 14.151341   \n",
       "1                                 13.998353   \n",
       "2                                 14.028663   \n",
       "3                                 14.005551   \n",
       "4                                 13.996647   \n",
       "\n",
       "   secondary_cleaner.state.floatbank6_a_level  \n",
       "0                                 -605.841980  \n",
       "1                                 -599.787184  \n",
       "2                                 -601.427363  \n",
       "3                                 -599.996129  \n",
       "4                                 -601.496691  \n",
       "\n",
       "[5 rows x 87 columns]"
      ]
     },
     "execution_count": 4,
     "metadata": {},
     "output_type": "execute_result"
    }
   ],
   "source": [
    "df_train.head()"
   ]
  },
  {
   "cell_type": "code",
   "execution_count": 5,
   "metadata": {
    "scrolled": true
   },
   "outputs": [
    {
     "name": "stdout",
     "output_type": "stream",
     "text": [
      "<class 'pandas.core.frame.DataFrame'>\n",
      "RangeIndex: 16860 entries, 0 to 16859\n",
      "Data columns (total 87 columns):\n",
      " #   Column                                              Non-Null Count  Dtype  \n",
      "---  ------                                              --------------  -----  \n",
      " 0   date                                                16860 non-null  object \n",
      " 1   final.output.concentrate_ag                         16788 non-null  float64\n",
      " 2   final.output.concentrate_pb                         16788 non-null  float64\n",
      " 3   final.output.concentrate_sol                        16490 non-null  float64\n",
      " 4   final.output.concentrate_au                         16789 non-null  float64\n",
      " 5   final.output.recovery                               15339 non-null  float64\n",
      " 6   final.output.tail_ag                                16794 non-null  float64\n",
      " 7   final.output.tail_pb                                16677 non-null  float64\n",
      " 8   final.output.tail_sol                               16715 non-null  float64\n",
      " 9   final.output.tail_au                                16794 non-null  float64\n",
      " 10  primary_cleaner.input.sulfate                       15553 non-null  float64\n",
      " 11  primary_cleaner.input.depressant                    15598 non-null  float64\n",
      " 12  primary_cleaner.input.feed_size                     16860 non-null  float64\n",
      " 13  primary_cleaner.input.xanthate                      15875 non-null  float64\n",
      " 14  primary_cleaner.output.concentrate_ag               16778 non-null  float64\n",
      " 15  primary_cleaner.output.concentrate_pb               16502 non-null  float64\n",
      " 16  primary_cleaner.output.concentrate_sol              16224 non-null  float64\n",
      " 17  primary_cleaner.output.concentrate_au               16778 non-null  float64\n",
      " 18  primary_cleaner.output.tail_ag                      16777 non-null  float64\n",
      " 19  primary_cleaner.output.tail_pb                      16761 non-null  float64\n",
      " 20  primary_cleaner.output.tail_sol                     16579 non-null  float64\n",
      " 21  primary_cleaner.output.tail_au                      16777 non-null  float64\n",
      " 22  primary_cleaner.state.floatbank8_a_air              16820 non-null  float64\n",
      " 23  primary_cleaner.state.floatbank8_a_level            16827 non-null  float64\n",
      " 24  primary_cleaner.state.floatbank8_b_air              16820 non-null  float64\n",
      " 25  primary_cleaner.state.floatbank8_b_level            16833 non-null  float64\n",
      " 26  primary_cleaner.state.floatbank8_c_air              16822 non-null  float64\n",
      " 27  primary_cleaner.state.floatbank8_c_level            16833 non-null  float64\n",
      " 28  primary_cleaner.state.floatbank8_d_air              16821 non-null  float64\n",
      " 29  primary_cleaner.state.floatbank8_d_level            16833 non-null  float64\n",
      " 30  rougher.calculation.sulfate_to_au_concentrate       16833 non-null  float64\n",
      " 31  rougher.calculation.floatbank10_sulfate_to_au_feed  16833 non-null  float64\n",
      " 32  rougher.calculation.floatbank11_sulfate_to_au_feed  16833 non-null  float64\n",
      " 33  rougher.calculation.au_pb_ratio                     15618 non-null  float64\n",
      " 34  rougher.input.feed_ag                               16778 non-null  float64\n",
      " 35  rougher.input.feed_pb                               16632 non-null  float64\n",
      " 36  rougher.input.feed_rate                             16347 non-null  float64\n",
      " 37  rougher.input.feed_size                             16443 non-null  float64\n",
      " 38  rougher.input.feed_sol                              16568 non-null  float64\n",
      " 39  rougher.input.feed_au                               16777 non-null  float64\n",
      " 40  rougher.input.floatbank10_sulfate                   15816 non-null  float64\n",
      " 41  rougher.input.floatbank10_xanthate                  16514 non-null  float64\n",
      " 42  rougher.input.floatbank11_sulfate                   16237 non-null  float64\n",
      " 43  rougher.input.floatbank11_xanthate                  14956 non-null  float64\n",
      " 44  rougher.output.concentrate_ag                       16778 non-null  float64\n",
      " 45  rougher.output.concentrate_pb                       16778 non-null  float64\n",
      " 46  rougher.output.concentrate_sol                      16698 non-null  float64\n",
      " 47  rougher.output.concentrate_au                       16778 non-null  float64\n",
      " 48  rougher.output.recovery                             14287 non-null  float64\n",
      " 49  rougher.output.tail_ag                              14610 non-null  float64\n",
      " 50  rougher.output.tail_pb                              16778 non-null  float64\n",
      " 51  rougher.output.tail_sol                             14611 non-null  float64\n",
      " 52  rougher.output.tail_au                              14611 non-null  float64\n",
      " 53  rougher.state.floatbank10_a_air                     16807 non-null  float64\n",
      " 54  rougher.state.floatbank10_a_level                   16807 non-null  float64\n",
      " 55  rougher.state.floatbank10_b_air                     16807 non-null  float64\n",
      " 56  rougher.state.floatbank10_b_level                   16807 non-null  float64\n",
      " 57  rougher.state.floatbank10_c_air                     16807 non-null  float64\n",
      " 58  rougher.state.floatbank10_c_level                   16814 non-null  float64\n",
      " 59  rougher.state.floatbank10_d_air                     16802 non-null  float64\n",
      " 60  rougher.state.floatbank10_d_level                   16809 non-null  float64\n",
      " 61  rougher.state.floatbank10_e_air                     16257 non-null  float64\n",
      " 62  rougher.state.floatbank10_e_level                   16809 non-null  float64\n",
      " 63  rougher.state.floatbank10_f_air                     16802 non-null  float64\n",
      " 64  rougher.state.floatbank10_f_level                   16802 non-null  float64\n",
      " 65  secondary_cleaner.output.tail_ag                    16776 non-null  float64\n",
      " 66  secondary_cleaner.output.tail_pb                    16764 non-null  float64\n",
      " 67  secondary_cleaner.output.tail_sol                   14874 non-null  float64\n",
      " 68  secondary_cleaner.output.tail_au                    16778 non-null  float64\n",
      " 69  secondary_cleaner.state.floatbank2_a_air            16497 non-null  float64\n",
      " 70  secondary_cleaner.state.floatbank2_a_level          16751 non-null  float64\n",
      " 71  secondary_cleaner.state.floatbank2_b_air            16705 non-null  float64\n",
      " 72  secondary_cleaner.state.floatbank2_b_level          16748 non-null  float64\n",
      " 73  secondary_cleaner.state.floatbank3_a_air            16763 non-null  float64\n",
      " 74  secondary_cleaner.state.floatbank3_a_level          16747 non-null  float64\n",
      " 75  secondary_cleaner.state.floatbank3_b_air            16752 non-null  float64\n",
      " 76  secondary_cleaner.state.floatbank3_b_level          16750 non-null  float64\n",
      " 77  secondary_cleaner.state.floatbank4_a_air            16731 non-null  float64\n",
      " 78  secondary_cleaner.state.floatbank4_a_level          16747 non-null  float64\n",
      " 79  secondary_cleaner.state.floatbank4_b_air            16768 non-null  float64\n",
      " 80  secondary_cleaner.state.floatbank4_b_level          16767 non-null  float64\n",
      " 81  secondary_cleaner.state.floatbank5_a_air            16775 non-null  float64\n",
      " 82  secondary_cleaner.state.floatbank5_a_level          16775 non-null  float64\n",
      " 83  secondary_cleaner.state.floatbank5_b_air            16775 non-null  float64\n",
      " 84  secondary_cleaner.state.floatbank5_b_level          16776 non-null  float64\n",
      " 85  secondary_cleaner.state.floatbank6_a_air            16757 non-null  float64\n",
      " 86  secondary_cleaner.state.floatbank6_a_level          16775 non-null  float64\n",
      "dtypes: float64(86), object(1)\n",
      "memory usage: 11.2+ MB\n"
     ]
    }
   ],
   "source": [
    "df_train.info()"
   ]
  },
  {
   "cell_type": "code",
   "execution_count": 6,
   "metadata": {},
   "outputs": [
    {
     "data": {
      "text/html": [
       "<div>\n",
       "<style scoped>\n",
       "    .dataframe tbody tr th:only-of-type {\n",
       "        vertical-align: middle;\n",
       "    }\n",
       "\n",
       "    .dataframe tbody tr th {\n",
       "        vertical-align: top;\n",
       "    }\n",
       "\n",
       "    .dataframe thead th {\n",
       "        text-align: right;\n",
       "    }\n",
       "</style>\n",
       "<table border=\"1\" class=\"dataframe\">\n",
       "  <thead>\n",
       "    <tr style=\"text-align: right;\">\n",
       "      <th></th>\n",
       "      <th>final.output.concentrate_ag</th>\n",
       "      <th>final.output.concentrate_pb</th>\n",
       "      <th>final.output.concentrate_sol</th>\n",
       "      <th>final.output.concentrate_au</th>\n",
       "      <th>final.output.recovery</th>\n",
       "      <th>final.output.tail_ag</th>\n",
       "      <th>final.output.tail_pb</th>\n",
       "      <th>final.output.tail_sol</th>\n",
       "      <th>final.output.tail_au</th>\n",
       "      <th>primary_cleaner.input.sulfate</th>\n",
       "      <th>...</th>\n",
       "      <th>secondary_cleaner.state.floatbank4_a_air</th>\n",
       "      <th>secondary_cleaner.state.floatbank4_a_level</th>\n",
       "      <th>secondary_cleaner.state.floatbank4_b_air</th>\n",
       "      <th>secondary_cleaner.state.floatbank4_b_level</th>\n",
       "      <th>secondary_cleaner.state.floatbank5_a_air</th>\n",
       "      <th>secondary_cleaner.state.floatbank5_a_level</th>\n",
       "      <th>secondary_cleaner.state.floatbank5_b_air</th>\n",
       "      <th>secondary_cleaner.state.floatbank5_b_level</th>\n",
       "      <th>secondary_cleaner.state.floatbank6_a_air</th>\n",
       "      <th>secondary_cleaner.state.floatbank6_a_level</th>\n",
       "    </tr>\n",
       "  </thead>\n",
       "  <tbody>\n",
       "    <tr>\n",
       "      <th>count</th>\n",
       "      <td>16788.000000</td>\n",
       "      <td>16788.000000</td>\n",
       "      <td>16490.000000</td>\n",
       "      <td>16789.000000</td>\n",
       "      <td>15339.000000</td>\n",
       "      <td>16794.000000</td>\n",
       "      <td>16677.000000</td>\n",
       "      <td>16715.000000</td>\n",
       "      <td>16794.000000</td>\n",
       "      <td>15553.000000</td>\n",
       "      <td>...</td>\n",
       "      <td>16731.000000</td>\n",
       "      <td>16747.000000</td>\n",
       "      <td>16768.000000</td>\n",
       "      <td>16767.000000</td>\n",
       "      <td>16775.000000</td>\n",
       "      <td>16775.000000</td>\n",
       "      <td>16775.000000</td>\n",
       "      <td>16776.000000</td>\n",
       "      <td>16757.000000</td>\n",
       "      <td>16775.000000</td>\n",
       "    </tr>\n",
       "    <tr>\n",
       "      <th>mean</th>\n",
       "      <td>4.716907</td>\n",
       "      <td>9.113559</td>\n",
       "      <td>8.301123</td>\n",
       "      <td>39.467217</td>\n",
       "      <td>67.213166</td>\n",
       "      <td>8.757048</td>\n",
       "      <td>2.360327</td>\n",
       "      <td>9.303932</td>\n",
       "      <td>2.687512</td>\n",
       "      <td>129.479789</td>\n",
       "      <td>...</td>\n",
       "      <td>19.101874</td>\n",
       "      <td>-494.164481</td>\n",
       "      <td>14.778164</td>\n",
       "      <td>-476.600082</td>\n",
       "      <td>15.779488</td>\n",
       "      <td>-500.230146</td>\n",
       "      <td>12.377241</td>\n",
       "      <td>-498.956257</td>\n",
       "      <td>18.429208</td>\n",
       "      <td>-521.801826</td>\n",
       "    </tr>\n",
       "    <tr>\n",
       "      <th>std</th>\n",
       "      <td>2.096718</td>\n",
       "      <td>3.389495</td>\n",
       "      <td>3.825760</td>\n",
       "      <td>13.917227</td>\n",
       "      <td>11.960446</td>\n",
       "      <td>3.634103</td>\n",
       "      <td>1.215576</td>\n",
       "      <td>4.263208</td>\n",
       "      <td>1.272757</td>\n",
       "      <td>45.386931</td>\n",
       "      <td>...</td>\n",
       "      <td>6.883163</td>\n",
       "      <td>84.803334</td>\n",
       "      <td>5.999149</td>\n",
       "      <td>89.381172</td>\n",
       "      <td>6.834703</td>\n",
       "      <td>76.983542</td>\n",
       "      <td>6.219989</td>\n",
       "      <td>82.146207</td>\n",
       "      <td>6.958294</td>\n",
       "      <td>77.170888</td>\n",
       "    </tr>\n",
       "    <tr>\n",
       "      <th>min</th>\n",
       "      <td>0.000000</td>\n",
       "      <td>0.000000</td>\n",
       "      <td>0.000000</td>\n",
       "      <td>0.000000</td>\n",
       "      <td>0.000000</td>\n",
       "      <td>0.000000</td>\n",
       "      <td>0.000000</td>\n",
       "      <td>0.000000</td>\n",
       "      <td>0.000000</td>\n",
       "      <td>0.000003</td>\n",
       "      <td>...</td>\n",
       "      <td>0.000000</td>\n",
       "      <td>-799.920713</td>\n",
       "      <td>0.000000</td>\n",
       "      <td>-800.021781</td>\n",
       "      <td>-0.423260</td>\n",
       "      <td>-799.741097</td>\n",
       "      <td>0.427084</td>\n",
       "      <td>-800.258209</td>\n",
       "      <td>0.024270</td>\n",
       "      <td>-810.473526</td>\n",
       "    </tr>\n",
       "    <tr>\n",
       "      <th>25%</th>\n",
       "      <td>3.971262</td>\n",
       "      <td>8.825748</td>\n",
       "      <td>6.939185</td>\n",
       "      <td>42.055722</td>\n",
       "      <td>62.625685</td>\n",
       "      <td>7.610544</td>\n",
       "      <td>1.641604</td>\n",
       "      <td>7.870275</td>\n",
       "      <td>2.172953</td>\n",
       "      <td>103.064021</td>\n",
       "      <td>...</td>\n",
       "      <td>14.508299</td>\n",
       "      <td>-500.837689</td>\n",
       "      <td>10.741388</td>\n",
       "      <td>-500.269182</td>\n",
       "      <td>10.977713</td>\n",
       "      <td>-500.530594</td>\n",
       "      <td>8.925586</td>\n",
       "      <td>-500.147603</td>\n",
       "      <td>13.977626</td>\n",
       "      <td>-501.080595</td>\n",
       "    </tr>\n",
       "    <tr>\n",
       "      <th>50%</th>\n",
       "      <td>4.869346</td>\n",
       "      <td>10.065316</td>\n",
       "      <td>8.557228</td>\n",
       "      <td>44.498874</td>\n",
       "      <td>67.644601</td>\n",
       "      <td>9.220393</td>\n",
       "      <td>2.453690</td>\n",
       "      <td>10.021968</td>\n",
       "      <td>2.781132</td>\n",
       "      <td>131.783108</td>\n",
       "      <td>...</td>\n",
       "      <td>19.986958</td>\n",
       "      <td>-499.778379</td>\n",
       "      <td>14.943933</td>\n",
       "      <td>-499.593286</td>\n",
       "      <td>15.998340</td>\n",
       "      <td>-499.784231</td>\n",
       "      <td>11.092839</td>\n",
       "      <td>-499.933330</td>\n",
       "      <td>18.034960</td>\n",
       "      <td>-500.109898</td>\n",
       "    </tr>\n",
       "    <tr>\n",
       "      <th>75%</th>\n",
       "      <td>5.821176</td>\n",
       "      <td>11.054809</td>\n",
       "      <td>10.289741</td>\n",
       "      <td>45.976222</td>\n",
       "      <td>72.824595</td>\n",
       "      <td>10.971110</td>\n",
       "      <td>3.192404</td>\n",
       "      <td>11.648573</td>\n",
       "      <td>3.416936</td>\n",
       "      <td>159.539839</td>\n",
       "      <td>...</td>\n",
       "      <td>24.983961</td>\n",
       "      <td>-494.648754</td>\n",
       "      <td>20.023751</td>\n",
       "      <td>-400.137948</td>\n",
       "      <td>20.000701</td>\n",
       "      <td>-496.531781</td>\n",
       "      <td>15.979467</td>\n",
       "      <td>-498.418000</td>\n",
       "      <td>24.984992</td>\n",
       "      <td>-499.565540</td>\n",
       "    </tr>\n",
       "    <tr>\n",
       "      <th>max</th>\n",
       "      <td>16.001945</td>\n",
       "      <td>17.031899</td>\n",
       "      <td>18.124851</td>\n",
       "      <td>53.611374</td>\n",
       "      <td>100.000000</td>\n",
       "      <td>19.552149</td>\n",
       "      <td>6.086532</td>\n",
       "      <td>22.317730</td>\n",
       "      <td>9.789625</td>\n",
       "      <td>251.999948</td>\n",
       "      <td>...</td>\n",
       "      <td>60.000000</td>\n",
       "      <td>-127.692333</td>\n",
       "      <td>28.003828</td>\n",
       "      <td>-71.472472</td>\n",
       "      <td>63.116298</td>\n",
       "      <td>-275.073125</td>\n",
       "      <td>39.846228</td>\n",
       "      <td>-120.190931</td>\n",
       "      <td>54.876806</td>\n",
       "      <td>-39.784927</td>\n",
       "    </tr>\n",
       "  </tbody>\n",
       "</table>\n",
       "<p>8 rows × 86 columns</p>\n",
       "</div>"
      ],
      "text/plain": [
       "       final.output.concentrate_ag  final.output.concentrate_pb  \\\n",
       "count                 16788.000000                 16788.000000   \n",
       "mean                      4.716907                     9.113559   \n",
       "std                       2.096718                     3.389495   \n",
       "min                       0.000000                     0.000000   \n",
       "25%                       3.971262                     8.825748   \n",
       "50%                       4.869346                    10.065316   \n",
       "75%                       5.821176                    11.054809   \n",
       "max                      16.001945                    17.031899   \n",
       "\n",
       "       final.output.concentrate_sol  final.output.concentrate_au  \\\n",
       "count                  16490.000000                 16789.000000   \n",
       "mean                       8.301123                    39.467217   \n",
       "std                        3.825760                    13.917227   \n",
       "min                        0.000000                     0.000000   \n",
       "25%                        6.939185                    42.055722   \n",
       "50%                        8.557228                    44.498874   \n",
       "75%                       10.289741                    45.976222   \n",
       "max                       18.124851                    53.611374   \n",
       "\n",
       "       final.output.recovery  final.output.tail_ag  final.output.tail_pb  \\\n",
       "count           15339.000000          16794.000000          16677.000000   \n",
       "mean               67.213166              8.757048              2.360327   \n",
       "std                11.960446              3.634103              1.215576   \n",
       "min                 0.000000              0.000000              0.000000   \n",
       "25%                62.625685              7.610544              1.641604   \n",
       "50%                67.644601              9.220393              2.453690   \n",
       "75%                72.824595             10.971110              3.192404   \n",
       "max               100.000000             19.552149              6.086532   \n",
       "\n",
       "       final.output.tail_sol  final.output.tail_au  \\\n",
       "count           16715.000000          16794.000000   \n",
       "mean                9.303932              2.687512   \n",
       "std                 4.263208              1.272757   \n",
       "min                 0.000000              0.000000   \n",
       "25%                 7.870275              2.172953   \n",
       "50%                10.021968              2.781132   \n",
       "75%                11.648573              3.416936   \n",
       "max                22.317730              9.789625   \n",
       "\n",
       "       primary_cleaner.input.sulfate  ...  \\\n",
       "count                   15553.000000  ...   \n",
       "mean                      129.479789  ...   \n",
       "std                        45.386931  ...   \n",
       "min                         0.000003  ...   \n",
       "25%                       103.064021  ...   \n",
       "50%                       131.783108  ...   \n",
       "75%                       159.539839  ...   \n",
       "max                       251.999948  ...   \n",
       "\n",
       "       secondary_cleaner.state.floatbank4_a_air  \\\n",
       "count                              16731.000000   \n",
       "mean                                  19.101874   \n",
       "std                                    6.883163   \n",
       "min                                    0.000000   \n",
       "25%                                   14.508299   \n",
       "50%                                   19.986958   \n",
       "75%                                   24.983961   \n",
       "max                                   60.000000   \n",
       "\n",
       "       secondary_cleaner.state.floatbank4_a_level  \\\n",
       "count                                16747.000000   \n",
       "mean                                  -494.164481   \n",
       "std                                     84.803334   \n",
       "min                                   -799.920713   \n",
       "25%                                   -500.837689   \n",
       "50%                                   -499.778379   \n",
       "75%                                   -494.648754   \n",
       "max                                   -127.692333   \n",
       "\n",
       "       secondary_cleaner.state.floatbank4_b_air  \\\n",
       "count                              16768.000000   \n",
       "mean                                  14.778164   \n",
       "std                                    5.999149   \n",
       "min                                    0.000000   \n",
       "25%                                   10.741388   \n",
       "50%                                   14.943933   \n",
       "75%                                   20.023751   \n",
       "max                                   28.003828   \n",
       "\n",
       "       secondary_cleaner.state.floatbank4_b_level  \\\n",
       "count                                16767.000000   \n",
       "mean                                  -476.600082   \n",
       "std                                     89.381172   \n",
       "min                                   -800.021781   \n",
       "25%                                   -500.269182   \n",
       "50%                                   -499.593286   \n",
       "75%                                   -400.137948   \n",
       "max                                    -71.472472   \n",
       "\n",
       "       secondary_cleaner.state.floatbank5_a_air  \\\n",
       "count                              16775.000000   \n",
       "mean                                  15.779488   \n",
       "std                                    6.834703   \n",
       "min                                   -0.423260   \n",
       "25%                                   10.977713   \n",
       "50%                                   15.998340   \n",
       "75%                                   20.000701   \n",
       "max                                   63.116298   \n",
       "\n",
       "       secondary_cleaner.state.floatbank5_a_level  \\\n",
       "count                                16775.000000   \n",
       "mean                                  -500.230146   \n",
       "std                                     76.983542   \n",
       "min                                   -799.741097   \n",
       "25%                                   -500.530594   \n",
       "50%                                   -499.784231   \n",
       "75%                                   -496.531781   \n",
       "max                                   -275.073125   \n",
       "\n",
       "       secondary_cleaner.state.floatbank5_b_air  \\\n",
       "count                              16775.000000   \n",
       "mean                                  12.377241   \n",
       "std                                    6.219989   \n",
       "min                                    0.427084   \n",
       "25%                                    8.925586   \n",
       "50%                                   11.092839   \n",
       "75%                                   15.979467   \n",
       "max                                   39.846228   \n",
       "\n",
       "       secondary_cleaner.state.floatbank5_b_level  \\\n",
       "count                                16776.000000   \n",
       "mean                                  -498.956257   \n",
       "std                                     82.146207   \n",
       "min                                   -800.258209   \n",
       "25%                                   -500.147603   \n",
       "50%                                   -499.933330   \n",
       "75%                                   -498.418000   \n",
       "max                                   -120.190931   \n",
       "\n",
       "       secondary_cleaner.state.floatbank6_a_air  \\\n",
       "count                              16757.000000   \n",
       "mean                                  18.429208   \n",
       "std                                    6.958294   \n",
       "min                                    0.024270   \n",
       "25%                                   13.977626   \n",
       "50%                                   18.034960   \n",
       "75%                                   24.984992   \n",
       "max                                   54.876806   \n",
       "\n",
       "       secondary_cleaner.state.floatbank6_a_level  \n",
       "count                                16775.000000  \n",
       "mean                                  -521.801826  \n",
       "std                                     77.170888  \n",
       "min                                   -810.473526  \n",
       "25%                                   -501.080595  \n",
       "50%                                   -500.109898  \n",
       "75%                                   -499.565540  \n",
       "max                                    -39.784927  \n",
       "\n",
       "[8 rows x 86 columns]"
      ]
     },
     "execution_count": 6,
     "metadata": {},
     "output_type": "execute_result"
    }
   ],
   "source": [
    "df_train.describe()"
   ]
  },
  {
   "cell_type": "markdown",
   "metadata": {},
   "source": [
    "### Dataset de test"
   ]
  },
  {
   "cell_type": "code",
   "execution_count": 7,
   "metadata": {},
   "outputs": [
    {
     "data": {
      "text/plain": [
       "(5856, 53)"
      ]
     },
     "execution_count": 7,
     "metadata": {},
     "output_type": "execute_result"
    }
   ],
   "source": [
    "df_test.shape"
   ]
  },
  {
   "cell_type": "code",
   "execution_count": 8,
   "metadata": {},
   "outputs": [
    {
     "data": {
      "text/html": [
       "<div>\n",
       "<style scoped>\n",
       "    .dataframe tbody tr th:only-of-type {\n",
       "        vertical-align: middle;\n",
       "    }\n",
       "\n",
       "    .dataframe tbody tr th {\n",
       "        vertical-align: top;\n",
       "    }\n",
       "\n",
       "    .dataframe thead th {\n",
       "        text-align: right;\n",
       "    }\n",
       "</style>\n",
       "<table border=\"1\" class=\"dataframe\">\n",
       "  <thead>\n",
       "    <tr style=\"text-align: right;\">\n",
       "      <th></th>\n",
       "      <th>date</th>\n",
       "      <th>primary_cleaner.input.sulfate</th>\n",
       "      <th>primary_cleaner.input.depressant</th>\n",
       "      <th>primary_cleaner.input.feed_size</th>\n",
       "      <th>primary_cleaner.input.xanthate</th>\n",
       "      <th>primary_cleaner.state.floatbank8_a_air</th>\n",
       "      <th>primary_cleaner.state.floatbank8_a_level</th>\n",
       "      <th>primary_cleaner.state.floatbank8_b_air</th>\n",
       "      <th>primary_cleaner.state.floatbank8_b_level</th>\n",
       "      <th>primary_cleaner.state.floatbank8_c_air</th>\n",
       "      <th>...</th>\n",
       "      <th>secondary_cleaner.state.floatbank4_a_air</th>\n",
       "      <th>secondary_cleaner.state.floatbank4_a_level</th>\n",
       "      <th>secondary_cleaner.state.floatbank4_b_air</th>\n",
       "      <th>secondary_cleaner.state.floatbank4_b_level</th>\n",
       "      <th>secondary_cleaner.state.floatbank5_a_air</th>\n",
       "      <th>secondary_cleaner.state.floatbank5_a_level</th>\n",
       "      <th>secondary_cleaner.state.floatbank5_b_air</th>\n",
       "      <th>secondary_cleaner.state.floatbank5_b_level</th>\n",
       "      <th>secondary_cleaner.state.floatbank6_a_air</th>\n",
       "      <th>secondary_cleaner.state.floatbank6_a_level</th>\n",
       "    </tr>\n",
       "  </thead>\n",
       "  <tbody>\n",
       "    <tr>\n",
       "      <th>0</th>\n",
       "      <td>2016-09-01 00:59:59</td>\n",
       "      <td>210.800909</td>\n",
       "      <td>14.993118</td>\n",
       "      <td>8.080000</td>\n",
       "      <td>1.005021</td>\n",
       "      <td>1398.981301</td>\n",
       "      <td>-500.225577</td>\n",
       "      <td>1399.144926</td>\n",
       "      <td>-499.919735</td>\n",
       "      <td>1400.102998</td>\n",
       "      <td>...</td>\n",
       "      <td>12.023554</td>\n",
       "      <td>-497.795834</td>\n",
       "      <td>8.016656</td>\n",
       "      <td>-501.289139</td>\n",
       "      <td>7.946562</td>\n",
       "      <td>-432.317850</td>\n",
       "      <td>4.872511</td>\n",
       "      <td>-500.037437</td>\n",
       "      <td>26.705889</td>\n",
       "      <td>-499.709414</td>\n",
       "    </tr>\n",
       "    <tr>\n",
       "      <th>1</th>\n",
       "      <td>2016-09-01 01:59:59</td>\n",
       "      <td>215.392455</td>\n",
       "      <td>14.987471</td>\n",
       "      <td>8.080000</td>\n",
       "      <td>0.990469</td>\n",
       "      <td>1398.777912</td>\n",
       "      <td>-500.057435</td>\n",
       "      <td>1398.055362</td>\n",
       "      <td>-499.778182</td>\n",
       "      <td>1396.151033</td>\n",
       "      <td>...</td>\n",
       "      <td>12.058140</td>\n",
       "      <td>-498.695773</td>\n",
       "      <td>8.130979</td>\n",
       "      <td>-499.634209</td>\n",
       "      <td>7.958270</td>\n",
       "      <td>-525.839648</td>\n",
       "      <td>4.878850</td>\n",
       "      <td>-500.162375</td>\n",
       "      <td>25.019940</td>\n",
       "      <td>-499.819438</td>\n",
       "    </tr>\n",
       "    <tr>\n",
       "      <th>2</th>\n",
       "      <td>2016-09-01 02:59:59</td>\n",
       "      <td>215.259946</td>\n",
       "      <td>12.884934</td>\n",
       "      <td>7.786667</td>\n",
       "      <td>0.996043</td>\n",
       "      <td>1398.493666</td>\n",
       "      <td>-500.868360</td>\n",
       "      <td>1398.860436</td>\n",
       "      <td>-499.764529</td>\n",
       "      <td>1398.075709</td>\n",
       "      <td>...</td>\n",
       "      <td>11.962366</td>\n",
       "      <td>-498.767484</td>\n",
       "      <td>8.096893</td>\n",
       "      <td>-500.827423</td>\n",
       "      <td>8.071056</td>\n",
       "      <td>-500.801673</td>\n",
       "      <td>4.905125</td>\n",
       "      <td>-499.828510</td>\n",
       "      <td>24.994862</td>\n",
       "      <td>-500.622559</td>\n",
       "    </tr>\n",
       "    <tr>\n",
       "      <th>3</th>\n",
       "      <td>2016-09-01 03:59:59</td>\n",
       "      <td>215.336236</td>\n",
       "      <td>12.006805</td>\n",
       "      <td>7.640000</td>\n",
       "      <td>0.863514</td>\n",
       "      <td>1399.618111</td>\n",
       "      <td>-498.863574</td>\n",
       "      <td>1397.440120</td>\n",
       "      <td>-499.211024</td>\n",
       "      <td>1400.129303</td>\n",
       "      <td>...</td>\n",
       "      <td>12.033091</td>\n",
       "      <td>-498.350935</td>\n",
       "      <td>8.074946</td>\n",
       "      <td>-499.474407</td>\n",
       "      <td>7.897085</td>\n",
       "      <td>-500.868509</td>\n",
       "      <td>4.931400</td>\n",
       "      <td>-499.963623</td>\n",
       "      <td>24.948919</td>\n",
       "      <td>-498.709987</td>\n",
       "    </tr>\n",
       "    <tr>\n",
       "      <th>4</th>\n",
       "      <td>2016-09-01 04:59:59</td>\n",
       "      <td>199.099327</td>\n",
       "      <td>10.682530</td>\n",
       "      <td>7.530000</td>\n",
       "      <td>0.805575</td>\n",
       "      <td>1401.268123</td>\n",
       "      <td>-500.808305</td>\n",
       "      <td>1398.128818</td>\n",
       "      <td>-499.504543</td>\n",
       "      <td>1402.172226</td>\n",
       "      <td>...</td>\n",
       "      <td>12.025367</td>\n",
       "      <td>-500.786497</td>\n",
       "      <td>8.054678</td>\n",
       "      <td>-500.397500</td>\n",
       "      <td>8.107890</td>\n",
       "      <td>-509.526725</td>\n",
       "      <td>4.957674</td>\n",
       "      <td>-500.360026</td>\n",
       "      <td>25.003331</td>\n",
       "      <td>-500.856333</td>\n",
       "    </tr>\n",
       "  </tbody>\n",
       "</table>\n",
       "<p>5 rows × 53 columns</p>\n",
       "</div>"
      ],
      "text/plain": [
       "                  date  primary_cleaner.input.sulfate  \\\n",
       "0  2016-09-01 00:59:59                     210.800909   \n",
       "1  2016-09-01 01:59:59                     215.392455   \n",
       "2  2016-09-01 02:59:59                     215.259946   \n",
       "3  2016-09-01 03:59:59                     215.336236   \n",
       "4  2016-09-01 04:59:59                     199.099327   \n",
       "\n",
       "   primary_cleaner.input.depressant  primary_cleaner.input.feed_size  \\\n",
       "0                         14.993118                         8.080000   \n",
       "1                         14.987471                         8.080000   \n",
       "2                         12.884934                         7.786667   \n",
       "3                         12.006805                         7.640000   \n",
       "4                         10.682530                         7.530000   \n",
       "\n",
       "   primary_cleaner.input.xanthate  primary_cleaner.state.floatbank8_a_air  \\\n",
       "0                        1.005021                             1398.981301   \n",
       "1                        0.990469                             1398.777912   \n",
       "2                        0.996043                             1398.493666   \n",
       "3                        0.863514                             1399.618111   \n",
       "4                        0.805575                             1401.268123   \n",
       "\n",
       "   primary_cleaner.state.floatbank8_a_level  \\\n",
       "0                               -500.225577   \n",
       "1                               -500.057435   \n",
       "2                               -500.868360   \n",
       "3                               -498.863574   \n",
       "4                               -500.808305   \n",
       "\n",
       "   primary_cleaner.state.floatbank8_b_air  \\\n",
       "0                             1399.144926   \n",
       "1                             1398.055362   \n",
       "2                             1398.860436   \n",
       "3                             1397.440120   \n",
       "4                             1398.128818   \n",
       "\n",
       "   primary_cleaner.state.floatbank8_b_level  \\\n",
       "0                               -499.919735   \n",
       "1                               -499.778182   \n",
       "2                               -499.764529   \n",
       "3                               -499.211024   \n",
       "4                               -499.504543   \n",
       "\n",
       "   primary_cleaner.state.floatbank8_c_air  ...  \\\n",
       "0                             1400.102998  ...   \n",
       "1                             1396.151033  ...   \n",
       "2                             1398.075709  ...   \n",
       "3                             1400.129303  ...   \n",
       "4                             1402.172226  ...   \n",
       "\n",
       "   secondary_cleaner.state.floatbank4_a_air  \\\n",
       "0                                 12.023554   \n",
       "1                                 12.058140   \n",
       "2                                 11.962366   \n",
       "3                                 12.033091   \n",
       "4                                 12.025367   \n",
       "\n",
       "   secondary_cleaner.state.floatbank4_a_level  \\\n",
       "0                                 -497.795834   \n",
       "1                                 -498.695773   \n",
       "2                                 -498.767484   \n",
       "3                                 -498.350935   \n",
       "4                                 -500.786497   \n",
       "\n",
       "   secondary_cleaner.state.floatbank4_b_air  \\\n",
       "0                                  8.016656   \n",
       "1                                  8.130979   \n",
       "2                                  8.096893   \n",
       "3                                  8.074946   \n",
       "4                                  8.054678   \n",
       "\n",
       "   secondary_cleaner.state.floatbank4_b_level  \\\n",
       "0                                 -501.289139   \n",
       "1                                 -499.634209   \n",
       "2                                 -500.827423   \n",
       "3                                 -499.474407   \n",
       "4                                 -500.397500   \n",
       "\n",
       "   secondary_cleaner.state.floatbank5_a_air  \\\n",
       "0                                  7.946562   \n",
       "1                                  7.958270   \n",
       "2                                  8.071056   \n",
       "3                                  7.897085   \n",
       "4                                  8.107890   \n",
       "\n",
       "   secondary_cleaner.state.floatbank5_a_level  \\\n",
       "0                                 -432.317850   \n",
       "1                                 -525.839648   \n",
       "2                                 -500.801673   \n",
       "3                                 -500.868509   \n",
       "4                                 -509.526725   \n",
       "\n",
       "   secondary_cleaner.state.floatbank5_b_air  \\\n",
       "0                                  4.872511   \n",
       "1                                  4.878850   \n",
       "2                                  4.905125   \n",
       "3                                  4.931400   \n",
       "4                                  4.957674   \n",
       "\n",
       "   secondary_cleaner.state.floatbank5_b_level  \\\n",
       "0                                 -500.037437   \n",
       "1                                 -500.162375   \n",
       "2                                 -499.828510   \n",
       "3                                 -499.963623   \n",
       "4                                 -500.360026   \n",
       "\n",
       "   secondary_cleaner.state.floatbank6_a_air  \\\n",
       "0                                 26.705889   \n",
       "1                                 25.019940   \n",
       "2                                 24.994862   \n",
       "3                                 24.948919   \n",
       "4                                 25.003331   \n",
       "\n",
       "   secondary_cleaner.state.floatbank6_a_level  \n",
       "0                                 -499.709414  \n",
       "1                                 -499.819438  \n",
       "2                                 -500.622559  \n",
       "3                                 -498.709987  \n",
       "4                                 -500.856333  \n",
       "\n",
       "[5 rows x 53 columns]"
      ]
     },
     "execution_count": 8,
     "metadata": {},
     "output_type": "execute_result"
    }
   ],
   "source": [
    "df_test.head()"
   ]
  },
  {
   "cell_type": "code",
   "execution_count": 9,
   "metadata": {
    "scrolled": true
   },
   "outputs": [
    {
     "name": "stdout",
     "output_type": "stream",
     "text": [
      "<class 'pandas.core.frame.DataFrame'>\n",
      "RangeIndex: 5856 entries, 0 to 5855\n",
      "Data columns (total 53 columns):\n",
      " #   Column                                      Non-Null Count  Dtype  \n",
      "---  ------                                      --------------  -----  \n",
      " 0   date                                        5856 non-null   object \n",
      " 1   primary_cleaner.input.sulfate               5554 non-null   float64\n",
      " 2   primary_cleaner.input.depressant            5572 non-null   float64\n",
      " 3   primary_cleaner.input.feed_size             5856 non-null   float64\n",
      " 4   primary_cleaner.input.xanthate              5690 non-null   float64\n",
      " 5   primary_cleaner.state.floatbank8_a_air      5840 non-null   float64\n",
      " 6   primary_cleaner.state.floatbank8_a_level    5840 non-null   float64\n",
      " 7   primary_cleaner.state.floatbank8_b_air      5840 non-null   float64\n",
      " 8   primary_cleaner.state.floatbank8_b_level    5840 non-null   float64\n",
      " 9   primary_cleaner.state.floatbank8_c_air      5840 non-null   float64\n",
      " 10  primary_cleaner.state.floatbank8_c_level    5840 non-null   float64\n",
      " 11  primary_cleaner.state.floatbank8_d_air      5840 non-null   float64\n",
      " 12  primary_cleaner.state.floatbank8_d_level    5840 non-null   float64\n",
      " 13  rougher.input.feed_ag                       5840 non-null   float64\n",
      " 14  rougher.input.feed_pb                       5840 non-null   float64\n",
      " 15  rougher.input.feed_rate                     5816 non-null   float64\n",
      " 16  rougher.input.feed_size                     5834 non-null   float64\n",
      " 17  rougher.input.feed_sol                      5789 non-null   float64\n",
      " 18  rougher.input.feed_au                       5840 non-null   float64\n",
      " 19  rougher.input.floatbank10_sulfate           5599 non-null   float64\n",
      " 20  rougher.input.floatbank10_xanthate          5733 non-null   float64\n",
      " 21  rougher.input.floatbank11_sulfate           5801 non-null   float64\n",
      " 22  rougher.input.floatbank11_xanthate          5503 non-null   float64\n",
      " 23  rougher.state.floatbank10_a_air             5839 non-null   float64\n",
      " 24  rougher.state.floatbank10_a_level           5840 non-null   float64\n",
      " 25  rougher.state.floatbank10_b_air             5839 non-null   float64\n",
      " 26  rougher.state.floatbank10_b_level           5840 non-null   float64\n",
      " 27  rougher.state.floatbank10_c_air             5839 non-null   float64\n",
      " 28  rougher.state.floatbank10_c_level           5840 non-null   float64\n",
      " 29  rougher.state.floatbank10_d_air             5839 non-null   float64\n",
      " 30  rougher.state.floatbank10_d_level           5840 non-null   float64\n",
      " 31  rougher.state.floatbank10_e_air             5839 non-null   float64\n",
      " 32  rougher.state.floatbank10_e_level           5840 non-null   float64\n",
      " 33  rougher.state.floatbank10_f_air             5839 non-null   float64\n",
      " 34  rougher.state.floatbank10_f_level           5840 non-null   float64\n",
      " 35  secondary_cleaner.state.floatbank2_a_air    5836 non-null   float64\n",
      " 36  secondary_cleaner.state.floatbank2_a_level  5840 non-null   float64\n",
      " 37  secondary_cleaner.state.floatbank2_b_air    5833 non-null   float64\n",
      " 38  secondary_cleaner.state.floatbank2_b_level  5840 non-null   float64\n",
      " 39  secondary_cleaner.state.floatbank3_a_air    5822 non-null   float64\n",
      " 40  secondary_cleaner.state.floatbank3_a_level  5840 non-null   float64\n",
      " 41  secondary_cleaner.state.floatbank3_b_air    5840 non-null   float64\n",
      " 42  secondary_cleaner.state.floatbank3_b_level  5840 non-null   float64\n",
      " 43  secondary_cleaner.state.floatbank4_a_air    5840 non-null   float64\n",
      " 44  secondary_cleaner.state.floatbank4_a_level  5840 non-null   float64\n",
      " 45  secondary_cleaner.state.floatbank4_b_air    5840 non-null   float64\n",
      " 46  secondary_cleaner.state.floatbank4_b_level  5840 non-null   float64\n",
      " 47  secondary_cleaner.state.floatbank5_a_air    5840 non-null   float64\n",
      " 48  secondary_cleaner.state.floatbank5_a_level  5840 non-null   float64\n",
      " 49  secondary_cleaner.state.floatbank5_b_air    5840 non-null   float64\n",
      " 50  secondary_cleaner.state.floatbank5_b_level  5840 non-null   float64\n",
      " 51  secondary_cleaner.state.floatbank6_a_air    5840 non-null   float64\n",
      " 52  secondary_cleaner.state.floatbank6_a_level  5840 non-null   float64\n",
      "dtypes: float64(52), object(1)\n",
      "memory usage: 2.4+ MB\n"
     ]
    }
   ],
   "source": [
    "df_test.info()"
   ]
  },
  {
   "cell_type": "code",
   "execution_count": 10,
   "metadata": {},
   "outputs": [
    {
     "data": {
      "text/html": [
       "<div>\n",
       "<style scoped>\n",
       "    .dataframe tbody tr th:only-of-type {\n",
       "        vertical-align: middle;\n",
       "    }\n",
       "\n",
       "    .dataframe tbody tr th {\n",
       "        vertical-align: top;\n",
       "    }\n",
       "\n",
       "    .dataframe thead th {\n",
       "        text-align: right;\n",
       "    }\n",
       "</style>\n",
       "<table border=\"1\" class=\"dataframe\">\n",
       "  <thead>\n",
       "    <tr style=\"text-align: right;\">\n",
       "      <th></th>\n",
       "      <th>primary_cleaner.input.sulfate</th>\n",
       "      <th>primary_cleaner.input.depressant</th>\n",
       "      <th>primary_cleaner.input.feed_size</th>\n",
       "      <th>primary_cleaner.input.xanthate</th>\n",
       "      <th>primary_cleaner.state.floatbank8_a_air</th>\n",
       "      <th>primary_cleaner.state.floatbank8_a_level</th>\n",
       "      <th>primary_cleaner.state.floatbank8_b_air</th>\n",
       "      <th>primary_cleaner.state.floatbank8_b_level</th>\n",
       "      <th>primary_cleaner.state.floatbank8_c_air</th>\n",
       "      <th>primary_cleaner.state.floatbank8_c_level</th>\n",
       "      <th>...</th>\n",
       "      <th>secondary_cleaner.state.floatbank4_a_air</th>\n",
       "      <th>secondary_cleaner.state.floatbank4_a_level</th>\n",
       "      <th>secondary_cleaner.state.floatbank4_b_air</th>\n",
       "      <th>secondary_cleaner.state.floatbank4_b_level</th>\n",
       "      <th>secondary_cleaner.state.floatbank5_a_air</th>\n",
       "      <th>secondary_cleaner.state.floatbank5_a_level</th>\n",
       "      <th>secondary_cleaner.state.floatbank5_b_air</th>\n",
       "      <th>secondary_cleaner.state.floatbank5_b_level</th>\n",
       "      <th>secondary_cleaner.state.floatbank6_a_air</th>\n",
       "      <th>secondary_cleaner.state.floatbank6_a_level</th>\n",
       "    </tr>\n",
       "  </thead>\n",
       "  <tbody>\n",
       "    <tr>\n",
       "      <th>count</th>\n",
       "      <td>5554.000000</td>\n",
       "      <td>5572.000000</td>\n",
       "      <td>5856.000000</td>\n",
       "      <td>5690.000000</td>\n",
       "      <td>5840.000000</td>\n",
       "      <td>5840.000000</td>\n",
       "      <td>5840.000000</td>\n",
       "      <td>5840.000000</td>\n",
       "      <td>5840.000000</td>\n",
       "      <td>5840.000000</td>\n",
       "      <td>...</td>\n",
       "      <td>5840.000000</td>\n",
       "      <td>5840.000000</td>\n",
       "      <td>5840.000000</td>\n",
       "      <td>5840.000000</td>\n",
       "      <td>5840.000000</td>\n",
       "      <td>5840.000000</td>\n",
       "      <td>5840.000000</td>\n",
       "      <td>5840.000000</td>\n",
       "      <td>5840.000000</td>\n",
       "      <td>5840.000000</td>\n",
       "    </tr>\n",
       "    <tr>\n",
       "      <th>mean</th>\n",
       "      <td>170.515243</td>\n",
       "      <td>8.482873</td>\n",
       "      <td>7.264651</td>\n",
       "      <td>1.321420</td>\n",
       "      <td>1481.990241</td>\n",
       "      <td>-509.057796</td>\n",
       "      <td>1486.908670</td>\n",
       "      <td>-511.743956</td>\n",
       "      <td>1468.495216</td>\n",
       "      <td>-509.741212</td>\n",
       "      <td>...</td>\n",
       "      <td>15.636031</td>\n",
       "      <td>-516.266074</td>\n",
       "      <td>13.145702</td>\n",
       "      <td>-476.338907</td>\n",
       "      <td>12.308967</td>\n",
       "      <td>-512.208126</td>\n",
       "      <td>9.470986</td>\n",
       "      <td>-505.017827</td>\n",
       "      <td>16.678722</td>\n",
       "      <td>-512.351694</td>\n",
       "    </tr>\n",
       "    <tr>\n",
       "      <th>std</th>\n",
       "      <td>49.608602</td>\n",
       "      <td>3.353105</td>\n",
       "      <td>0.611526</td>\n",
       "      <td>0.693246</td>\n",
       "      <td>310.453166</td>\n",
       "      <td>61.339256</td>\n",
       "      <td>313.224286</td>\n",
       "      <td>67.139074</td>\n",
       "      <td>309.980748</td>\n",
       "      <td>62.671873</td>\n",
       "      <td>...</td>\n",
       "      <td>4.660835</td>\n",
       "      <td>62.756748</td>\n",
       "      <td>4.304086</td>\n",
       "      <td>105.549424</td>\n",
       "      <td>3.762827</td>\n",
       "      <td>58.864651</td>\n",
       "      <td>3.312471</td>\n",
       "      <td>68.785898</td>\n",
       "      <td>5.404514</td>\n",
       "      <td>69.919839</td>\n",
       "    </tr>\n",
       "    <tr>\n",
       "      <th>min</th>\n",
       "      <td>0.000103</td>\n",
       "      <td>0.000031</td>\n",
       "      <td>5.650000</td>\n",
       "      <td>0.000003</td>\n",
       "      <td>0.000000</td>\n",
       "      <td>-799.773788</td>\n",
       "      <td>0.000000</td>\n",
       "      <td>-800.029078</td>\n",
       "      <td>0.000000</td>\n",
       "      <td>-799.995127</td>\n",
       "      <td>...</td>\n",
       "      <td>0.000000</td>\n",
       "      <td>-799.798523</td>\n",
       "      <td>0.000000</td>\n",
       "      <td>-800.836914</td>\n",
       "      <td>-0.223393</td>\n",
       "      <td>-799.661076</td>\n",
       "      <td>0.528083</td>\n",
       "      <td>-800.220337</td>\n",
       "      <td>-0.079426</td>\n",
       "      <td>-809.859706</td>\n",
       "    </tr>\n",
       "    <tr>\n",
       "      <th>25%</th>\n",
       "      <td>143.340022</td>\n",
       "      <td>6.411500</td>\n",
       "      <td>6.885625</td>\n",
       "      <td>0.888769</td>\n",
       "      <td>1497.190681</td>\n",
       "      <td>-500.455211</td>\n",
       "      <td>1497.150234</td>\n",
       "      <td>-500.936639</td>\n",
       "      <td>1437.050321</td>\n",
       "      <td>-501.300441</td>\n",
       "      <td>...</td>\n",
       "      <td>12.057838</td>\n",
       "      <td>-501.054741</td>\n",
       "      <td>11.880119</td>\n",
       "      <td>-500.419113</td>\n",
       "      <td>10.123459</td>\n",
       "      <td>-500.879383</td>\n",
       "      <td>7.991208</td>\n",
       "      <td>-500.223089</td>\n",
       "      <td>13.012422</td>\n",
       "      <td>-500.833821</td>\n",
       "    </tr>\n",
       "    <tr>\n",
       "      <th>50%</th>\n",
       "      <td>176.103893</td>\n",
       "      <td>8.023252</td>\n",
       "      <td>7.259333</td>\n",
       "      <td>1.183362</td>\n",
       "      <td>1554.659783</td>\n",
       "      <td>-499.997402</td>\n",
       "      <td>1553.268084</td>\n",
       "      <td>-500.066588</td>\n",
       "      <td>1546.160672</td>\n",
       "      <td>-500.079537</td>\n",
       "      <td>...</td>\n",
       "      <td>17.001867</td>\n",
       "      <td>-500.160145</td>\n",
       "      <td>14.952102</td>\n",
       "      <td>-499.644328</td>\n",
       "      <td>12.062877</td>\n",
       "      <td>-500.047621</td>\n",
       "      <td>9.980774</td>\n",
       "      <td>-500.001338</td>\n",
       "      <td>16.007242</td>\n",
       "      <td>-500.041085</td>\n",
       "    </tr>\n",
       "    <tr>\n",
       "      <th>75%</th>\n",
       "      <td>207.240761</td>\n",
       "      <td>10.017725</td>\n",
       "      <td>7.650000</td>\n",
       "      <td>1.763797</td>\n",
       "      <td>1601.681656</td>\n",
       "      <td>-499.575313</td>\n",
       "      <td>1601.784707</td>\n",
       "      <td>-499.323361</td>\n",
       "      <td>1600.785573</td>\n",
       "      <td>-499.009545</td>\n",
       "      <td>...</td>\n",
       "      <td>18.030985</td>\n",
       "      <td>-499.441529</td>\n",
       "      <td>15.940011</td>\n",
       "      <td>-401.523664</td>\n",
       "      <td>15.017881</td>\n",
       "      <td>-499.297033</td>\n",
       "      <td>11.992176</td>\n",
       "      <td>-499.722835</td>\n",
       "      <td>21.009076</td>\n",
       "      <td>-499.395621</td>\n",
       "    </tr>\n",
       "    <tr>\n",
       "      <th>max</th>\n",
       "      <td>274.409626</td>\n",
       "      <td>40.024582</td>\n",
       "      <td>15.500000</td>\n",
       "      <td>5.433169</td>\n",
       "      <td>2212.432090</td>\n",
       "      <td>-57.195404</td>\n",
       "      <td>1975.147923</td>\n",
       "      <td>-142.527229</td>\n",
       "      <td>1715.053773</td>\n",
       "      <td>-150.937035</td>\n",
       "      <td>...</td>\n",
       "      <td>30.051797</td>\n",
       "      <td>-401.565212</td>\n",
       "      <td>31.269706</td>\n",
       "      <td>-6.506986</td>\n",
       "      <td>25.258848</td>\n",
       "      <td>-244.483566</td>\n",
       "      <td>14.090194</td>\n",
       "      <td>-126.463446</td>\n",
       "      <td>26.705889</td>\n",
       "      <td>-29.093593</td>\n",
       "    </tr>\n",
       "  </tbody>\n",
       "</table>\n",
       "<p>8 rows × 52 columns</p>\n",
       "</div>"
      ],
      "text/plain": [
       "       primary_cleaner.input.sulfate  primary_cleaner.input.depressant  \\\n",
       "count                    5554.000000                       5572.000000   \n",
       "mean                      170.515243                          8.482873   \n",
       "std                        49.608602                          3.353105   \n",
       "min                         0.000103                          0.000031   \n",
       "25%                       143.340022                          6.411500   \n",
       "50%                       176.103893                          8.023252   \n",
       "75%                       207.240761                         10.017725   \n",
       "max                       274.409626                         40.024582   \n",
       "\n",
       "       primary_cleaner.input.feed_size  primary_cleaner.input.xanthate  \\\n",
       "count                      5856.000000                     5690.000000   \n",
       "mean                          7.264651                        1.321420   \n",
       "std                           0.611526                        0.693246   \n",
       "min                           5.650000                        0.000003   \n",
       "25%                           6.885625                        0.888769   \n",
       "50%                           7.259333                        1.183362   \n",
       "75%                           7.650000                        1.763797   \n",
       "max                          15.500000                        5.433169   \n",
       "\n",
       "       primary_cleaner.state.floatbank8_a_air  \\\n",
       "count                             5840.000000   \n",
       "mean                              1481.990241   \n",
       "std                                310.453166   \n",
       "min                                  0.000000   \n",
       "25%                               1497.190681   \n",
       "50%                               1554.659783   \n",
       "75%                               1601.681656   \n",
       "max                               2212.432090   \n",
       "\n",
       "       primary_cleaner.state.floatbank8_a_level  \\\n",
       "count                               5840.000000   \n",
       "mean                                -509.057796   \n",
       "std                                   61.339256   \n",
       "min                                 -799.773788   \n",
       "25%                                 -500.455211   \n",
       "50%                                 -499.997402   \n",
       "75%                                 -499.575313   \n",
       "max                                  -57.195404   \n",
       "\n",
       "       primary_cleaner.state.floatbank8_b_air  \\\n",
       "count                             5840.000000   \n",
       "mean                              1486.908670   \n",
       "std                                313.224286   \n",
       "min                                  0.000000   \n",
       "25%                               1497.150234   \n",
       "50%                               1553.268084   \n",
       "75%                               1601.784707   \n",
       "max                               1975.147923   \n",
       "\n",
       "       primary_cleaner.state.floatbank8_b_level  \\\n",
       "count                               5840.000000   \n",
       "mean                                -511.743956   \n",
       "std                                   67.139074   \n",
       "min                                 -800.029078   \n",
       "25%                                 -500.936639   \n",
       "50%                                 -500.066588   \n",
       "75%                                 -499.323361   \n",
       "max                                 -142.527229   \n",
       "\n",
       "       primary_cleaner.state.floatbank8_c_air  \\\n",
       "count                             5840.000000   \n",
       "mean                              1468.495216   \n",
       "std                                309.980748   \n",
       "min                                  0.000000   \n",
       "25%                               1437.050321   \n",
       "50%                               1546.160672   \n",
       "75%                               1600.785573   \n",
       "max                               1715.053773   \n",
       "\n",
       "       primary_cleaner.state.floatbank8_c_level  ...  \\\n",
       "count                               5840.000000  ...   \n",
       "mean                                -509.741212  ...   \n",
       "std                                   62.671873  ...   \n",
       "min                                 -799.995127  ...   \n",
       "25%                                 -501.300441  ...   \n",
       "50%                                 -500.079537  ...   \n",
       "75%                                 -499.009545  ...   \n",
       "max                                 -150.937035  ...   \n",
       "\n",
       "       secondary_cleaner.state.floatbank4_a_air  \\\n",
       "count                               5840.000000   \n",
       "mean                                  15.636031   \n",
       "std                                    4.660835   \n",
       "min                                    0.000000   \n",
       "25%                                   12.057838   \n",
       "50%                                   17.001867   \n",
       "75%                                   18.030985   \n",
       "max                                   30.051797   \n",
       "\n",
       "       secondary_cleaner.state.floatbank4_a_level  \\\n",
       "count                                 5840.000000   \n",
       "mean                                  -516.266074   \n",
       "std                                     62.756748   \n",
       "min                                   -799.798523   \n",
       "25%                                   -501.054741   \n",
       "50%                                   -500.160145   \n",
       "75%                                   -499.441529   \n",
       "max                                   -401.565212   \n",
       "\n",
       "       secondary_cleaner.state.floatbank4_b_air  \\\n",
       "count                               5840.000000   \n",
       "mean                                  13.145702   \n",
       "std                                    4.304086   \n",
       "min                                    0.000000   \n",
       "25%                                   11.880119   \n",
       "50%                                   14.952102   \n",
       "75%                                   15.940011   \n",
       "max                                   31.269706   \n",
       "\n",
       "       secondary_cleaner.state.floatbank4_b_level  \\\n",
       "count                                 5840.000000   \n",
       "mean                                  -476.338907   \n",
       "std                                    105.549424   \n",
       "min                                   -800.836914   \n",
       "25%                                   -500.419113   \n",
       "50%                                   -499.644328   \n",
       "75%                                   -401.523664   \n",
       "max                                     -6.506986   \n",
       "\n",
       "       secondary_cleaner.state.floatbank5_a_air  \\\n",
       "count                               5840.000000   \n",
       "mean                                  12.308967   \n",
       "std                                    3.762827   \n",
       "min                                   -0.223393   \n",
       "25%                                   10.123459   \n",
       "50%                                   12.062877   \n",
       "75%                                   15.017881   \n",
       "max                                   25.258848   \n",
       "\n",
       "       secondary_cleaner.state.floatbank5_a_level  \\\n",
       "count                                 5840.000000   \n",
       "mean                                  -512.208126   \n",
       "std                                     58.864651   \n",
       "min                                   -799.661076   \n",
       "25%                                   -500.879383   \n",
       "50%                                   -500.047621   \n",
       "75%                                   -499.297033   \n",
       "max                                   -244.483566   \n",
       "\n",
       "       secondary_cleaner.state.floatbank5_b_air  \\\n",
       "count                               5840.000000   \n",
       "mean                                   9.470986   \n",
       "std                                    3.312471   \n",
       "min                                    0.528083   \n",
       "25%                                    7.991208   \n",
       "50%                                    9.980774   \n",
       "75%                                   11.992176   \n",
       "max                                   14.090194   \n",
       "\n",
       "       secondary_cleaner.state.floatbank5_b_level  \\\n",
       "count                                 5840.000000   \n",
       "mean                                  -505.017827   \n",
       "std                                     68.785898   \n",
       "min                                   -800.220337   \n",
       "25%                                   -500.223089   \n",
       "50%                                   -500.001338   \n",
       "75%                                   -499.722835   \n",
       "max                                   -126.463446   \n",
       "\n",
       "       secondary_cleaner.state.floatbank6_a_air  \\\n",
       "count                               5840.000000   \n",
       "mean                                  16.678722   \n",
       "std                                    5.404514   \n",
       "min                                   -0.079426   \n",
       "25%                                   13.012422   \n",
       "50%                                   16.007242   \n",
       "75%                                   21.009076   \n",
       "max                                   26.705889   \n",
       "\n",
       "       secondary_cleaner.state.floatbank6_a_level  \n",
       "count                                 5840.000000  \n",
       "mean                                  -512.351694  \n",
       "std                                     69.919839  \n",
       "min                                   -809.859706  \n",
       "25%                                   -500.833821  \n",
       "50%                                   -500.041085  \n",
       "75%                                   -499.395621  \n",
       "max                                    -29.093593  \n",
       "\n",
       "[8 rows x 52 columns]"
      ]
     },
     "execution_count": 10,
     "metadata": {},
     "output_type": "execute_result"
    }
   ],
   "source": [
    "df_test.describe()"
   ]
  },
  {
   "cell_type": "markdown",
   "metadata": {},
   "source": [
    "### Dataset full"
   ]
  },
  {
   "cell_type": "code",
   "execution_count": 11,
   "metadata": {},
   "outputs": [
    {
     "data": {
      "text/plain": [
       "(22716, 87)"
      ]
     },
     "execution_count": 11,
     "metadata": {},
     "output_type": "execute_result"
    }
   ],
   "source": [
    "df_full.shape"
   ]
  },
  {
   "cell_type": "code",
   "execution_count": 12,
   "metadata": {},
   "outputs": [
    {
     "data": {
      "text/html": [
       "<div>\n",
       "<style scoped>\n",
       "    .dataframe tbody tr th:only-of-type {\n",
       "        vertical-align: middle;\n",
       "    }\n",
       "\n",
       "    .dataframe tbody tr th {\n",
       "        vertical-align: top;\n",
       "    }\n",
       "\n",
       "    .dataframe thead th {\n",
       "        text-align: right;\n",
       "    }\n",
       "</style>\n",
       "<table border=\"1\" class=\"dataframe\">\n",
       "  <thead>\n",
       "    <tr style=\"text-align: right;\">\n",
       "      <th></th>\n",
       "      <th>date</th>\n",
       "      <th>final.output.concentrate_ag</th>\n",
       "      <th>final.output.concentrate_pb</th>\n",
       "      <th>final.output.concentrate_sol</th>\n",
       "      <th>final.output.concentrate_au</th>\n",
       "      <th>final.output.recovery</th>\n",
       "      <th>final.output.tail_ag</th>\n",
       "      <th>final.output.tail_pb</th>\n",
       "      <th>final.output.tail_sol</th>\n",
       "      <th>final.output.tail_au</th>\n",
       "      <th>...</th>\n",
       "      <th>secondary_cleaner.state.floatbank4_a_air</th>\n",
       "      <th>secondary_cleaner.state.floatbank4_a_level</th>\n",
       "      <th>secondary_cleaner.state.floatbank4_b_air</th>\n",
       "      <th>secondary_cleaner.state.floatbank4_b_level</th>\n",
       "      <th>secondary_cleaner.state.floatbank5_a_air</th>\n",
       "      <th>secondary_cleaner.state.floatbank5_a_level</th>\n",
       "      <th>secondary_cleaner.state.floatbank5_b_air</th>\n",
       "      <th>secondary_cleaner.state.floatbank5_b_level</th>\n",
       "      <th>secondary_cleaner.state.floatbank6_a_air</th>\n",
       "      <th>secondary_cleaner.state.floatbank6_a_level</th>\n",
       "    </tr>\n",
       "  </thead>\n",
       "  <tbody>\n",
       "    <tr>\n",
       "      <th>0</th>\n",
       "      <td>2016-01-15 00:00:00</td>\n",
       "      <td>6.055403</td>\n",
       "      <td>9.889648</td>\n",
       "      <td>5.507324</td>\n",
       "      <td>42.192020</td>\n",
       "      <td>70.541216</td>\n",
       "      <td>10.411962</td>\n",
       "      <td>0.895447</td>\n",
       "      <td>16.904297</td>\n",
       "      <td>2.143149</td>\n",
       "      <td>...</td>\n",
       "      <td>14.016835</td>\n",
       "      <td>-502.488007</td>\n",
       "      <td>12.099931</td>\n",
       "      <td>-504.715942</td>\n",
       "      <td>9.925633</td>\n",
       "      <td>-498.310211</td>\n",
       "      <td>8.079666</td>\n",
       "      <td>-500.470978</td>\n",
       "      <td>14.151341</td>\n",
       "      <td>-605.841980</td>\n",
       "    </tr>\n",
       "    <tr>\n",
       "      <th>1</th>\n",
       "      <td>2016-01-15 01:00:00</td>\n",
       "      <td>6.029369</td>\n",
       "      <td>9.968944</td>\n",
       "      <td>5.257781</td>\n",
       "      <td>42.701629</td>\n",
       "      <td>69.266198</td>\n",
       "      <td>10.462676</td>\n",
       "      <td>0.927452</td>\n",
       "      <td>16.634514</td>\n",
       "      <td>2.224930</td>\n",
       "      <td>...</td>\n",
       "      <td>13.992281</td>\n",
       "      <td>-505.503262</td>\n",
       "      <td>11.950531</td>\n",
       "      <td>-501.331529</td>\n",
       "      <td>10.039245</td>\n",
       "      <td>-500.169983</td>\n",
       "      <td>7.984757</td>\n",
       "      <td>-500.582168</td>\n",
       "      <td>13.998353</td>\n",
       "      <td>-599.787184</td>\n",
       "    </tr>\n",
       "    <tr>\n",
       "      <th>2</th>\n",
       "      <td>2016-01-15 02:00:00</td>\n",
       "      <td>6.055926</td>\n",
       "      <td>10.213995</td>\n",
       "      <td>5.383759</td>\n",
       "      <td>42.657501</td>\n",
       "      <td>68.116445</td>\n",
       "      <td>10.507046</td>\n",
       "      <td>0.953716</td>\n",
       "      <td>16.208849</td>\n",
       "      <td>2.257889</td>\n",
       "      <td>...</td>\n",
       "      <td>14.015015</td>\n",
       "      <td>-502.520901</td>\n",
       "      <td>11.912783</td>\n",
       "      <td>-501.133383</td>\n",
       "      <td>10.070913</td>\n",
       "      <td>-500.129135</td>\n",
       "      <td>8.013877</td>\n",
       "      <td>-500.517572</td>\n",
       "      <td>14.028663</td>\n",
       "      <td>-601.427363</td>\n",
       "    </tr>\n",
       "    <tr>\n",
       "      <th>3</th>\n",
       "      <td>2016-01-15 03:00:00</td>\n",
       "      <td>6.047977</td>\n",
       "      <td>9.977019</td>\n",
       "      <td>4.858634</td>\n",
       "      <td>42.689819</td>\n",
       "      <td>68.347543</td>\n",
       "      <td>10.422762</td>\n",
       "      <td>0.883763</td>\n",
       "      <td>16.532835</td>\n",
       "      <td>2.146849</td>\n",
       "      <td>...</td>\n",
       "      <td>14.036510</td>\n",
       "      <td>-500.857308</td>\n",
       "      <td>11.999550</td>\n",
       "      <td>-501.193686</td>\n",
       "      <td>9.970366</td>\n",
       "      <td>-499.201640</td>\n",
       "      <td>7.977324</td>\n",
       "      <td>-500.255908</td>\n",
       "      <td>14.005551</td>\n",
       "      <td>-599.996129</td>\n",
       "    </tr>\n",
       "    <tr>\n",
       "      <th>4</th>\n",
       "      <td>2016-01-15 04:00:00</td>\n",
       "      <td>6.148599</td>\n",
       "      <td>10.142511</td>\n",
       "      <td>4.939416</td>\n",
       "      <td>42.774141</td>\n",
       "      <td>66.927016</td>\n",
       "      <td>10.360302</td>\n",
       "      <td>0.792826</td>\n",
       "      <td>16.525686</td>\n",
       "      <td>2.055292</td>\n",
       "      <td>...</td>\n",
       "      <td>14.027298</td>\n",
       "      <td>-499.838632</td>\n",
       "      <td>11.953070</td>\n",
       "      <td>-501.053894</td>\n",
       "      <td>9.925709</td>\n",
       "      <td>-501.686727</td>\n",
       "      <td>7.894242</td>\n",
       "      <td>-500.356035</td>\n",
       "      <td>13.996647</td>\n",
       "      <td>-601.496691</td>\n",
       "    </tr>\n",
       "  </tbody>\n",
       "</table>\n",
       "<p>5 rows × 87 columns</p>\n",
       "</div>"
      ],
      "text/plain": [
       "                  date  final.output.concentrate_ag  \\\n",
       "0  2016-01-15 00:00:00                     6.055403   \n",
       "1  2016-01-15 01:00:00                     6.029369   \n",
       "2  2016-01-15 02:00:00                     6.055926   \n",
       "3  2016-01-15 03:00:00                     6.047977   \n",
       "4  2016-01-15 04:00:00                     6.148599   \n",
       "\n",
       "   final.output.concentrate_pb  final.output.concentrate_sol  \\\n",
       "0                     9.889648                      5.507324   \n",
       "1                     9.968944                      5.257781   \n",
       "2                    10.213995                      5.383759   \n",
       "3                     9.977019                      4.858634   \n",
       "4                    10.142511                      4.939416   \n",
       "\n",
       "   final.output.concentrate_au  final.output.recovery  final.output.tail_ag  \\\n",
       "0                    42.192020              70.541216             10.411962   \n",
       "1                    42.701629              69.266198             10.462676   \n",
       "2                    42.657501              68.116445             10.507046   \n",
       "3                    42.689819              68.347543             10.422762   \n",
       "4                    42.774141              66.927016             10.360302   \n",
       "\n",
       "   final.output.tail_pb  final.output.tail_sol  final.output.tail_au  ...  \\\n",
       "0              0.895447              16.904297              2.143149  ...   \n",
       "1              0.927452              16.634514              2.224930  ...   \n",
       "2              0.953716              16.208849              2.257889  ...   \n",
       "3              0.883763              16.532835              2.146849  ...   \n",
       "4              0.792826              16.525686              2.055292  ...   \n",
       "\n",
       "   secondary_cleaner.state.floatbank4_a_air  \\\n",
       "0                                 14.016835   \n",
       "1                                 13.992281   \n",
       "2                                 14.015015   \n",
       "3                                 14.036510   \n",
       "4                                 14.027298   \n",
       "\n",
       "   secondary_cleaner.state.floatbank4_a_level  \\\n",
       "0                                 -502.488007   \n",
       "1                                 -505.503262   \n",
       "2                                 -502.520901   \n",
       "3                                 -500.857308   \n",
       "4                                 -499.838632   \n",
       "\n",
       "   secondary_cleaner.state.floatbank4_b_air  \\\n",
       "0                                 12.099931   \n",
       "1                                 11.950531   \n",
       "2                                 11.912783   \n",
       "3                                 11.999550   \n",
       "4                                 11.953070   \n",
       "\n",
       "   secondary_cleaner.state.floatbank4_b_level  \\\n",
       "0                                 -504.715942   \n",
       "1                                 -501.331529   \n",
       "2                                 -501.133383   \n",
       "3                                 -501.193686   \n",
       "4                                 -501.053894   \n",
       "\n",
       "   secondary_cleaner.state.floatbank5_a_air  \\\n",
       "0                                  9.925633   \n",
       "1                                 10.039245   \n",
       "2                                 10.070913   \n",
       "3                                  9.970366   \n",
       "4                                  9.925709   \n",
       "\n",
       "   secondary_cleaner.state.floatbank5_a_level  \\\n",
       "0                                 -498.310211   \n",
       "1                                 -500.169983   \n",
       "2                                 -500.129135   \n",
       "3                                 -499.201640   \n",
       "4                                 -501.686727   \n",
       "\n",
       "   secondary_cleaner.state.floatbank5_b_air  \\\n",
       "0                                  8.079666   \n",
       "1                                  7.984757   \n",
       "2                                  8.013877   \n",
       "3                                  7.977324   \n",
       "4                                  7.894242   \n",
       "\n",
       "   secondary_cleaner.state.floatbank5_b_level  \\\n",
       "0                                 -500.470978   \n",
       "1                                 -500.582168   \n",
       "2                                 -500.517572   \n",
       "3                                 -500.255908   \n",
       "4                                 -500.356035   \n",
       "\n",
       "   secondary_cleaner.state.floatbank6_a_air  \\\n",
       "0                                 14.151341   \n",
       "1                                 13.998353   \n",
       "2                                 14.028663   \n",
       "3                                 14.005551   \n",
       "4                                 13.996647   \n",
       "\n",
       "   secondary_cleaner.state.floatbank6_a_level  \n",
       "0                                 -605.841980  \n",
       "1                                 -599.787184  \n",
       "2                                 -601.427363  \n",
       "3                                 -599.996129  \n",
       "4                                 -601.496691  \n",
       "\n",
       "[5 rows x 87 columns]"
      ]
     },
     "execution_count": 12,
     "metadata": {},
     "output_type": "execute_result"
    }
   ],
   "source": [
    "df_full.head()"
   ]
  },
  {
   "cell_type": "code",
   "execution_count": 13,
   "metadata": {
    "scrolled": true
   },
   "outputs": [
    {
     "name": "stdout",
     "output_type": "stream",
     "text": [
      "<class 'pandas.core.frame.DataFrame'>\n",
      "RangeIndex: 22716 entries, 0 to 22715\n",
      "Data columns (total 87 columns):\n",
      " #   Column                                              Non-Null Count  Dtype  \n",
      "---  ------                                              --------------  -----  \n",
      " 0   date                                                22716 non-null  object \n",
      " 1   final.output.concentrate_ag                         22627 non-null  float64\n",
      " 2   final.output.concentrate_pb                         22629 non-null  float64\n",
      " 3   final.output.concentrate_sol                        22331 non-null  float64\n",
      " 4   final.output.concentrate_au                         22630 non-null  float64\n",
      " 5   final.output.recovery                               20753 non-null  float64\n",
      " 6   final.output.tail_ag                                22633 non-null  float64\n",
      " 7   final.output.tail_pb                                22516 non-null  float64\n",
      " 8   final.output.tail_sol                               22445 non-null  float64\n",
      " 9   final.output.tail_au                                22635 non-null  float64\n",
      " 10  primary_cleaner.input.sulfate                       21107 non-null  float64\n",
      " 11  primary_cleaner.input.depressant                    21170 non-null  float64\n",
      " 12  primary_cleaner.input.feed_size                     22716 non-null  float64\n",
      " 13  primary_cleaner.input.xanthate                      21565 non-null  float64\n",
      " 14  primary_cleaner.output.concentrate_ag               22618 non-null  float64\n",
      " 15  primary_cleaner.output.concentrate_pb               22268 non-null  float64\n",
      " 16  primary_cleaner.output.concentrate_sol              21918 non-null  float64\n",
      " 17  primary_cleaner.output.concentrate_au               22618 non-null  float64\n",
      " 18  primary_cleaner.output.tail_ag                      22614 non-null  float64\n",
      " 19  primary_cleaner.output.tail_pb                      22594 non-null  float64\n",
      " 20  primary_cleaner.output.tail_sol                     22365 non-null  float64\n",
      " 21  primary_cleaner.output.tail_au                      22617 non-null  float64\n",
      " 22  primary_cleaner.state.floatbank8_a_air              22660 non-null  float64\n",
      " 23  primary_cleaner.state.floatbank8_a_level            22667 non-null  float64\n",
      " 24  primary_cleaner.state.floatbank8_b_air              22660 non-null  float64\n",
      " 25  primary_cleaner.state.floatbank8_b_level            22673 non-null  float64\n",
      " 26  primary_cleaner.state.floatbank8_c_air              22662 non-null  float64\n",
      " 27  primary_cleaner.state.floatbank8_c_level            22673 non-null  float64\n",
      " 28  primary_cleaner.state.floatbank8_d_air              22661 non-null  float64\n",
      " 29  primary_cleaner.state.floatbank8_d_level            22673 non-null  float64\n",
      " 30  rougher.calculation.sulfate_to_au_concentrate       22672 non-null  float64\n",
      " 31  rougher.calculation.floatbank10_sulfate_to_au_feed  22672 non-null  float64\n",
      " 32  rougher.calculation.floatbank11_sulfate_to_au_feed  22672 non-null  float64\n",
      " 33  rougher.calculation.au_pb_ratio                     21089 non-null  float64\n",
      " 34  rougher.input.feed_ag                               22618 non-null  float64\n",
      " 35  rougher.input.feed_pb                               22472 non-null  float64\n",
      " 36  rougher.input.feed_rate                             22163 non-null  float64\n",
      " 37  rougher.input.feed_size                             22277 non-null  float64\n",
      " 38  rougher.input.feed_sol                              22357 non-null  float64\n",
      " 39  rougher.input.feed_au                               22617 non-null  float64\n",
      " 40  rougher.input.floatbank10_sulfate                   21415 non-null  float64\n",
      " 41  rougher.input.floatbank10_xanthate                  22247 non-null  float64\n",
      " 42  rougher.input.floatbank11_sulfate                   22038 non-null  float64\n",
      " 43  rougher.input.floatbank11_xanthate                  20459 non-null  float64\n",
      " 44  rougher.output.concentrate_ag                       22618 non-null  float64\n",
      " 45  rougher.output.concentrate_pb                       22618 non-null  float64\n",
      " 46  rougher.output.concentrate_sol                      22526 non-null  float64\n",
      " 47  rougher.output.concentrate_au                       22618 non-null  float64\n",
      " 48  rougher.output.recovery                             19597 non-null  float64\n",
      " 49  rougher.output.tail_ag                              19979 non-null  float64\n",
      " 50  rougher.output.tail_pb                              22618 non-null  float64\n",
      " 51  rougher.output.tail_sol                             19980 non-null  float64\n",
      " 52  rougher.output.tail_au                              19980 non-null  float64\n",
      " 53  rougher.state.floatbank10_a_air                     22646 non-null  float64\n",
      " 54  rougher.state.floatbank10_a_level                   22647 non-null  float64\n",
      " 55  rougher.state.floatbank10_b_air                     22646 non-null  float64\n",
      " 56  rougher.state.floatbank10_b_level                   22647 non-null  float64\n",
      " 57  rougher.state.floatbank10_c_air                     22646 non-null  float64\n",
      " 58  rougher.state.floatbank10_c_level                   22654 non-null  float64\n",
      " 59  rougher.state.floatbank10_d_air                     22641 non-null  float64\n",
      " 60  rougher.state.floatbank10_d_level                   22649 non-null  float64\n",
      " 61  rougher.state.floatbank10_e_air                     22096 non-null  float64\n",
      " 62  rougher.state.floatbank10_e_level                   22649 non-null  float64\n",
      " 63  rougher.state.floatbank10_f_air                     22641 non-null  float64\n",
      " 64  rougher.state.floatbank10_f_level                   22642 non-null  float64\n",
      " 65  secondary_cleaner.output.tail_ag                    22616 non-null  float64\n",
      " 66  secondary_cleaner.output.tail_pb                    22600 non-null  float64\n",
      " 67  secondary_cleaner.output.tail_sol                   20501 non-null  float64\n",
      " 68  secondary_cleaner.output.tail_au                    22618 non-null  float64\n",
      " 69  secondary_cleaner.state.floatbank2_a_air            22333 non-null  float64\n",
      " 70  secondary_cleaner.state.floatbank2_a_level          22591 non-null  float64\n",
      " 71  secondary_cleaner.state.floatbank2_b_air            22538 non-null  float64\n",
      " 72  secondary_cleaner.state.floatbank2_b_level          22588 non-null  float64\n",
      " 73  secondary_cleaner.state.floatbank3_a_air            22585 non-null  float64\n",
      " 74  secondary_cleaner.state.floatbank3_a_level          22587 non-null  float64\n",
      " 75  secondary_cleaner.state.floatbank3_b_air            22592 non-null  float64\n",
      " 76  secondary_cleaner.state.floatbank3_b_level          22590 non-null  float64\n",
      " 77  secondary_cleaner.state.floatbank4_a_air            22571 non-null  float64\n",
      " 78  secondary_cleaner.state.floatbank4_a_level          22587 non-null  float64\n",
      " 79  secondary_cleaner.state.floatbank4_b_air            22608 non-null  float64\n",
      " 80  secondary_cleaner.state.floatbank4_b_level          22607 non-null  float64\n",
      " 81  secondary_cleaner.state.floatbank5_a_air            22615 non-null  float64\n",
      " 82  secondary_cleaner.state.floatbank5_a_level          22615 non-null  float64\n",
      " 83  secondary_cleaner.state.floatbank5_b_air            22615 non-null  float64\n",
      " 84  secondary_cleaner.state.floatbank5_b_level          22616 non-null  float64\n",
      " 85  secondary_cleaner.state.floatbank6_a_air            22597 non-null  float64\n",
      " 86  secondary_cleaner.state.floatbank6_a_level          22615 non-null  float64\n",
      "dtypes: float64(86), object(1)\n",
      "memory usage: 15.1+ MB\n"
     ]
    }
   ],
   "source": [
    "df_full.info()"
   ]
  },
  {
   "cell_type": "code",
   "execution_count": 14,
   "metadata": {},
   "outputs": [
    {
     "data": {
      "text/html": [
       "<div>\n",
       "<style scoped>\n",
       "    .dataframe tbody tr th:only-of-type {\n",
       "        vertical-align: middle;\n",
       "    }\n",
       "\n",
       "    .dataframe tbody tr th {\n",
       "        vertical-align: top;\n",
       "    }\n",
       "\n",
       "    .dataframe thead th {\n",
       "        text-align: right;\n",
       "    }\n",
       "</style>\n",
       "<table border=\"1\" class=\"dataframe\">\n",
       "  <thead>\n",
       "    <tr style=\"text-align: right;\">\n",
       "      <th></th>\n",
       "      <th>final.output.concentrate_ag</th>\n",
       "      <th>final.output.concentrate_pb</th>\n",
       "      <th>final.output.concentrate_sol</th>\n",
       "      <th>final.output.concentrate_au</th>\n",
       "      <th>final.output.recovery</th>\n",
       "      <th>final.output.tail_ag</th>\n",
       "      <th>final.output.tail_pb</th>\n",
       "      <th>final.output.tail_sol</th>\n",
       "      <th>final.output.tail_au</th>\n",
       "      <th>primary_cleaner.input.sulfate</th>\n",
       "      <th>...</th>\n",
       "      <th>secondary_cleaner.state.floatbank4_a_air</th>\n",
       "      <th>secondary_cleaner.state.floatbank4_a_level</th>\n",
       "      <th>secondary_cleaner.state.floatbank4_b_air</th>\n",
       "      <th>secondary_cleaner.state.floatbank4_b_level</th>\n",
       "      <th>secondary_cleaner.state.floatbank5_a_air</th>\n",
       "      <th>secondary_cleaner.state.floatbank5_a_level</th>\n",
       "      <th>secondary_cleaner.state.floatbank5_b_air</th>\n",
       "      <th>secondary_cleaner.state.floatbank5_b_level</th>\n",
       "      <th>secondary_cleaner.state.floatbank6_a_air</th>\n",
       "      <th>secondary_cleaner.state.floatbank6_a_level</th>\n",
       "    </tr>\n",
       "  </thead>\n",
       "  <tbody>\n",
       "    <tr>\n",
       "      <th>count</th>\n",
       "      <td>22627.000000</td>\n",
       "      <td>22629.000000</td>\n",
       "      <td>22331.000000</td>\n",
       "      <td>22630.000000</td>\n",
       "      <td>20753.000000</td>\n",
       "      <td>22633.000000</td>\n",
       "      <td>22516.000000</td>\n",
       "      <td>22445.000000</td>\n",
       "      <td>22635.000000</td>\n",
       "      <td>21107.000000</td>\n",
       "      <td>...</td>\n",
       "      <td>22571.000000</td>\n",
       "      <td>22587.000000</td>\n",
       "      <td>22608.000000</td>\n",
       "      <td>22607.000000</td>\n",
       "      <td>22615.000000</td>\n",
       "      <td>22615.000000</td>\n",
       "      <td>22615.000000</td>\n",
       "      <td>22616.000000</td>\n",
       "      <td>22597.000000</td>\n",
       "      <td>22615.000000</td>\n",
       "    </tr>\n",
       "    <tr>\n",
       "      <th>mean</th>\n",
       "      <td>4.781559</td>\n",
       "      <td>9.095308</td>\n",
       "      <td>8.640317</td>\n",
       "      <td>40.001172</td>\n",
       "      <td>67.447488</td>\n",
       "      <td>8.923690</td>\n",
       "      <td>2.488252</td>\n",
       "      <td>9.523632</td>\n",
       "      <td>2.827459</td>\n",
       "      <td>140.277672</td>\n",
       "      <td>...</td>\n",
       "      <td>18.205125</td>\n",
       "      <td>-499.878977</td>\n",
       "      <td>14.356474</td>\n",
       "      <td>-476.532613</td>\n",
       "      <td>14.883276</td>\n",
       "      <td>-503.323288</td>\n",
       "      <td>11.626743</td>\n",
       "      <td>-500.521502</td>\n",
       "      <td>17.976810</td>\n",
       "      <td>-519.361465</td>\n",
       "    </tr>\n",
       "    <tr>\n",
       "      <th>std</th>\n",
       "      <td>2.030128</td>\n",
       "      <td>3.230797</td>\n",
       "      <td>3.785035</td>\n",
       "      <td>13.398062</td>\n",
       "      <td>11.616034</td>\n",
       "      <td>3.517917</td>\n",
       "      <td>1.189407</td>\n",
       "      <td>4.079739</td>\n",
       "      <td>1.262834</td>\n",
       "      <td>49.919004</td>\n",
       "      <td>...</td>\n",
       "      <td>6.560700</td>\n",
       "      <td>80.273964</td>\n",
       "      <td>5.655791</td>\n",
       "      <td>93.822791</td>\n",
       "      <td>6.372811</td>\n",
       "      <td>72.925589</td>\n",
       "      <td>5.757449</td>\n",
       "      <td>78.956292</td>\n",
       "      <td>6.636203</td>\n",
       "      <td>75.477151</td>\n",
       "    </tr>\n",
       "    <tr>\n",
       "      <th>min</th>\n",
       "      <td>0.000000</td>\n",
       "      <td>0.000000</td>\n",
       "      <td>0.000000</td>\n",
       "      <td>0.000000</td>\n",
       "      <td>0.000000</td>\n",
       "      <td>0.000000</td>\n",
       "      <td>0.000000</td>\n",
       "      <td>0.000000</td>\n",
       "      <td>0.000000</td>\n",
       "      <td>0.000003</td>\n",
       "      <td>...</td>\n",
       "      <td>0.000000</td>\n",
       "      <td>-799.920713</td>\n",
       "      <td>0.000000</td>\n",
       "      <td>-800.836914</td>\n",
       "      <td>-0.423260</td>\n",
       "      <td>-799.741097</td>\n",
       "      <td>0.427084</td>\n",
       "      <td>-800.258209</td>\n",
       "      <td>-0.079426</td>\n",
       "      <td>-810.473526</td>\n",
       "    </tr>\n",
       "    <tr>\n",
       "      <th>25%</th>\n",
       "      <td>4.018525</td>\n",
       "      <td>8.750171</td>\n",
       "      <td>7.116799</td>\n",
       "      <td>42.383721</td>\n",
       "      <td>63.282393</td>\n",
       "      <td>7.684016</td>\n",
       "      <td>1.805376</td>\n",
       "      <td>8.143576</td>\n",
       "      <td>2.303108</td>\n",
       "      <td>110.177081</td>\n",
       "      <td>...</td>\n",
       "      <td>14.095940</td>\n",
       "      <td>-500.896232</td>\n",
       "      <td>10.882675</td>\n",
       "      <td>-500.309169</td>\n",
       "      <td>10.941299</td>\n",
       "      <td>-500.628697</td>\n",
       "      <td>8.037533</td>\n",
       "      <td>-500.167897</td>\n",
       "      <td>13.968418</td>\n",
       "      <td>-500.981671</td>\n",
       "    </tr>\n",
       "    <tr>\n",
       "      <th>50%</th>\n",
       "      <td>4.953729</td>\n",
       "      <td>9.914519</td>\n",
       "      <td>8.908792</td>\n",
       "      <td>44.653436</td>\n",
       "      <td>68.322258</td>\n",
       "      <td>9.484369</td>\n",
       "      <td>2.653001</td>\n",
       "      <td>10.212998</td>\n",
       "      <td>2.913794</td>\n",
       "      <td>141.330501</td>\n",
       "      <td>...</td>\n",
       "      <td>18.007326</td>\n",
       "      <td>-499.917108</td>\n",
       "      <td>14.947646</td>\n",
       "      <td>-499.612292</td>\n",
       "      <td>14.859117</td>\n",
       "      <td>-499.865158</td>\n",
       "      <td>10.989756</td>\n",
       "      <td>-499.951980</td>\n",
       "      <td>18.004215</td>\n",
       "      <td>-500.095463</td>\n",
       "    </tr>\n",
       "    <tr>\n",
       "      <th>75%</th>\n",
       "      <td>5.862593</td>\n",
       "      <td>10.929839</td>\n",
       "      <td>10.705824</td>\n",
       "      <td>46.111999</td>\n",
       "      <td>72.950836</td>\n",
       "      <td>11.084557</td>\n",
       "      <td>3.287790</td>\n",
       "      <td>11.860824</td>\n",
       "      <td>3.555077</td>\n",
       "      <td>174.049914</td>\n",
       "      <td>...</td>\n",
       "      <td>22.998194</td>\n",
       "      <td>-498.361545</td>\n",
       "      <td>17.977502</td>\n",
       "      <td>-400.224147</td>\n",
       "      <td>18.014914</td>\n",
       "      <td>-498.489381</td>\n",
       "      <td>14.001193</td>\n",
       "      <td>-499.492354</td>\n",
       "      <td>23.009704</td>\n",
       "      <td>-499.526388</td>\n",
       "    </tr>\n",
       "    <tr>\n",
       "      <th>max</th>\n",
       "      <td>16.001945</td>\n",
       "      <td>17.031899</td>\n",
       "      <td>19.615720</td>\n",
       "      <td>53.611374</td>\n",
       "      <td>100.000000</td>\n",
       "      <td>19.552149</td>\n",
       "      <td>6.086532</td>\n",
       "      <td>22.861749</td>\n",
       "      <td>9.789625</td>\n",
       "      <td>274.409626</td>\n",
       "      <td>...</td>\n",
       "      <td>60.000000</td>\n",
       "      <td>-127.692333</td>\n",
       "      <td>31.269706</td>\n",
       "      <td>-6.506986</td>\n",
       "      <td>63.116298</td>\n",
       "      <td>-244.483566</td>\n",
       "      <td>39.846228</td>\n",
       "      <td>-120.190931</td>\n",
       "      <td>54.876806</td>\n",
       "      <td>-29.093593</td>\n",
       "    </tr>\n",
       "  </tbody>\n",
       "</table>\n",
       "<p>8 rows × 86 columns</p>\n",
       "</div>"
      ],
      "text/plain": [
       "       final.output.concentrate_ag  final.output.concentrate_pb  \\\n",
       "count                 22627.000000                 22629.000000   \n",
       "mean                      4.781559                     9.095308   \n",
       "std                       2.030128                     3.230797   \n",
       "min                       0.000000                     0.000000   \n",
       "25%                       4.018525                     8.750171   \n",
       "50%                       4.953729                     9.914519   \n",
       "75%                       5.862593                    10.929839   \n",
       "max                      16.001945                    17.031899   \n",
       "\n",
       "       final.output.concentrate_sol  final.output.concentrate_au  \\\n",
       "count                  22331.000000                 22630.000000   \n",
       "mean                       8.640317                    40.001172   \n",
       "std                        3.785035                    13.398062   \n",
       "min                        0.000000                     0.000000   \n",
       "25%                        7.116799                    42.383721   \n",
       "50%                        8.908792                    44.653436   \n",
       "75%                       10.705824                    46.111999   \n",
       "max                       19.615720                    53.611374   \n",
       "\n",
       "       final.output.recovery  final.output.tail_ag  final.output.tail_pb  \\\n",
       "count           20753.000000          22633.000000          22516.000000   \n",
       "mean               67.447488              8.923690              2.488252   \n",
       "std                11.616034              3.517917              1.189407   \n",
       "min                 0.000000              0.000000              0.000000   \n",
       "25%                63.282393              7.684016              1.805376   \n",
       "50%                68.322258              9.484369              2.653001   \n",
       "75%                72.950836             11.084557              3.287790   \n",
       "max               100.000000             19.552149              6.086532   \n",
       "\n",
       "       final.output.tail_sol  final.output.tail_au  \\\n",
       "count           22445.000000          22635.000000   \n",
       "mean                9.523632              2.827459   \n",
       "std                 4.079739              1.262834   \n",
       "min                 0.000000              0.000000   \n",
       "25%                 8.143576              2.303108   \n",
       "50%                10.212998              2.913794   \n",
       "75%                11.860824              3.555077   \n",
       "max                22.861749              9.789625   \n",
       "\n",
       "       primary_cleaner.input.sulfate  ...  \\\n",
       "count                   21107.000000  ...   \n",
       "mean                      140.277672  ...   \n",
       "std                        49.919004  ...   \n",
       "min                         0.000003  ...   \n",
       "25%                       110.177081  ...   \n",
       "50%                       141.330501  ...   \n",
       "75%                       174.049914  ...   \n",
       "max                       274.409626  ...   \n",
       "\n",
       "       secondary_cleaner.state.floatbank4_a_air  \\\n",
       "count                              22571.000000   \n",
       "mean                                  18.205125   \n",
       "std                                    6.560700   \n",
       "min                                    0.000000   \n",
       "25%                                   14.095940   \n",
       "50%                                   18.007326   \n",
       "75%                                   22.998194   \n",
       "max                                   60.000000   \n",
       "\n",
       "       secondary_cleaner.state.floatbank4_a_level  \\\n",
       "count                                22587.000000   \n",
       "mean                                  -499.878977   \n",
       "std                                     80.273964   \n",
       "min                                   -799.920713   \n",
       "25%                                   -500.896232   \n",
       "50%                                   -499.917108   \n",
       "75%                                   -498.361545   \n",
       "max                                   -127.692333   \n",
       "\n",
       "       secondary_cleaner.state.floatbank4_b_air  \\\n",
       "count                              22608.000000   \n",
       "mean                                  14.356474   \n",
       "std                                    5.655791   \n",
       "min                                    0.000000   \n",
       "25%                                   10.882675   \n",
       "50%                                   14.947646   \n",
       "75%                                   17.977502   \n",
       "max                                   31.269706   \n",
       "\n",
       "       secondary_cleaner.state.floatbank4_b_level  \\\n",
       "count                                22607.000000   \n",
       "mean                                  -476.532613   \n",
       "std                                     93.822791   \n",
       "min                                   -800.836914   \n",
       "25%                                   -500.309169   \n",
       "50%                                   -499.612292   \n",
       "75%                                   -400.224147   \n",
       "max                                     -6.506986   \n",
       "\n",
       "       secondary_cleaner.state.floatbank5_a_air  \\\n",
       "count                              22615.000000   \n",
       "mean                                  14.883276   \n",
       "std                                    6.372811   \n",
       "min                                   -0.423260   \n",
       "25%                                   10.941299   \n",
       "50%                                   14.859117   \n",
       "75%                                   18.014914   \n",
       "max                                   63.116298   \n",
       "\n",
       "       secondary_cleaner.state.floatbank5_a_level  \\\n",
       "count                                22615.000000   \n",
       "mean                                  -503.323288   \n",
       "std                                     72.925589   \n",
       "min                                   -799.741097   \n",
       "25%                                   -500.628697   \n",
       "50%                                   -499.865158   \n",
       "75%                                   -498.489381   \n",
       "max                                   -244.483566   \n",
       "\n",
       "       secondary_cleaner.state.floatbank5_b_air  \\\n",
       "count                              22615.000000   \n",
       "mean                                  11.626743   \n",
       "std                                    5.757449   \n",
       "min                                    0.427084   \n",
       "25%                                    8.037533   \n",
       "50%                                   10.989756   \n",
       "75%                                   14.001193   \n",
       "max                                   39.846228   \n",
       "\n",
       "       secondary_cleaner.state.floatbank5_b_level  \\\n",
       "count                                22616.000000   \n",
       "mean                                  -500.521502   \n",
       "std                                     78.956292   \n",
       "min                                   -800.258209   \n",
       "25%                                   -500.167897   \n",
       "50%                                   -499.951980   \n",
       "75%                                   -499.492354   \n",
       "max                                   -120.190931   \n",
       "\n",
       "       secondary_cleaner.state.floatbank6_a_air  \\\n",
       "count                              22597.000000   \n",
       "mean                                  17.976810   \n",
       "std                                    6.636203   \n",
       "min                                   -0.079426   \n",
       "25%                                   13.968418   \n",
       "50%                                   18.004215   \n",
       "75%                                   23.009704   \n",
       "max                                   54.876806   \n",
       "\n",
       "       secondary_cleaner.state.floatbank6_a_level  \n",
       "count                                22615.000000  \n",
       "mean                                  -519.361465  \n",
       "std                                     75.477151  \n",
       "min                                   -810.473526  \n",
       "25%                                   -500.981671  \n",
       "50%                                   -500.095463  \n",
       "75%                                   -499.526388  \n",
       "max                                    -29.093593  \n",
       "\n",
       "[8 rows x 86 columns]"
      ]
     },
     "execution_count": 14,
     "metadata": {},
     "output_type": "execute_result"
    }
   ],
   "source": [
    "df_full.describe()"
   ]
  },
  {
   "cell_type": "markdown",
   "metadata": {},
   "source": [
    "Podemos observar que los datasets contienen 87 columnas en el dataset de entrenamiento, 53 en el de test y 87 en el dataset bruto. Sin embargo, es normal que suceda esto, el modelo se puede entrenar con las 87 columnas sin embargo, para las pruebas el modelo se puede adaptar a que el dataset solo contenga 53 columnas. \n",
    "\n",
    "En cuanto al tipo de datos, se observa que en los 3 datasets la columna date debe ser cambiada al tipo correcto, las columnas restantes son de tipo float por lo que no hay corrección. \n",
    "También se observa que hay datos ausentes, para este caso lo mejor es validar cuantos existen para saber si los iteramos con 0 o se eliminan. "
   ]
  },
  {
   "cell_type": "markdown",
   "metadata": {},
   "source": [
    "### Limpieza de datasets"
   ]
  },
  {
   "cell_type": "code",
   "execution_count": 15,
   "metadata": {},
   "outputs": [
    {
     "name": "stdout",
     "output_type": "stream",
     "text": [
      "Número de valores duplicados Dataset train : 0\n",
      "Número de valores duplicados Dataset test : 0\n",
      "Número de valores duplicados Dataset full : 0\n"
     ]
    }
   ],
   "source": [
    "## Validación de duplicados\n",
    "\n",
    "list_datasets = [df_train, df_test, df_full]\n",
    "\n",
    "df_train.name = 'Dataset train'\n",
    "df_test.name = 'Dataset test'\n",
    "df_full.name = 'Dataset full'\n",
    "\n",
    "for i in list_datasets:\n",
    "    duplicates = i.duplicated().sum()\n",
    "    print ('Número de valores duplicados', i.name, ':', duplicates)"
   ]
  },
  {
   "cell_type": "code",
   "execution_count": 16,
   "metadata": {
    "scrolled": false
   },
   "outputs": [
    {
     "name": "stdout",
     "output_type": "stream",
     "text": [
      "date                                            0\n",
      "final.output.concentrate_ag                    72\n",
      "final.output.concentrate_pb                    72\n",
      "final.output.concentrate_sol                  370\n",
      "final.output.concentrate_au                    71\n",
      "                                             ... \n",
      "secondary_cleaner.state.floatbank5_a_level     85\n",
      "secondary_cleaner.state.floatbank5_b_air       85\n",
      "secondary_cleaner.state.floatbank5_b_level     84\n",
      "secondary_cleaner.state.floatbank6_a_air      103\n",
      "secondary_cleaner.state.floatbank6_a_level     85\n",
      "Length: 87, dtype: int64\n",
      "2573\n"
     ]
    }
   ],
   "source": [
    "# Validación de valores ausentes train\n",
    "\n",
    "missing_train = df_train.isnull().sum()\n",
    "print(missing_train)\n",
    "\n",
    "missin_max_train = missing_train.max()\n",
    "print(missin_max_train)"
   ]
  },
  {
   "cell_type": "code",
   "execution_count": 17,
   "metadata": {
    "scrolled": false
   },
   "outputs": [
    {
     "name": "stdout",
     "output_type": "stream",
     "text": [
      "date                                            0\n",
      "primary_cleaner.input.sulfate                 302\n",
      "primary_cleaner.input.depressant              284\n",
      "primary_cleaner.input.feed_size                 0\n",
      "primary_cleaner.input.xanthate                166\n",
      "primary_cleaner.state.floatbank8_a_air         16\n",
      "primary_cleaner.state.floatbank8_a_level       16\n",
      "primary_cleaner.state.floatbank8_b_air         16\n",
      "primary_cleaner.state.floatbank8_b_level       16\n",
      "primary_cleaner.state.floatbank8_c_air         16\n",
      "primary_cleaner.state.floatbank8_c_level       16\n",
      "primary_cleaner.state.floatbank8_d_air         16\n",
      "primary_cleaner.state.floatbank8_d_level       16\n",
      "rougher.input.feed_ag                          16\n",
      "rougher.input.feed_pb                          16\n",
      "rougher.input.feed_rate                        40\n",
      "rougher.input.feed_size                        22\n",
      "rougher.input.feed_sol                         67\n",
      "rougher.input.feed_au                          16\n",
      "rougher.input.floatbank10_sulfate             257\n",
      "rougher.input.floatbank10_xanthate            123\n",
      "rougher.input.floatbank11_sulfate              55\n",
      "rougher.input.floatbank11_xanthate            353\n",
      "rougher.state.floatbank10_a_air                17\n",
      "rougher.state.floatbank10_a_level              16\n",
      "rougher.state.floatbank10_b_air                17\n",
      "rougher.state.floatbank10_b_level              16\n",
      "rougher.state.floatbank10_c_air                17\n",
      "rougher.state.floatbank10_c_level              16\n",
      "rougher.state.floatbank10_d_air                17\n",
      "rougher.state.floatbank10_d_level              16\n",
      "rougher.state.floatbank10_e_air                17\n",
      "rougher.state.floatbank10_e_level              16\n",
      "rougher.state.floatbank10_f_air                17\n",
      "rougher.state.floatbank10_f_level              16\n",
      "secondary_cleaner.state.floatbank2_a_air       20\n",
      "secondary_cleaner.state.floatbank2_a_level     16\n",
      "secondary_cleaner.state.floatbank2_b_air       23\n",
      "secondary_cleaner.state.floatbank2_b_level     16\n",
      "secondary_cleaner.state.floatbank3_a_air       34\n",
      "secondary_cleaner.state.floatbank3_a_level     16\n",
      "secondary_cleaner.state.floatbank3_b_air       16\n",
      "secondary_cleaner.state.floatbank3_b_level     16\n",
      "secondary_cleaner.state.floatbank4_a_air       16\n",
      "secondary_cleaner.state.floatbank4_a_level     16\n",
      "secondary_cleaner.state.floatbank4_b_air       16\n",
      "secondary_cleaner.state.floatbank4_b_level     16\n",
      "secondary_cleaner.state.floatbank5_a_air       16\n",
      "secondary_cleaner.state.floatbank5_a_level     16\n",
      "secondary_cleaner.state.floatbank5_b_air       16\n",
      "secondary_cleaner.state.floatbank5_b_level     16\n",
      "secondary_cleaner.state.floatbank6_a_air       16\n",
      "secondary_cleaner.state.floatbank6_a_level     16\n",
      "dtype: int64\n",
      "353\n"
     ]
    }
   ],
   "source": [
    "# Validación de valores ausentes test\n",
    "\n",
    "missing_test = df_test.isnull().sum()\n",
    "print(missing_test)\n",
    "\n",
    "missin_max_test = missing_test.max()\n",
    "print(missin_max_test)"
   ]
  },
  {
   "cell_type": "code",
   "execution_count": 18,
   "metadata": {
    "scrolled": false
   },
   "outputs": [
    {
     "name": "stdout",
     "output_type": "stream",
     "text": [
      "date                                            0\n",
      "final.output.concentrate_ag                    89\n",
      "final.output.concentrate_pb                    87\n",
      "final.output.concentrate_sol                  385\n",
      "final.output.concentrate_au                    86\n",
      "                                             ... \n",
      "secondary_cleaner.state.floatbank5_a_level    101\n",
      "secondary_cleaner.state.floatbank5_b_air      101\n",
      "secondary_cleaner.state.floatbank5_b_level    100\n",
      "secondary_cleaner.state.floatbank6_a_air      119\n",
      "secondary_cleaner.state.floatbank6_a_level    101\n",
      "Length: 87, dtype: int64\n",
      "3119\n"
     ]
    }
   ],
   "source": [
    "# Validación de valores ausentes full\n",
    "\n",
    "missing_full = df_full.isnull().sum()\n",
    "print(missing_full)\n",
    "\n",
    "missin_max_full = missing_full.max()\n",
    "print(missin_max_full)"
   ]
  },
  {
   "cell_type": "markdown",
   "metadata": {},
   "source": [
    "El porcentaje de datos ausentes por dataset es alrededor del 10% por lo que imputaremos los ausentes con el metodo interpolate() para estimar el valor de los datos ausentes basandose en la información por hora disponible. "
   ]
  },
  {
   "cell_type": "code",
   "execution_count": 19,
   "metadata": {
    "scrolled": true
   },
   "outputs": [
    {
     "name": "stdout",
     "output_type": "stream",
     "text": [
      "DatetimeIndex(['2016-01-15 00:00:00', '2016-01-15 01:00:00',\n",
      "               '2016-01-15 02:00:00', '2016-01-15 03:00:00',\n",
      "               '2016-01-15 04:00:00', '2016-01-15 05:00:00',\n",
      "               '2016-01-15 06:00:00', '2016-01-15 07:00:00',\n",
      "               '2016-01-15 08:00:00', '2016-01-15 09:00:00',\n",
      "               ...\n",
      "               '2018-08-18 01:59:59', '2018-08-18 02:59:59',\n",
      "               '2018-08-18 03:59:59', '2018-08-18 04:59:59',\n",
      "               '2018-08-18 05:59:59', '2018-08-18 06:59:59',\n",
      "               '2018-08-18 07:59:59', '2018-08-18 08:59:59',\n",
      "               '2018-08-18 09:59:59', '2018-08-18 10:59:59'],\n",
      "              dtype='datetime64[ns]', name='date', length=16860, freq=None)\n"
     ]
    }
   ],
   "source": [
    "#Conversión de datatype de la columna date \n",
    "for df in [df_train, df_test, df_full]:\n",
    "    df['date'] = pd.to_datetime(df['date'])  # Convierte la columna a datetime\n",
    "    df.set_index('date', inplace=True)  # Usa 'date' como índice\n",
    "    \n",
    "print(df_train.index) "
   ]
  },
  {
   "cell_type": "code",
   "execution_count": 34,
   "metadata": {},
   "outputs": [],
   "source": [
    "#Imputación de datos ausentes con interpolación mediante el indice de fecha\n",
    "for df in [df_train, df_test, df_full]:\n",
    "    df.interpolate(method='time', axis=0, limit=None, inplace=True, limit_direction='both')"
   ]
  },
  {
   "cell_type": "code",
   "execution_count": 21,
   "metadata": {
    "scrolled": true
   },
   "outputs": [
    {
     "name": "stdout",
     "output_type": "stream",
     "text": [
      "final.output.concentrate_ag                   0\n",
      "final.output.concentrate_pb                   0\n",
      "final.output.concentrate_sol                  0\n",
      "final.output.concentrate_au                   0\n",
      "final.output.recovery                         0\n",
      "                                             ..\n",
      "secondary_cleaner.state.floatbank5_a_level    0\n",
      "secondary_cleaner.state.floatbank5_b_air      0\n",
      "secondary_cleaner.state.floatbank5_b_level    0\n",
      "secondary_cleaner.state.floatbank6_a_air      0\n",
      "secondary_cleaner.state.floatbank6_a_level    0\n",
      "Length: 86, dtype: int64\n"
     ]
    }
   ],
   "source": [
    "missing_train2 = df_train.isnull().sum()\n",
    "print(missing_train2)"
   ]
  },
  {
   "cell_type": "code",
   "execution_count": 22,
   "metadata": {
    "scrolled": true
   },
   "outputs": [
    {
     "name": "stdout",
     "output_type": "stream",
     "text": [
      "primary_cleaner.input.sulfate                 0\n",
      "primary_cleaner.input.depressant              0\n",
      "primary_cleaner.input.feed_size               0\n",
      "primary_cleaner.input.xanthate                0\n",
      "primary_cleaner.state.floatbank8_a_air        0\n",
      "primary_cleaner.state.floatbank8_a_level      0\n",
      "primary_cleaner.state.floatbank8_b_air        0\n",
      "primary_cleaner.state.floatbank8_b_level      0\n",
      "primary_cleaner.state.floatbank8_c_air        0\n",
      "primary_cleaner.state.floatbank8_c_level      0\n",
      "primary_cleaner.state.floatbank8_d_air        0\n",
      "primary_cleaner.state.floatbank8_d_level      0\n",
      "rougher.input.feed_ag                         0\n",
      "rougher.input.feed_pb                         0\n",
      "rougher.input.feed_rate                       0\n",
      "rougher.input.feed_size                       0\n",
      "rougher.input.feed_sol                        0\n",
      "rougher.input.feed_au                         0\n",
      "rougher.input.floatbank10_sulfate             0\n",
      "rougher.input.floatbank10_xanthate            0\n",
      "rougher.input.floatbank11_sulfate             0\n",
      "rougher.input.floatbank11_xanthate            0\n",
      "rougher.state.floatbank10_a_air               0\n",
      "rougher.state.floatbank10_a_level             0\n",
      "rougher.state.floatbank10_b_air               0\n",
      "rougher.state.floatbank10_b_level             0\n",
      "rougher.state.floatbank10_c_air               0\n",
      "rougher.state.floatbank10_c_level             0\n",
      "rougher.state.floatbank10_d_air               0\n",
      "rougher.state.floatbank10_d_level             0\n",
      "rougher.state.floatbank10_e_air               0\n",
      "rougher.state.floatbank10_e_level             0\n",
      "rougher.state.floatbank10_f_air               0\n",
      "rougher.state.floatbank10_f_level             0\n",
      "secondary_cleaner.state.floatbank2_a_air      0\n",
      "secondary_cleaner.state.floatbank2_a_level    0\n",
      "secondary_cleaner.state.floatbank2_b_air      0\n",
      "secondary_cleaner.state.floatbank2_b_level    0\n",
      "secondary_cleaner.state.floatbank3_a_air      0\n",
      "secondary_cleaner.state.floatbank3_a_level    0\n",
      "secondary_cleaner.state.floatbank3_b_air      0\n",
      "secondary_cleaner.state.floatbank3_b_level    0\n",
      "secondary_cleaner.state.floatbank4_a_air      0\n",
      "secondary_cleaner.state.floatbank4_a_level    0\n",
      "secondary_cleaner.state.floatbank4_b_air      0\n",
      "secondary_cleaner.state.floatbank4_b_level    0\n",
      "secondary_cleaner.state.floatbank5_a_air      0\n",
      "secondary_cleaner.state.floatbank5_a_level    0\n",
      "secondary_cleaner.state.floatbank5_b_air      0\n",
      "secondary_cleaner.state.floatbank5_b_level    0\n",
      "secondary_cleaner.state.floatbank6_a_air      0\n",
      "secondary_cleaner.state.floatbank6_a_level    0\n",
      "dtype: int64\n"
     ]
    }
   ],
   "source": [
    "missing_test2 = df_test.isnull().sum()\n",
    "print(missing_test2)"
   ]
  },
  {
   "cell_type": "code",
   "execution_count": 23,
   "metadata": {},
   "outputs": [
    {
     "name": "stdout",
     "output_type": "stream",
     "text": [
      "final.output.concentrate_ag                   0\n",
      "final.output.concentrate_pb                   0\n",
      "final.output.concentrate_sol                  0\n",
      "final.output.concentrate_au                   0\n",
      "final.output.recovery                         0\n",
      "                                             ..\n",
      "secondary_cleaner.state.floatbank5_a_level    0\n",
      "secondary_cleaner.state.floatbank5_b_air      0\n",
      "secondary_cleaner.state.floatbank5_b_level    0\n",
      "secondary_cleaner.state.floatbank6_a_air      0\n",
      "secondary_cleaner.state.floatbank6_a_level    0\n",
      "Length: 86, dtype: int64\n"
     ]
    }
   ],
   "source": [
    "missing_full2 = df_full.isnull().sum()\n",
    "print(missing_full2)"
   ]
  },
  {
   "cell_type": "markdown",
   "metadata": {},
   "source": [
    "Después de inputar los valores ausentes con la interpolación por fecha, podemos confirmar que no hay duplicados ni ausentes y el tipo de datos en todas las bases es correcto. "
   ]
  },
  {
   "cell_type": "markdown",
   "metadata": {},
   "source": [
    "## Comprobación de cálculo de recuperación. \n",
    "\n",
    "- Se solicita comprobar que el cálculo de la recuperación sea correcto. \n",
    "- Se requiere calcular la recuperación de la característica rougher.output.recovery mediante el conjunto de entrenamiento. \n",
    "- Encuentrar el EAM entre tus cálculos y los valores de la característica. Facilita los resultados."
   ]
  },
  {
   "cell_type": "markdown",
   "metadata": {},
   "source": [
    "Se esta solicitando cálcular la recuperación de la caracteristica rougher.output.recovery. \n",
    "De acuerdo con la información proporcionada, tenemos que simular el proceso de recuperación del oro del mineral de oro utilizando la fórmula Recuperación = C x (F - T) / F x (C - T) X 100 donde:\n",
    "\n",
    "C: Es la proporción de oro en el concentrado justo después de la flotación (para saber la recuperación del concentrado rougher)/después de la purificación (para saber la recuperación del concentrado final).\n",
    "\n",
    "F: la proporción de oro en la alimentación antes de la flotación (para saber la recuperación del concentrado rougher)/en el concentrado justo después de la flotación (para saber la recuperación del concentrado final).\n",
    "\n",
    "T: la proporción de oro en las colas rougher justo después de la flotación (para saber la recuperación del concentrado rougher)/después de la purificación (para saber la recuperación del concentrado final)."
   ]
  },
  {
   "cell_type": "markdown",
   "metadata": {},
   "source": [
    "Asignaremos las columnas correspondientes a las variables adecuadas para poder realizar la fórmula de recuperación.\n",
    "Posteriormente por medio de una función donde los paramatros asignados serán y, y_pred que posteriormente llenaremos como y = el recovery rougher del data frame e y_pred = el cálculo que hicimos de recuperación. \n",
    "Al final necesitamos comprobar que la columna contenga los valores correctos y el valor del MAE seá 0."
   ]
  },
  {
   "cell_type": "code",
   "execution_count": 24,
   "metadata": {},
   "outputs": [
    {
     "name": "stdout",
     "output_type": "stream",
     "text": [
      "inf\n"
     ]
    }
   ],
   "source": [
    "# Rougher:\n",
    "Cr = df_train['rougher.output.concentrate_au']\n",
    "Fr = df_train['rougher.input.feed_au']\n",
    "Tr = df_train['rougher.output.tail_au']\n",
    "recovery_rougher = df_train['rougher.output.recovery']\n",
    "\n",
    "# Final:\n",
    "Cf = df_train['final.output.concentrate_au']\n",
    "Ff = df_train['rougher.input.feed_au']\n",
    "Tf = df_train['final.output.tail_au']\n",
    "recovery_final = df_train['final.output.recovery']\n",
    "\n",
    "calculated_recovery_rougher = 100 * (Cr * (Fr - Tr)) / ( Fr * (Cr - Tr))\n",
    "\n",
    "def mean_absolute_error(y, y_pred):\n",
    "\n",
    "  diff = y - y_pred\n",
    "\n",
    "  return np.nansum(abs(diff)) / len(diff)\n",
    "\n",
    "print(mean_absolute_error(recovery_rougher, calculated_recovery_rougher))"
   ]
  },
  {
   "cell_type": "code",
   "execution_count": 25,
   "metadata": {},
   "outputs": [
    {
     "name": "stdout",
     "output_type": "stream",
     "text": [
      "                     rougher.output.recovery\n",
      "date                                        \n",
      "2016-01-15 00:00:00                87.107763\n",
      "2016-01-15 01:00:00                86.843261\n",
      "2016-01-15 02:00:00                86.842308\n",
      "2016-01-15 03:00:00                87.226430\n",
      "2016-01-15 04:00:00                86.688794\n",
      "2016-01-15 05:00:00                88.156912\n",
      "2016-01-15 06:00:00                88.168065\n",
      "2016-01-15 07:00:00                87.668336\n",
      "2016-01-15 08:00:00                87.035862\n",
      "2016-01-15 09:00:00                87.650868\n",
      "date\n",
      "2016-01-15 00:00:00    87.107763\n",
      "2016-01-15 01:00:00    86.843261\n",
      "2016-01-15 02:00:00    86.842308\n",
      "2016-01-15 03:00:00    87.226430\n",
      "2016-01-15 04:00:00    86.688794\n",
      "2016-01-15 05:00:00    88.156912\n",
      "2016-01-15 06:00:00    88.168065\n",
      "2016-01-15 07:00:00    87.668336\n",
      "2016-01-15 08:00:00    87.035862\n",
      "2016-01-15 09:00:00    87.650868\n",
      "dtype: float64\n"
     ]
    }
   ],
   "source": [
    "print(df_train[['rougher.output.recovery']].head(10))\n",
    "print(calculated_recovery_rougher.head(10))\n"
   ]
  },
  {
   "cell_type": "markdown",
   "metadata": {},
   "source": [
    "Nuestro resultado de Error Medio Absoluto(MAE) es practicamente 0 lo que significa que es correcto el cálculo de recuperación en la etapa de rougher que tiene nuestro dataframe de entrenamiento. \n",
    "Hice una validación final imprimiendo las 10 primeras final de la columna 'rougher.output.recovery' y el resultado de nuestro cálculo y son practicamento los mismos."
   ]
  },
  {
   "cell_type": "markdown",
   "metadata": {},
   "source": [
    "## Características no disponibles en el conjunto de prueba. ¿Cuáles son estos parámetros? ¿Cuál es su tipo?\n",
    "\n",
    "Como anteriormente observamos, el conjunto de test contiene menos columnas que el conjunto de train. Vamos a utilizar la función de set() para conocer cuales son las columnas faltantes en el data test e identificar cual es el tipo de estos."
   ]
  },
  {
   "cell_type": "code",
   "execution_count": 26,
   "metadata": {
    "scrolled": true
   },
   "outputs": [
    {
     "data": {
      "text/plain": [
       "{'final.output.concentrate_ag',\n",
       " 'final.output.concentrate_au',\n",
       " 'final.output.concentrate_pb',\n",
       " 'final.output.concentrate_sol',\n",
       " 'final.output.recovery',\n",
       " 'final.output.tail_ag',\n",
       " 'final.output.tail_au',\n",
       " 'final.output.tail_pb',\n",
       " 'final.output.tail_sol',\n",
       " 'primary_cleaner.output.concentrate_ag',\n",
       " 'primary_cleaner.output.concentrate_au',\n",
       " 'primary_cleaner.output.concentrate_pb',\n",
       " 'primary_cleaner.output.concentrate_sol',\n",
       " 'primary_cleaner.output.tail_ag',\n",
       " 'primary_cleaner.output.tail_au',\n",
       " 'primary_cleaner.output.tail_pb',\n",
       " 'primary_cleaner.output.tail_sol',\n",
       " 'rougher.calculation.au_pb_ratio',\n",
       " 'rougher.calculation.floatbank10_sulfate_to_au_feed',\n",
       " 'rougher.calculation.floatbank11_sulfate_to_au_feed',\n",
       " 'rougher.calculation.sulfate_to_au_concentrate',\n",
       " 'rougher.output.concentrate_ag',\n",
       " 'rougher.output.concentrate_au',\n",
       " 'rougher.output.concentrate_pb',\n",
       " 'rougher.output.concentrate_sol',\n",
       " 'rougher.output.recovery',\n",
       " 'rougher.output.tail_ag',\n",
       " 'rougher.output.tail_au',\n",
       " 'rougher.output.tail_pb',\n",
       " 'rougher.output.tail_sol',\n",
       " 'secondary_cleaner.output.tail_ag',\n",
       " 'secondary_cleaner.output.tail_au',\n",
       " 'secondary_cleaner.output.tail_pb',\n",
       " 'secondary_cleaner.output.tail_sol'}"
      ]
     },
     "execution_count": 26,
     "metadata": {},
     "output_type": "execute_result"
    }
   ],
   "source": [
    "set(df_train.columns) - set(df_test.columns)"
   ]
  },
  {
   "cell_type": "markdown",
   "metadata": {},
   "source": [
    "Podemos observar que los parametros faltantes en el dataset de train son las correspondientes a parámetros del producto de: flotación, purificación primaria, purificación secundaria y caracateristicas finales. \n",
    "\n",
    "Tampoco contiene las columnas de características de cálculo de rougher. "
   ]
  },
  {
   "cell_type": "markdown",
   "metadata": {},
   "source": [
    "## Preprocesamiento de datos"
   ]
  },
  {
   "cell_type": "markdown",
   "metadata": {},
   "source": [
    "Ahora vamos a analizar que los datos que tenemos sean correctos, para esto vamos a realizar un preprocesamiento de datos, donde solo tomaremos una muestra del dataset ya que de esta forma el procesamiento es más rápido, es más facil poder encontrar errores y podemos asegurar que funciona correctamente. \n",
    "\n",
    "Para esto utilizaremos el método sample() que extrae una muestra del dataset, con los siguientes parametros:\n",
    "\n",
    "frac=0.01 → Indica que se tomará el 1% de las filas del DataFrame original.\n",
    "\n",
    "replace=False → Significa que la muestra se toma sin reemplazo (no se repiten filas).\n",
    "\n",
    "random_state=random_state → Asegura que la muestra sea la misma cada vez que se ejecute el código."
   ]
  },
  {
   "cell_type": "code",
   "execution_count": 27,
   "metadata": {},
   "outputs": [
    {
     "name": "stdout",
     "output_type": "stream",
     "text": [
      "\n",
      "original sample size: 16860\n",
      "sampled sample size: 8430\n",
      "\n"
     ]
    }
   ],
   "source": [
    "df_train.shape\n",
    "random_state = 1234\n",
    "\n",
    "df_train_sample = df_train.sample(frac = 0.5,\n",
    "                          replace = False,\n",
    "                          random_state = random_state)\n",
    "\n",
    "data = df_train_sample\n",
    "\n",
    "print(f\"\"\"\n",
    "original sample size: {len(df_train)}\n",
    "sampled sample size: {len(df_train_sample)}\n",
    "\"\"\")"
   ]
  },
  {
   "cell_type": "code",
   "execution_count": 28,
   "metadata": {},
   "outputs": [
    {
     "name": "stdout",
     "output_type": "stream",
     "text": [
      "Tamaño de x_train: (6744, 84)\n",
      "Tamaño de y_train: (6744, 2)\n"
     ]
    }
   ],
   "source": [
    "#final.output.recovery\n",
    "#rougher.output.recovery\n",
    "\n",
    "# Tenemos dos variables de target.\n",
    "target_columns = [\"rougher.output.recovery\", \"final.output.recovery\"]\n",
    "features_exclude = target_columns.copy()\n",
    "\n",
    "feature_columns = [f for f in data.columns if f not in features_exclude]\n",
    "\n",
    "x_train, x_test, y_train, y_test = train_test_split(data[feature_columns],\n",
    "                                                   data[target_columns],\n",
    "                                                   test_size=0.20,\n",
    "                                                   random_state=1234)\n",
    "\n",
    "# Verifica los tamaños de los sets de entrenamiento\n",
    "print(f\"Tamaño de x_train: {x_train.shape}\")\n",
    "print(f\"Tamaño de y_train: {y_train.shape}\")\n"
   ]
  },
  {
   "cell_type": "markdown",
   "metadata": {},
   "source": [
    "## Análisis de datos"
   ]
  },
  {
   "cell_type": "markdown",
   "metadata": {},
   "source": [
    "### Concentración de metales (Au, Ag, Pb) "
   ]
  },
  {
   "cell_type": "markdown",
   "metadata": {},
   "source": [
    "Ahora que tenemos la muestra del dataset vamos a analizar como estan conformados los datos. \n",
    "Nos piden observar cómo cambia la concentración de metales (Au, Ag, Pb) en función de la etapa de purificación."
   ]
  },
  {
   "cell_type": "markdown",
   "metadata": {},
   "source": [
    "Las variables a utilizas son las siguientes, de acuerdo a la nomenclatura compartida: \n",
    "\n",
    "primary_cleaner.output.concentrate_ag\n",
    "primary_cleaner.output.concentrate_pb\n",
    "primary_cleaner.output.concentrate_au \n",
    "\n",
    "\n",
    "final.output.concentrate_ag\n",
    "final.output.concentrate_pb\n",
    "final.output.concentrate_au\n",
    "\n",
    "\n",
    "rougher.output.concentrate_ag \n",
    "rougher.output.concentrate_pb\n",
    "rougher.output.concentrate_au "
   ]
  },
  {
   "cell_type": "code",
   "execution_count": 29,
   "metadata": {
    "scrolled": false
   },
   "outputs": [
    {
     "data": {
      "image/png": "[encoded data removed]",
      "text/plain": [
       "<Figure size 1000x600 with 1 Axes>"
      ]
     },
     "metadata": {},
     "output_type": "display_data"
    },
    {
     "data": {
      "image/png": "[encoded data removed]",
      "text/plain": [
       "<Figure size 1000x600 with 1 Axes>"
      ]
     },
     "metadata": {},
     "output_type": "display_data"
    },
    {
     "data": {
      "image/png": "[encoded data removed]",
      "text/plain": [
       "<Figure size 1000x600 with 1 Axes>"
      ]
     },
     "metadata": {},
     "output_type": "display_data"
    }
   ],
   "source": [
    "# Definir las características por metal\n",
    "features_for_metal = {\n",
    "    'au': [\n",
    "        \"rougher.input.feed_au\",\n",
    "        \"rougher.output.concentrate_au\", \n",
    "        \"primary_cleaner.output.concentrate_au\", \n",
    "        \"final.output.concentrate_au\"\n",
    "    ],\n",
    "    'ag': [\n",
    "        \"rougher.input.feed_ag\",\n",
    "        \"rougher.output.concentrate_ag\", \n",
    "        \"primary_cleaner.output.concentrate_ag\", \n",
    "        \"final.output.concentrate_ag\"\n",
    "    ],\n",
    "    'pb': [\n",
    "        \"rougher.input.feed_pb\",\n",
    "        \"rougher.output.concentrate_pb\", \n",
    "        \"primary_cleaner.output.concentrate_pb\", \n",
    "        \"final.output.concentrate_pb\"\n",
    "    ]\n",
    "}\n",
    "\n",
    "# Colores específicos para cada etapa\n",
    "stage_colors = {\n",
    "    'rougher': 'red', \n",
    "    'primary_cleaner': 'hotpink',\n",
    "    'final': 'navy',\n",
    "    'rougher_feed': 'purple'\n",
    "}\n",
    "\n",
    "\n",
    "for metal, features in features_for_metal.items():\n",
    "    plt.figure(figsize=(10, 6))  # Tamaño de la figura\n",
    "    # Inicializar las etiquetas para la leyenda\n",
    "    legend_labels = {\n",
    "        \"rougher_feed\": f'{metal.upper()} - Rougher Feed',\n",
    "        'rougher': f'{metal.upper()} - Rougher',\n",
    "        'primary_cleaner': f'{metal.upper()} - Primary Cleaner',\n",
    "        'final': f'{metal.upper()} - Final'\n",
    "    }\n",
    "\n",
    "    # Obtener los bins para la interpolación\n",
    "    _, bins = pd.qcut(x_train[features[0]], q=100, retbins=True, duplicates=\"drop\")\n",
    "\n",
    "    # Graficar para cada etapa\n",
    "    for f in features:\n",
    "        # Extraer la etapa correctamente\n",
    "        if \"feed\" in f:\n",
    "            etapa = \"rougher_feed\"\n",
    "        elif \"rougher\" in f:\n",
    "            etapa = \"rougher\"\n",
    "        elif \"primary_cleaner\" in f:\n",
    "            etapa = \"primary_cleaner\"\n",
    "        elif \"final\" in f:\n",
    "            etapa = \"final\"\n",
    "        \n",
    "        color = stage_colors[etapa]  # Asignar color basado en la etapa\n",
    "        \n",
    "        # Graficar el histograma para train y test\n",
    "        plt.hist(x_train[f], bins=bins, alpha=0.2, label=f'{metal.upper()} - {etapa} (Train)', cumulative=True, density=True, color=color)\n",
    "        \n",
    "    # Configuración del gráfico\n",
    "    plt.legend(loc='upper left', bbox_to_anchor=(1, 1))  # Leyenda fuera del gráfico\n",
    "    plt.title(f\"Distribución acumulativa de concentrados de {metal.upper()}\")\n",
    "    plt.xlabel(\"Valor de la característica\")\n",
    "    plt.ylabel(\"Densidad acumulativa\")\n",
    "    plt.grid()\n",
    "    plt.tight_layout()  # Asegura que todo el contenido sea visible\n",
    "    plt.show()\n"
   ]
  },
  {
   "cell_type": "markdown",
   "metadata": {},
   "source": [
    "Tenemos las siguientes observaciones:\n",
    "\n",
    "Para el Oro(Ag) observamos que hay una aumento en concetrado de cada etapa cada etapa, en cuanto a la distribución de train y test se puede ser ver que tienen comportamientos similares.\n",
    "\n",
    "En el caso de la concetración de Plata(Ag) se observa que existe una leve disminución, ya que al principio del proceso se registar un valor de 17.5 puntos y en la información final no excede de los 8. Las distribuciones de Train y Test son bastante cercanas, lo cual es bueno.\n",
    "\n",
    "Finalmente para el plomo(Pb) observa un compartamiento diferente a los 2 metales anteriores, ya que en la etapa primaria se registra un aumento de casi 4 puntos, sin embargo para la etapa final se registra una disminución de 1 punto, lo cual indica perdida durante el proceso. Las distribuciones de nuestra muestra son similares."
   ]
  },
  {
   "cell_type": "markdown",
   "metadata": {},
   "source": [
    "### Distribuciones del tamaño de las partículas de la alimentación "
   ]
  },
  {
   "cell_type": "markdown",
   "metadata": {},
   "source": [
    "Como siguiente paso se requiere comparar las distribuciones del tamaño de las partículas de la alimentación en el conjunto de entrenamiento y en el conjunto de prueba. \n",
    "Se debe considerar que si las distribuciones varían significativamente, la evaluación del modelo no será correcta.\n",
    "\n",
    "Las columnas que nos muestran la información del tamaño de las particulas son las siguientes:\n",
    "\"rougher.input.feed_size\" en la etapa rougher, \"primary_cleaner.input.feed_size\" en la purificación primaria. "
   ]
  },
  {
   "cell_type": "code",
   "execution_count": 30,
   "metadata": {},
   "outputs": [
    {
     "data": {
      "image/png": "[encoded data removed]",
      "text/plain": [
       "<Figure size 600x400 with 1 Axes>"
      ]
     },
     "metadata": {},
     "output_type": "display_data"
    },
    {
     "data": {
      "image/png": "[encoded data removed]",
      "text/plain": [
       "<Figure size 600x400 with 1 Axes>"
      ]
     },
     "metadata": {},
     "output_type": "display_data"
    }
   ],
   "source": [
    "features_to_analyze = [\"rougher.input.feed_size\", \"primary_cleaner.input.feed_size\"]\n",
    "\n",
    "for f in features_to_analyze:\n",
    "    plt.figure(figsize=(6,4))\n",
    "    plt.boxplot([x_train[f], x_test[f]], labels=[\"Train\", \"Test\"])\n",
    "    plt.title(f\"Distribución del tamaño de partículas: {f}\")\n",
    "    plt.ylabel(\"Tamaño de partícula\")\n",
    "    plt.show()\n"
   ]
  },
  {
   "cell_type": "markdown",
   "metadata": {},
   "source": [
    "En el caso de la distribución de las particulas en la etapa de flotación observamos lo siguiente:\n",
    "\n",
    "    - El rango de tamaños de partículas en ambos conjuntos de datos (Train y Test) está entre 0 y 350.\n",
    "    - Ambos tiene una media de 50. \n",
    "    \n",
    "Caso similar ocurre en la etapa de purificación primaria, en donde:\n",
    "       \n",
    "    - El tamaño de las cajas es similar. \n",
    "    - La media se encuentra al rededor de 7.\n",
    "    - Los valores van de 2 y 9. \n",
    "    \n",
    "Esto indica que los conjuntos de datos están bien balanceados. Esto es ideal para entrenar un modelo, ya que podrá generalizar bien a nuevos datos.\n"
   ]
  },
  {
   "cell_type": "markdown",
   "metadata": {},
   "source": [
    "### Distribuciones de concentraciones totales.\n",
    "\n",
    "Ahora observaremos la distribuciones de las concentraciones totales de todas las sustancias en las diferentes etapas: materia prima, concentrado rougher y concentrado final. \n",
    "\n",
    "El objetivo es observar algún valor anormal en la distribución total. Si es así, nos debemos plantear si merece la pena eliminar esos valores de ambas muestras y posteriormente describir los resultados y eliminar las anomalías."
   ]
  },
  {
   "cell_type": "code",
   "execution_count": 31,
   "metadata": {},
   "outputs": [
    {
     "data": {
      "image/png": "[encoded data removed]",
      "text/plain": [
       "<Figure size 1200x500 with 3 Axes>"
      ]
     },
     "metadata": {},
     "output_type": "display_data"
    },
    {
     "name": "stdout",
     "output_type": "stream",
     "text": [
      "Filas eliminadas: 883\n"
     ]
    }
   ],
   "source": [
    "# calculo de la concentración total en cada etapa\n",
    "x_train[\"total_feed\"] = x_train[\"rougher.input.feed_au\"] + x_train[\"rougher.input.feed_ag\"] + x_train[\"rougher.input.feed_pb\"]\n",
    "x_train[\"total_rougher\"] = x_train[\"rougher.output.concentrate_au\"] + x_train[\"rougher.output.concentrate_ag\"] + x_train[\"rougher.output.concentrate_pb\"]\n",
    "x_train[\"total_final\"] = x_train[\"final.output.concentrate_au\"] + x_train[\"final.output.concentrate_ag\"] + x_train[\"final.output.concentrate_pb\"]\n",
    "\n",
    "# grafica de la distribución de concentraciones totales\n",
    "plt.figure(figsize=(12, 5))\n",
    "\n",
    "# graficar cada etapa en un subplot diferente\n",
    "for i, column in enumerate([\"total_feed\", \"total_rougher\", \"total_final\"], 1):\n",
    "    plt.subplot(1, 3, i)\n",
    "    sns.histplot(x_train[column], bins=50, kde=True)\n",
    "    plt.title(f\"Distribución de {column}\")\n",
    "    plt.xlabel(\"Concentración Total (%)\")\n",
    "    plt.ylabel(\"Frecuencia\")\n",
    "\n",
    "plt.tight_layout()\n",
    "plt.show()\n",
    "\n",
    "# eliminar valores anómalos (concentraciones totales menores a 0.1)\n",
    "# filtro usando un umbral de 0.1 ya que es un valor razonable basado en la química del proceso\n",
    "x_train_clean = x_train[\n",
    "    (x_train[\"total_feed\"] >= 0.1) &\n",
    "    (x_train[\"total_rougher\"] >= 0.1) &\n",
    "    (x_train[\"total_final\"] >= 0.1)\n",
    "]\n",
    "\n",
    "# mostrar cuántas filas quedan después de limpiar los datos\n",
    "filas_eliminadas = x_train.shape[0] - x_train_clean.shape[0]\n",
    "print(\"Filas eliminadas:\", filas_eliminadas)\n"
   ]
  },
  {
   "cell_type": "markdown",
   "metadata": {},
   "source": [
    "Podemos observar que en el total de concentraciones existen valores anomalos evidentes, son valores extremos por lo que se eliminaran."
   ]
  },
  {
   "cell_type": "markdown",
   "metadata": {},
   "source": [
    "## Construcción del modelo."
   ]
  },
  {
   "cell_type": "markdown",
   "metadata": {},
   "source": [
    "### Valor final de sMAPE\n",
    "\n",
    "En esta parte del analisis construiremos una función para cálcular sMAPE, que una métrica utilizada para evaluar la precisión de un modelo de predicción, especialmente en problemas de series temporales o regresión."
   ]
  },
  {
   "cell_type": "code",
   "execution_count": 32,
   "metadata": {},
   "outputs": [],
   "source": [
    "def smape_(y, y_pred, **kwargs):\n",
    "\n",
    "  n = len(y)\n",
    "  abs_y = abs(y)\n",
    "  abs_y_pred = abs(y_pred)\n",
    "  abs_diff = abs(y - y_pred)\n",
    "\n",
    "  return 100*(2/n) * np.nansum(abs_diff / (abs_y + abs_y_pred))\n",
    "\n",
    "\n",
    "def smape_final(y, y_pred):\n",
    "\n",
    "  pred_target_1 = y_pred[:, 0]\n",
    "  pred_target_2 = y_pred[:, 1]\n",
    "\n",
    "  rougher_smape = smape_(y.iloc[:, 0], pred_target_1)\n",
    "  final_smape = smape_(y.iloc[:, 1], pred_target_2)\n",
    "\n",
    "  return 0.25*rougher_smape + 0.75*final_smape\n",
    "\n",
    "#Definimos valor para la validación cruzada\n",
    "smape_scorer = make_scorer(smape_final, greater_is_better=False)"
   ]
  },
  {
   "cell_type": "markdown",
   "metadata": {},
   "source": [
    "### Entrenamiento de diferentes modelos. \n",
    "\n",
    "Evaluaremos mediante la validación cruzada cuál es el mejor modelo utilizando la muestra de prueba. "
   ]
  },
  {
   "cell_type": "code",
   "execution_count": 33,
   "metadata": {},
   "outputs": [
    {
     "name": "stdout",
     "output_type": "stream",
     "text": [
      "Evaluando modelo: LinearRegression\n",
      "sMAPE promedio: 12.457379874738823\n",
      "Evaluando modelo: RandomForestRegressor\n",
      "sMAPE promedio: 6.15698763102054\n",
      "Evaluando modelo: RandomForestRegressor\n",
      "sMAPE promedio: 6.150116392627721\n",
      "Evaluando modelo: RandomForestRegressor\n",
      "sMAPE promedio: 7.85910885867477\n",
      "Evaluando modelo: RandomForestRegressor\n",
      "sMAPE promedio: 12.323156691026329\n"
     ]
    }
   ],
   "source": [
    "# asegurar que solo haya valores numéricos y eliminar valores nulos\n",
    "x_train = x_train.select_dtypes(include=[np.number]).dropna()\n",
    "y_train = y_train.loc[x_train.index]\n",
    "\n",
    "# Selección de modelos\n",
    "models = [LinearRegression(), \n",
    "          RandomForestRegressor(),\n",
    "          RandomForestRegressor(n_estimators=100, max_depth=20), \n",
    "          RandomForestRegressor(n_estimators=50, max_depth=10),\n",
    "          RandomForestRegressor(n_estimators=100, max_depth=5)]\n",
    "\n",
    "for model in models:\n",
    "    print(f\"Evaluando modelo: {model.__class__.__name__}\")\n",
    "    \n",
    "    # Evaluación usando la muestra de entrenamiento y validación cruzada\n",
    "    scores = cross_val_score(model, x_train, y_train, cv=5, scoring=smape_scorer)\n",
    "    \n",
    "    # Mostrar el sMAPE promedio (invirtiendo el signo para que un valor más bajo sea mejor)\n",
    "    print(f\"sMAPE promedio: {-scores.mean()}\")\n"
   ]
  },
  {
   "cell_type": "markdown",
   "metadata": {},
   "source": [
    "El modelo RandomForestRegressor tiene un rendimiento mejor que el LinearRegression.\n",
    "Encontramos que los modelos tienen un sMAPE promedio más bajo. Esto significa que las predicciones hechas por el Random Forest son más precisas, en promedio, que las del modelo de regresión lineal.\n",
    "En este caso la mejor opción es RandomForestRegressor(n_estimators=100, max_depth=20)"
   ]
  },
  {
   "cell_type": "markdown",
   "metadata": {},
   "source": [
    "# Conclusiones\n",
    "\n",
    "Procesamiento de datos:\n",
    "Se realizo la limpieza de los 3 datasets train, test y full. Se encontraron valores ausentes, los cuales fueron eliminados para ingresar información falsa. Se detecto que el tipo de datos de la fecha estaba de forma correcta y se realizo la conversión. Se identifico que el dataset de test no contenia información de cálculos rougher, y algunas otras caracteristicas del producto, sin embargo, no afecto el entrenamiento del modelo. \n",
    "\n",
    "Prepocesamiento de datos:\n",
    "Se trabajo con el dataset de train, se extrajo una muestra para que el proceso fuera más rapido y preciso. \n",
    "\n",
    "Calculo de recuperación:\n",
    "Se realizo un cálculo para validar que el cálculo de recuperación fuera correcto, no se encontraron diferencias por lo que la información en el dataset de entrenamiento es correcta.\n",
    "\n",
    "Distribución de caracteristicas:\n",
    "Se evaluaron las distribuciones de los metales en sus diferentes etapas de purificación y resultado final, la información era coherente.\n",
    "\n",
    "Contrucción del modelo:\n",
    "Para la construcción del modelo se realizo una función para determinar el sMAPE el cual nos ayudo a evaluar el modelo de entrenamiento más adecuado, en este caso fue RandomForestRegressor con una puntuación de 2.581."
   ]
  }
 ],
 "metadata": {
  "ExecuteTimeLog": [
   {
    "duration": 2795,
    "start_time": "2025-03-20T01:01:22.485Z"
   },
   {
    "duration": 587,
    "start_time": "2025-03-20T01:02:02.278Z"
   },
   {
    "duration": 648,
    "start_time": "2025-03-20T01:02:49.767Z"
   },
   {
    "duration": 4,
    "start_time": "2025-03-20T01:03:25.165Z"
   },
   {
    "duration": 18,
    "start_time": "2025-03-20T01:03:32.877Z"
   },
   {
    "duration": 15,
    "start_time": "2025-03-20T01:03:46.747Z"
   },
   {
    "duration": 157,
    "start_time": "2025-03-20T01:03:50.848Z"
   },
   {
    "duration": 4,
    "start_time": "2025-03-20T01:04:04.824Z"
   },
   {
    "duration": 16,
    "start_time": "2025-03-20T01:04:14.895Z"
   },
   {
    "duration": 11,
    "start_time": "2025-03-20T01:04:18.825Z"
   },
   {
    "duration": 84,
    "start_time": "2025-03-20T01:04:25.876Z"
   },
   {
    "duration": 3,
    "start_time": "2025-03-20T01:04:43.194Z"
   },
   {
    "duration": 17,
    "start_time": "2025-03-20T01:04:47.314Z"
   },
   {
    "duration": 15,
    "start_time": "2025-03-20T01:04:53.293Z"
   },
   {
    "duration": 163,
    "start_time": "2025-03-20T01:05:03.398Z"
   },
   {
    "duration": 15,
    "start_time": "2025-03-20T01:22:13.288Z"
   },
   {
    "duration": 13,
    "start_time": "2025-03-20T01:22:24.325Z"
   },
   {
    "duration": 152,
    "start_time": "2025-03-20T01:31:08.907Z"
   },
   {
    "duration": 164,
    "start_time": "2025-03-20T01:31:26.219Z"
   },
   {
    "duration": 14,
    "start_time": "2025-03-20T01:32:42.335Z"
   },
   {
    "duration": 15,
    "start_time": "2025-03-20T01:32:47.868Z"
   },
   {
    "duration": 15,
    "start_time": "2025-03-20T01:32:52.632Z"
   },
   {
    "duration": 300,
    "start_time": "2025-03-20T01:35:31.245Z"
   },
   {
    "duration": 309,
    "start_time": "2025-03-20T01:36:04.352Z"
   },
   {
    "duration": 1065,
    "start_time": "2025-03-20T01:36:11.432Z"
   },
   {
    "duration": 519,
    "start_time": "2025-03-20T01:36:12.500Z"
   },
   {
    "duration": 8,
    "start_time": "2025-03-20T01:36:13.021Z"
   },
   {
    "duration": 25,
    "start_time": "2025-03-20T01:36:13.031Z"
   },
   {
    "duration": 16,
    "start_time": "2025-03-20T01:36:13.059Z"
   },
   {
    "duration": 178,
    "start_time": "2025-03-20T01:36:13.077Z"
   },
   {
    "duration": 4,
    "start_time": "2025-03-20T01:36:13.257Z"
   },
   {
    "duration": 14,
    "start_time": "2025-03-20T01:36:13.263Z"
   },
   {
    "duration": 33,
    "start_time": "2025-03-20T01:36:13.279Z"
   },
   {
    "duration": 102,
    "start_time": "2025-03-20T01:36:13.314Z"
   },
   {
    "duration": 4,
    "start_time": "2025-03-20T01:36:13.418Z"
   },
   {
    "duration": 16,
    "start_time": "2025-03-20T01:36:13.423Z"
   },
   {
    "duration": 14,
    "start_time": "2025-03-20T01:36:13.441Z"
   },
   {
    "duration": 197,
    "start_time": "2025-03-20T01:36:13.461Z"
   },
   {
    "duration": 292,
    "start_time": "2025-03-20T01:36:13.660Z"
   },
   {
    "duration": 0,
    "start_time": "2025-03-20T01:36:13.954Z"
   },
   {
    "duration": 0,
    "start_time": "2025-03-20T01:36:13.955Z"
   },
   {
    "duration": 1064,
    "start_time": "2025-03-20T01:36:30.922Z"
   },
   {
    "duration": 520,
    "start_time": "2025-03-20T01:36:31.988Z"
   },
   {
    "duration": 4,
    "start_time": "2025-03-20T01:36:32.510Z"
   },
   {
    "duration": 17,
    "start_time": "2025-03-20T01:36:32.517Z"
   },
   {
    "duration": 13,
    "start_time": "2025-03-20T01:36:32.535Z"
   },
   {
    "duration": 179,
    "start_time": "2025-03-20T01:36:32.550Z"
   },
   {
    "duration": 4,
    "start_time": "2025-03-20T01:36:32.731Z"
   },
   {
    "duration": 14,
    "start_time": "2025-03-20T01:36:32.737Z"
   },
   {
    "duration": 11,
    "start_time": "2025-03-20T01:36:32.753Z"
   },
   {
    "duration": 114,
    "start_time": "2025-03-20T01:36:32.766Z"
   },
   {
    "duration": 3,
    "start_time": "2025-03-20T01:36:32.882Z"
   },
   {
    "duration": 23,
    "start_time": "2025-03-20T01:36:32.887Z"
   },
   {
    "duration": 13,
    "start_time": "2025-03-20T01:36:32.912Z"
   },
   {
    "duration": 181,
    "start_time": "2025-03-20T01:36:32.927Z"
   },
   {
    "duration": 177,
    "start_time": "2025-03-20T01:36:33.110Z"
   },
   {
    "duration": 325,
    "start_time": "2025-03-20T01:36:33.290Z"
   },
   {
    "duration": 6,
    "start_time": "2025-03-20T01:36:33.617Z"
   },
   {
    "duration": 1072,
    "start_time": "2025-03-20T01:36:58.839Z"
   },
   {
    "duration": 505,
    "start_time": "2025-03-20T01:36:59.914Z"
   },
   {
    "duration": 4,
    "start_time": "2025-03-20T01:37:00.421Z"
   },
   {
    "duration": 17,
    "start_time": "2025-03-20T01:37:00.427Z"
   },
   {
    "duration": 13,
    "start_time": "2025-03-20T01:37:00.447Z"
   },
   {
    "duration": 178,
    "start_time": "2025-03-20T01:37:00.462Z"
   },
   {
    "duration": 3,
    "start_time": "2025-03-20T01:37:00.642Z"
   },
   {
    "duration": 15,
    "start_time": "2025-03-20T01:37:00.647Z"
   },
   {
    "duration": 10,
    "start_time": "2025-03-20T01:37:00.664Z"
   },
   {
    "duration": 113,
    "start_time": "2025-03-20T01:37:00.676Z"
   },
   {
    "duration": 3,
    "start_time": "2025-03-20T01:37:00.791Z"
   },
   {
    "duration": 26,
    "start_time": "2025-03-20T01:37:00.796Z"
   },
   {
    "duration": 13,
    "start_time": "2025-03-20T01:37:00.824Z"
   },
   {
    "duration": 190,
    "start_time": "2025-03-20T01:37:00.841Z"
   },
   {
    "duration": 160,
    "start_time": "2025-03-20T01:37:01.033Z"
   },
   {
    "duration": 302,
    "start_time": "2025-03-20T01:37:01.196Z"
   },
   {
    "duration": 3,
    "start_time": "2025-03-20T01:37:12.850Z"
   },
   {
    "duration": 517,
    "start_time": "2025-03-20T01:37:12.856Z"
   },
   {
    "duration": 4,
    "start_time": "2025-03-20T01:37:13.375Z"
   },
   {
    "duration": 15,
    "start_time": "2025-03-20T01:37:13.381Z"
   },
   {
    "duration": 14,
    "start_time": "2025-03-20T01:37:13.410Z"
   },
   {
    "duration": 183,
    "start_time": "2025-03-20T01:37:13.426Z"
   },
   {
    "duration": 4,
    "start_time": "2025-03-20T01:37:13.611Z"
   },
   {
    "duration": 15,
    "start_time": "2025-03-20T01:37:13.616Z"
   },
   {
    "duration": 10,
    "start_time": "2025-03-20T01:37:13.634Z"
   },
   {
    "duration": 109,
    "start_time": "2025-03-20T01:37:13.647Z"
   },
   {
    "duration": 3,
    "start_time": "2025-03-20T01:37:13.758Z"
   },
   {
    "duration": 17,
    "start_time": "2025-03-20T01:37:13.763Z"
   },
   {
    "duration": 29,
    "start_time": "2025-03-20T01:37:13.781Z"
   },
   {
    "duration": 172,
    "start_time": "2025-03-20T01:37:13.812Z"
   },
   {
    "duration": 146,
    "start_time": "2025-03-20T01:37:20.168Z"
   },
   {
    "duration": 1004,
    "start_time": "2025-03-20T01:38:02.682Z"
   },
   {
    "duration": 632,
    "start_time": "2025-03-20T01:38:03.689Z"
   },
   {
    "duration": 5,
    "start_time": "2025-03-20T01:38:04.323Z"
   },
   {
    "duration": 17,
    "start_time": "2025-03-20T01:38:04.330Z"
   },
   {
    "duration": 21,
    "start_time": "2025-03-20T01:38:04.350Z"
   },
   {
    "duration": 198,
    "start_time": "2025-03-20T01:38:04.373Z"
   },
   {
    "duration": 3,
    "start_time": "2025-03-20T01:38:04.573Z"
   },
   {
    "duration": 31,
    "start_time": "2025-03-20T01:38:04.578Z"
   },
   {
    "duration": 12,
    "start_time": "2025-03-20T01:38:04.610Z"
   },
   {
    "duration": 96,
    "start_time": "2025-03-20T01:38:04.625Z"
   },
   {
    "duration": 4,
    "start_time": "2025-03-20T01:38:04.722Z"
   },
   {
    "duration": 15,
    "start_time": "2025-03-20T01:38:04.727Z"
   },
   {
    "duration": 13,
    "start_time": "2025-03-20T01:38:04.744Z"
   },
   {
    "duration": 200,
    "start_time": "2025-03-20T01:38:04.760Z"
   },
   {
    "duration": 188,
    "start_time": "2025-03-20T01:38:04.962Z"
   },
   {
    "duration": 1110,
    "start_time": "2025-03-20T01:38:23.055Z"
   },
   {
    "duration": 535,
    "start_time": "2025-03-20T01:38:24.168Z"
   },
   {
    "duration": 6,
    "start_time": "2025-03-20T01:38:24.705Z"
   },
   {
    "duration": 19,
    "start_time": "2025-03-20T01:38:24.715Z"
   },
   {
    "duration": 28,
    "start_time": "2025-03-20T01:38:24.736Z"
   },
   {
    "duration": 169,
    "start_time": "2025-03-20T01:38:24.766Z"
   },
   {
    "duration": 5,
    "start_time": "2025-03-20T01:38:24.939Z"
   },
   {
    "duration": 15,
    "start_time": "2025-03-20T01:38:24.945Z"
   },
   {
    "duration": 11,
    "start_time": "2025-03-20T01:38:24.962Z"
   },
   {
    "duration": 102,
    "start_time": "2025-03-20T01:38:24.974Z"
   },
   {
    "duration": 3,
    "start_time": "2025-03-20T01:38:25.078Z"
   },
   {
    "duration": 27,
    "start_time": "2025-03-20T01:38:25.083Z"
   },
   {
    "duration": 12,
    "start_time": "2025-03-20T01:38:25.112Z"
   },
   {
    "duration": 205,
    "start_time": "2025-03-20T01:38:25.128Z"
   },
   {
    "duration": 162,
    "start_time": "2025-03-20T01:38:25.335Z"
   },
   {
    "duration": 228,
    "start_time": "2025-03-20T01:39:50.852Z"
   },
   {
    "duration": 16,
    "start_time": "2025-03-20T01:39:58.121Z"
   },
   {
    "duration": 6,
    "start_time": "2025-03-20T01:40:15.197Z"
   },
   {
    "duration": 6,
    "start_time": "2025-03-20T01:40:24.662Z"
   },
   {
    "duration": 17,
    "start_time": "2025-03-20T01:42:49.424Z"
   },
   {
    "duration": 6,
    "start_time": "2025-03-20T01:42:59.571Z"
   },
   {
    "duration": 7,
    "start_time": "2025-03-20T01:43:33.654Z"
   },
   {
    "duration": 15,
    "start_time": "2025-03-20T01:44:28.929Z"
   },
   {
    "duration": 11,
    "start_time": "2025-03-20T01:45:29.755Z"
   },
   {
    "duration": 20,
    "start_time": "2025-03-20T01:46:10.370Z"
   },
   {
    "duration": 9,
    "start_time": "2025-03-20T01:46:21.184Z"
   },
   {
    "duration": 6,
    "start_time": "2025-03-20T01:50:08.221Z"
   },
   {
    "duration": 8,
    "start_time": "2025-03-20T01:50:45.748Z"
   },
   {
    "duration": 17,
    "start_time": "2025-03-20T01:54:56.444Z"
   },
   {
    "duration": 15,
    "start_time": "2025-03-20T01:56:28.322Z"
   },
   {
    "duration": 27,
    "start_time": "2025-03-20T01:56:52.838Z"
   },
   {
    "duration": 29,
    "start_time": "2025-03-20T01:57:17.353Z"
   },
   {
    "duration": 19,
    "start_time": "2025-03-20T01:58:47.318Z"
   },
   {
    "duration": 13,
    "start_time": "2025-03-20T01:58:58.442Z"
   },
   {
    "duration": 8,
    "start_time": "2025-03-20T01:59:22.516Z"
   },
   {
    "duration": 14,
    "start_time": "2025-03-20T01:59:39.320Z"
   },
   {
    "duration": 155,
    "start_time": "2025-03-20T05:05:18.014Z"
   },
   {
    "duration": 2665,
    "start_time": "2025-03-20T05:05:31.402Z"
   },
   {
    "duration": 604,
    "start_time": "2025-03-20T05:05:34.069Z"
   },
   {
    "duration": 5,
    "start_time": "2025-03-20T05:05:34.674Z"
   },
   {
    "duration": 18,
    "start_time": "2025-03-20T05:05:34.680Z"
   },
   {
    "duration": 16,
    "start_time": "2025-03-20T05:05:34.700Z"
   },
   {
    "duration": 163,
    "start_time": "2025-03-20T05:05:34.718Z"
   },
   {
    "duration": 4,
    "start_time": "2025-03-20T05:05:34.883Z"
   },
   {
    "duration": 28,
    "start_time": "2025-03-20T05:05:34.888Z"
   },
   {
    "duration": 9,
    "start_time": "2025-03-20T05:05:34.918Z"
   },
   {
    "duration": 94,
    "start_time": "2025-03-20T05:05:34.929Z"
   },
   {
    "duration": 3,
    "start_time": "2025-03-20T05:05:35.025Z"
   },
   {
    "duration": 14,
    "start_time": "2025-03-20T05:05:35.029Z"
   },
   {
    "duration": 13,
    "start_time": "2025-03-20T05:05:35.045Z"
   },
   {
    "duration": 188,
    "start_time": "2025-03-20T05:05:35.061Z"
   },
   {
    "duration": 168,
    "start_time": "2025-03-20T05:05:35.250Z"
   },
   {
    "duration": 6,
    "start_time": "2025-03-20T05:05:35.420Z"
   },
   {
    "duration": 6,
    "start_time": "2025-03-20T05:05:35.428Z"
   },
   {
    "duration": 6,
    "start_time": "2025-03-20T05:05:35.435Z"
   },
   {
    "duration": 11,
    "start_time": "2025-03-20T05:05:35.443Z"
   },
   {
    "duration": 7,
    "start_time": "2025-03-20T05:05:35.455Z"
   },
   {
    "duration": 50,
    "start_time": "2025-03-20T05:05:35.464Z"
   },
   {
    "duration": 14,
    "start_time": "2025-03-20T05:05:35.516Z"
   },
   {
    "duration": 70,
    "start_time": "2025-03-20T05:06:51.404Z"
   },
   {
    "duration": 18,
    "start_time": "2025-03-20T05:07:43.654Z"
   },
   {
    "duration": 12,
    "start_time": "2025-03-20T05:08:14.377Z"
   },
   {
    "duration": 18,
    "start_time": "2025-03-20T05:08:22.317Z"
   },
   {
    "duration": 5,
    "start_time": "2025-03-20T05:09:13.705Z"
   },
   {
    "duration": 13,
    "start_time": "2025-03-20T05:09:23.852Z"
   },
   {
    "duration": 18,
    "start_time": "2025-03-20T05:09:49.414Z"
   },
   {
    "duration": 262,
    "start_time": "2025-03-20T05:14:58.854Z"
   },
   {
    "duration": 12,
    "start_time": "2025-03-20T05:15:13.415Z"
   },
   {
    "duration": 14,
    "start_time": "2025-03-20T06:19:21.315Z"
   },
   {
    "duration": 421,
    "start_time": "2025-03-20T06:20:00.181Z"
   },
   {
    "duration": 46,
    "start_time": "2025-03-20T06:20:17.765Z"
   },
   {
    "duration": 47,
    "start_time": "2025-03-20T06:23:50.576Z"
   },
   {
    "duration": 5,
    "start_time": "2025-03-20T06:26:15.139Z"
   },
   {
    "duration": 5,
    "start_time": "2025-03-20T06:26:57.350Z"
   },
   {
    "duration": 4,
    "start_time": "2025-03-20T06:34:10.288Z"
   },
   {
    "duration": 3,
    "start_time": "2025-03-20T06:49:26.271Z"
   },
   {
    "duration": 174,
    "start_time": "2025-03-21T01:29:28.058Z"
   },
   {
    "duration": 2684,
    "start_time": "2025-03-21T01:29:33.414Z"
   },
   {
    "duration": 684,
    "start_time": "2025-03-21T01:29:36.100Z"
   },
   {
    "duration": 5,
    "start_time": "2025-03-21T01:29:36.786Z"
   },
   {
    "duration": 17,
    "start_time": "2025-03-21T01:29:36.793Z"
   },
   {
    "duration": 31,
    "start_time": "2025-03-21T01:29:36.812Z"
   },
   {
    "duration": 168,
    "start_time": "2025-03-21T01:29:36.844Z"
   },
   {
    "duration": 3,
    "start_time": "2025-03-21T01:29:37.015Z"
   },
   {
    "duration": 29,
    "start_time": "2025-03-21T01:29:37.020Z"
   },
   {
    "duration": 11,
    "start_time": "2025-03-21T01:29:37.050Z"
   },
   {
    "duration": 96,
    "start_time": "2025-03-21T01:29:37.063Z"
   },
   {
    "duration": 3,
    "start_time": "2025-03-21T01:29:37.161Z"
   },
   {
    "duration": 15,
    "start_time": "2025-03-21T01:29:37.165Z"
   },
   {
    "duration": 13,
    "start_time": "2025-03-21T01:29:37.181Z"
   },
   {
    "duration": 191,
    "start_time": "2025-03-21T01:29:37.197Z"
   },
   {
    "duration": 157,
    "start_time": "2025-03-21T01:29:37.390Z"
   },
   {
    "duration": 6,
    "start_time": "2025-03-21T01:29:37.548Z"
   },
   {
    "duration": 5,
    "start_time": "2025-03-21T01:29:37.556Z"
   },
   {
    "duration": 7,
    "start_time": "2025-03-21T01:29:37.562Z"
   },
   {
    "duration": 11,
    "start_time": "2025-03-21T01:29:37.571Z"
   },
   {
    "duration": 7,
    "start_time": "2025-03-21T01:29:37.583Z"
   },
   {
    "duration": 53,
    "start_time": "2025-03-21T01:29:37.592Z"
   },
   {
    "duration": 16,
    "start_time": "2025-03-21T01:29:37.647Z"
   },
   {
    "duration": 12,
    "start_time": "2025-03-21T01:29:37.665Z"
   },
   {
    "duration": 17,
    "start_time": "2025-03-21T01:29:37.678Z"
   },
   {
    "duration": 6,
    "start_time": "2025-03-21T01:29:37.698Z"
   },
   {
    "duration": 5,
    "start_time": "2025-03-21T01:29:37.706Z"
   },
   {
    "duration": 33,
    "start_time": "2025-03-21T01:29:37.712Z"
   },
   {
    "duration": 297,
    "start_time": "2025-03-21T01:29:37.746Z"
   },
   {
    "duration": 15,
    "start_time": "2025-03-21T01:29:44.718Z"
   },
   {
    "duration": 4,
    "start_time": "2025-03-21T01:29:53.071Z"
   },
   {
    "duration": 5,
    "start_time": "2025-03-21T01:30:26.169Z"
   },
   {
    "duration": 3,
    "start_time": "2025-03-21T01:33:28.139Z"
   },
   {
    "duration": 305,
    "start_time": "2025-03-21T01:58:18.842Z"
   },
   {
    "duration": 29,
    "start_time": "2025-03-21T02:19:27.007Z"
   },
   {
    "duration": 6,
    "start_time": "2025-03-21T02:19:53.911Z"
   },
   {
    "duration": 22,
    "start_time": "2025-03-21T02:23:06.334Z"
   },
   {
    "duration": 660,
    "start_time": "2025-03-21T02:23:27.157Z"
   },
   {
    "duration": 66,
    "start_time": "2025-03-21T02:23:41.934Z"
   },
   {
    "duration": 74,
    "start_time": "2025-03-21T02:23:50.553Z"
   },
   {
    "duration": 10,
    "start_time": "2025-03-21T02:24:51.351Z"
   },
   {
    "duration": 21,
    "start_time": "2025-03-21T02:26:07.986Z"
   },
   {
    "duration": 1123,
    "start_time": "2025-03-21T02:26:26.318Z"
   },
   {
    "duration": 1011,
    "start_time": "2025-03-21T02:32:35.141Z"
   },
   {
    "duration": 2684,
    "start_time": "2025-03-22T04:19:34.171Z"
   },
   {
    "duration": 652,
    "start_time": "2025-03-22T04:19:36.858Z"
   },
   {
    "duration": 5,
    "start_time": "2025-03-22T04:19:37.511Z"
   },
   {
    "duration": 17,
    "start_time": "2025-03-22T04:19:37.518Z"
   },
   {
    "duration": 13,
    "start_time": "2025-03-22T04:19:37.537Z"
   },
   {
    "duration": 182,
    "start_time": "2025-03-22T04:19:37.551Z"
   },
   {
    "duration": 3,
    "start_time": "2025-03-22T04:19:37.735Z"
   },
   {
    "duration": 14,
    "start_time": "2025-03-22T04:19:37.740Z"
   },
   {
    "duration": 31,
    "start_time": "2025-03-22T04:19:37.756Z"
   },
   {
    "duration": 98,
    "start_time": "2025-03-22T04:19:37.789Z"
   },
   {
    "duration": 3,
    "start_time": "2025-03-22T04:19:37.890Z"
   },
   {
    "duration": 15,
    "start_time": "2025-03-22T04:19:37.895Z"
   },
   {
    "duration": 13,
    "start_time": "2025-03-22T04:19:37.913Z"
   },
   {
    "duration": 194,
    "start_time": "2025-03-22T04:19:37.929Z"
   },
   {
    "duration": 174,
    "start_time": "2025-03-22T04:19:38.125Z"
   },
   {
    "duration": 7,
    "start_time": "2025-03-22T04:19:38.301Z"
   },
   {
    "duration": 5,
    "start_time": "2025-03-22T04:19:38.309Z"
   },
   {
    "duration": 8,
    "start_time": "2025-03-22T04:19:38.316Z"
   },
   {
    "duration": 12,
    "start_time": "2025-03-22T04:19:38.326Z"
   },
   {
    "duration": 8,
    "start_time": "2025-03-22T04:19:38.341Z"
   },
   {
    "duration": 46,
    "start_time": "2025-03-22T04:19:38.351Z"
   },
   {
    "duration": 16,
    "start_time": "2025-03-22T04:19:38.399Z"
   },
   {
    "duration": 13,
    "start_time": "2025-03-22T04:19:38.416Z"
   },
   {
    "duration": 17,
    "start_time": "2025-03-22T04:19:38.431Z"
   },
   {
    "duration": 38,
    "start_time": "2025-03-22T04:19:38.451Z"
   },
   {
    "duration": 6,
    "start_time": "2025-03-22T04:19:38.491Z"
   },
   {
    "duration": 5,
    "start_time": "2025-03-22T04:19:38.499Z"
   },
   {
    "duration": 6,
    "start_time": "2025-03-22T04:19:38.506Z"
   },
   {
    "duration": 5,
    "start_time": "2025-03-22T04:19:38.514Z"
   },
   {
    "duration": 1028,
    "start_time": "2025-03-22T04:19:38.521Z"
   },
   {
    "duration": 228,
    "start_time": "2025-03-22T04:24:35.623Z"
   },
   {
    "duration": 353,
    "start_time": "2025-03-22T04:24:42.537Z"
   },
   {
    "duration": 3936,
    "start_time": "2025-03-22T04:37:27.037Z"
   },
   {
    "duration": 2887,
    "start_time": "2025-03-22T04:44:40.205Z"
   },
   {
    "duration": 277,
    "start_time": "2025-03-22T05:07:10.780Z"
   },
   {
    "duration": 11,
    "start_time": "2025-03-22T05:10:35.444Z"
   },
   {
    "duration": 1051,
    "start_time": "2025-03-22T05:10:44.812Z"
   },
   {
    "duration": 529,
    "start_time": "2025-03-22T05:10:45.865Z"
   },
   {
    "duration": 4,
    "start_time": "2025-03-22T05:10:46.395Z"
   },
   {
    "duration": 16,
    "start_time": "2025-03-22T05:10:46.401Z"
   },
   {
    "duration": 13,
    "start_time": "2025-03-22T05:10:46.419Z"
   },
   {
    "duration": 179,
    "start_time": "2025-03-22T05:10:46.434Z"
   },
   {
    "duration": 3,
    "start_time": "2025-03-22T05:10:46.615Z"
   },
   {
    "duration": 15,
    "start_time": "2025-03-22T05:10:46.620Z"
   },
   {
    "duration": 10,
    "start_time": "2025-03-22T05:10:46.636Z"
   },
   {
    "duration": 109,
    "start_time": "2025-03-22T05:10:46.647Z"
   },
   {
    "duration": 5,
    "start_time": "2025-03-22T05:10:46.758Z"
   },
   {
    "duration": 27,
    "start_time": "2025-03-22T05:10:46.764Z"
   },
   {
    "duration": 13,
    "start_time": "2025-03-22T05:10:46.793Z"
   },
   {
    "duration": 181,
    "start_time": "2025-03-22T05:10:46.809Z"
   },
   {
    "duration": 166,
    "start_time": "2025-03-22T05:10:46.991Z"
   },
   {
    "duration": 7,
    "start_time": "2025-03-22T05:10:47.159Z"
   },
   {
    "duration": 18,
    "start_time": "2025-03-22T05:10:47.168Z"
   },
   {
    "duration": 7,
    "start_time": "2025-03-22T05:10:47.188Z"
   },
   {
    "duration": 11,
    "start_time": "2025-03-22T05:10:47.197Z"
   },
   {
    "duration": 8,
    "start_time": "2025-03-22T05:10:47.210Z"
   },
   {
    "duration": 13,
    "start_time": "2025-03-22T05:10:47.219Z"
   },
   {
    "duration": 16,
    "start_time": "2025-03-22T05:10:47.234Z"
   },
   {
    "duration": 45,
    "start_time": "2025-03-22T05:10:47.251Z"
   },
   {
    "duration": 17,
    "start_time": "2025-03-22T05:10:47.298Z"
   },
   {
    "duration": 5,
    "start_time": "2025-03-22T05:10:47.318Z"
   },
   {
    "duration": 5,
    "start_time": "2025-03-22T05:10:47.325Z"
   },
   {
    "duration": 5,
    "start_time": "2025-03-22T05:10:47.332Z"
   },
   {
    "duration": 7,
    "start_time": "2025-03-22T05:10:47.338Z"
   },
   {
    "duration": 8,
    "start_time": "2025-03-22T05:10:47.386Z"
   },
   {
    "duration": 2795,
    "start_time": "2025-03-22T05:10:47.397Z"
   },
   {
    "duration": 186,
    "start_time": "2025-03-22T05:10:50.194Z"
   },
   {
    "duration": 298,
    "start_time": "2025-03-22T05:41:54.512Z"
   },
   {
    "duration": 16,
    "start_time": "2025-03-22T05:45:32.397Z"
   },
   {
    "duration": 645,
    "start_time": "2025-03-22T05:50:33.952Z"
   },
   {
    "duration": 1022,
    "start_time": "2025-03-22T05:51:16.622Z"
   },
   {
    "duration": 523,
    "start_time": "2025-03-22T05:51:17.646Z"
   },
   {
    "duration": 5,
    "start_time": "2025-03-22T05:51:18.171Z"
   },
   {
    "duration": 16,
    "start_time": "2025-03-22T05:51:18.186Z"
   },
   {
    "duration": 12,
    "start_time": "2025-03-22T05:51:18.204Z"
   },
   {
    "duration": 185,
    "start_time": "2025-03-22T05:51:18.218Z"
   },
   {
    "duration": 3,
    "start_time": "2025-03-22T05:51:18.405Z"
   },
   {
    "duration": 15,
    "start_time": "2025-03-22T05:51:18.410Z"
   },
   {
    "duration": 9,
    "start_time": "2025-03-22T05:51:18.427Z"
   },
   {
    "duration": 109,
    "start_time": "2025-03-22T05:51:18.440Z"
   },
   {
    "duration": 3,
    "start_time": "2025-03-22T05:51:18.551Z"
   },
   {
    "duration": 15,
    "start_time": "2025-03-22T05:51:18.556Z"
   },
   {
    "duration": 13,
    "start_time": "2025-03-22T05:51:18.588Z"
   },
   {
    "duration": 178,
    "start_time": "2025-03-22T05:51:18.603Z"
   },
   {
    "duration": 153,
    "start_time": "2025-03-22T05:51:18.786Z"
   },
   {
    "duration": 7,
    "start_time": "2025-03-22T05:51:18.941Z"
   },
   {
    "duration": 4,
    "start_time": "2025-03-22T05:51:18.950Z"
   },
   {
    "duration": 8,
    "start_time": "2025-03-22T05:51:18.956Z"
   },
   {
    "duration": 30,
    "start_time": "2025-03-22T05:51:18.965Z"
   },
   {
    "duration": 6,
    "start_time": "2025-03-22T05:51:18.997Z"
   },
   {
    "duration": 13,
    "start_time": "2025-03-22T05:51:19.005Z"
   },
   {
    "duration": 16,
    "start_time": "2025-03-22T05:51:19.020Z"
   },
   {
    "duration": 12,
    "start_time": "2025-03-22T05:51:19.038Z"
   },
   {
    "duration": 50,
    "start_time": "2025-03-22T05:51:19.051Z"
   },
   {
    "duration": 6,
    "start_time": "2025-03-22T05:51:19.103Z"
   },
   {
    "duration": 5,
    "start_time": "2025-03-22T05:51:19.111Z"
   },
   {
    "duration": 5,
    "start_time": "2025-03-22T05:51:19.117Z"
   },
   {
    "duration": 7,
    "start_time": "2025-03-22T05:51:19.126Z"
   },
   {
    "duration": 7,
    "start_time": "2025-03-22T05:51:19.135Z"
   },
   {
    "duration": 2837,
    "start_time": "2025-03-22T05:51:19.143Z"
   },
   {
    "duration": 182,
    "start_time": "2025-03-22T05:51:21.982Z"
   },
   {
    "duration": 312,
    "start_time": "2025-03-22T05:51:22.166Z"
   },
   {
    "duration": 17,
    "start_time": "2025-03-22T05:51:22.480Z"
   },
   {
    "duration": 652,
    "start_time": "2025-03-22T05:51:22.499Z"
   },
   {
    "duration": 18,
    "start_time": "2025-03-22T05:53:47.612Z"
   },
   {
    "duration": 47,
    "start_time": "2025-03-22T05:53:52.405Z"
   },
   {
    "duration": 5,
    "start_time": "2025-03-22T07:45:32.119Z"
   },
   {
    "duration": 169,
    "start_time": "2025-03-22T07:52:04.413Z"
   },
   {
    "duration": 2799,
    "start_time": "2025-03-22T07:52:11.369Z"
   },
   {
    "duration": 668,
    "start_time": "2025-03-22T07:52:14.170Z"
   },
   {
    "duration": 4,
    "start_time": "2025-03-22T07:52:14.840Z"
   },
   {
    "duration": 17,
    "start_time": "2025-03-22T07:52:14.846Z"
   },
   {
    "duration": 14,
    "start_time": "2025-03-22T07:52:14.866Z"
   },
   {
    "duration": 186,
    "start_time": "2025-03-22T07:52:14.882Z"
   },
   {
    "duration": 3,
    "start_time": "2025-03-22T07:52:15.070Z"
   },
   {
    "duration": 16,
    "start_time": "2025-03-22T07:52:15.074Z"
   },
   {
    "duration": 12,
    "start_time": "2025-03-22T07:52:15.092Z"
   },
   {
    "duration": 110,
    "start_time": "2025-03-22T07:52:15.105Z"
   },
   {
    "duration": 17,
    "start_time": "2025-03-22T07:52:15.217Z"
   },
   {
    "duration": 16,
    "start_time": "2025-03-22T07:52:15.236Z"
   },
   {
    "duration": 15,
    "start_time": "2025-03-22T07:52:15.254Z"
   },
   {
    "duration": 265,
    "start_time": "2025-03-22T07:52:15.273Z"
   },
   {
    "duration": 164,
    "start_time": "2025-03-22T07:52:15.540Z"
   },
   {
    "duration": 7,
    "start_time": "2025-03-22T07:52:15.706Z"
   },
   {
    "duration": 18,
    "start_time": "2025-03-22T07:52:15.715Z"
   },
   {
    "duration": 7,
    "start_time": "2025-03-22T07:52:15.735Z"
   },
   {
    "duration": 11,
    "start_time": "2025-03-22T07:52:15.745Z"
   },
   {
    "duration": 7,
    "start_time": "2025-03-22T07:52:15.759Z"
   },
   {
    "duration": 15,
    "start_time": "2025-03-22T07:52:15.768Z"
   },
   {
    "duration": 49,
    "start_time": "2025-03-22T07:52:15.785Z"
   },
   {
    "duration": 12,
    "start_time": "2025-03-22T07:52:15.836Z"
   },
   {
    "duration": 17,
    "start_time": "2025-03-22T07:52:15.850Z"
   },
   {
    "duration": 8,
    "start_time": "2025-03-22T07:52:15.869Z"
   },
   {
    "duration": 6,
    "start_time": "2025-03-22T07:52:15.879Z"
   },
   {
    "duration": 5,
    "start_time": "2025-03-22T07:52:15.886Z"
   },
   {
    "duration": 45,
    "start_time": "2025-03-22T07:52:15.892Z"
   },
   {
    "duration": 10,
    "start_time": "2025-03-22T07:52:15.939Z"
   },
   {
    "duration": 3031,
    "start_time": "2025-03-22T07:52:15.951Z"
   },
   {
    "duration": 203,
    "start_time": "2025-03-22T07:52:18.984Z"
   },
   {
    "duration": 233,
    "start_time": "2025-03-22T07:52:19.189Z"
   },
   {
    "duration": 803,
    "start_time": "2025-03-22T07:52:19.424Z"
   },
   {
    "duration": 0,
    "start_time": "2025-03-22T07:52:20.228Z"
   },
   {
    "duration": 229,
    "start_time": "2025-03-22T07:53:21.069Z"
   },
   {
    "duration": 244,
    "start_time": "2025-03-22T07:54:29.113Z"
   },
   {
    "duration": 12,
    "start_time": "2025-03-22T08:00:31.991Z"
   },
   {
    "duration": 266,
    "start_time": "2025-03-22T08:00:36.490Z"
   },
   {
    "duration": 4,
    "start_time": "2025-03-22T08:04:57.603Z"
   },
   {
    "duration": 14,
    "start_time": "2025-03-22T08:06:08.758Z"
   },
   {
    "duration": 2,
    "start_time": "2025-03-22T08:06:37.556Z"
   },
   {
    "duration": 3,
    "start_time": "2025-03-22T08:06:39.588Z"
   },
   {
    "duration": 15,
    "start_time": "2025-03-22T08:06:40.073Z"
   },
   {
    "duration": 3,
    "start_time": "2025-03-22T08:07:39.237Z"
   },
   {
    "duration": 15,
    "start_time": "2025-03-22T08:11:48.925Z"
   },
   {
    "duration": 1100,
    "start_time": "2025-03-22T08:12:17.240Z"
   },
   {
    "duration": 519,
    "start_time": "2025-03-22T08:12:18.342Z"
   },
   {
    "duration": 4,
    "start_time": "2025-03-22T08:12:18.863Z"
   },
   {
    "duration": 17,
    "start_time": "2025-03-22T08:12:18.869Z"
   },
   {
    "duration": 14,
    "start_time": "2025-03-22T08:12:18.887Z"
   },
   {
    "duration": 173,
    "start_time": "2025-03-22T08:12:18.903Z"
   },
   {
    "duration": 3,
    "start_time": "2025-03-22T08:12:19.078Z"
   },
   {
    "duration": 14,
    "start_time": "2025-03-22T08:12:19.083Z"
   },
   {
    "duration": 33,
    "start_time": "2025-03-22T08:12:19.099Z"
   },
   {
    "duration": 87,
    "start_time": "2025-03-22T08:12:19.135Z"
   },
   {
    "duration": 8,
    "start_time": "2025-03-22T08:12:19.224Z"
   },
   {
    "duration": 14,
    "start_time": "2025-03-22T08:12:19.234Z"
   },
   {
    "duration": 13,
    "start_time": "2025-03-22T08:12:19.250Z"
   },
   {
    "duration": 189,
    "start_time": "2025-03-22T08:12:19.265Z"
   },
   {
    "duration": 159,
    "start_time": "2025-03-22T08:12:19.456Z"
   },
   {
    "duration": 14,
    "start_time": "2025-03-22T08:12:19.617Z"
   },
   {
    "duration": 6,
    "start_time": "2025-03-22T08:12:19.633Z"
   },
   {
    "duration": 7,
    "start_time": "2025-03-22T08:12:19.641Z"
   },
   {
    "duration": 11,
    "start_time": "2025-03-22T08:12:19.649Z"
   },
   {
    "duration": 7,
    "start_time": "2025-03-22T08:12:19.662Z"
   },
   {
    "duration": 15,
    "start_time": "2025-03-22T08:12:19.670Z"
   },
   {
    "duration": 54,
    "start_time": "2025-03-22T08:12:19.686Z"
   },
   {
    "duration": 12,
    "start_time": "2025-03-22T08:12:19.742Z"
   },
   {
    "duration": 24,
    "start_time": "2025-03-22T08:12:19.756Z"
   },
   {
    "duration": 6,
    "start_time": "2025-03-22T08:12:19.784Z"
   },
   {
    "duration": 6,
    "start_time": "2025-03-22T08:12:19.792Z"
   },
   {
    "duration": 35,
    "start_time": "2025-03-22T08:12:19.799Z"
   },
   {
    "duration": 6,
    "start_time": "2025-03-22T08:12:19.838Z"
   },
   {
    "duration": 8,
    "start_time": "2025-03-22T08:12:19.846Z"
   },
   {
    "duration": 2907,
    "start_time": "2025-03-22T08:12:19.855Z"
   },
   {
    "duration": 187,
    "start_time": "2025-03-22T08:12:22.763Z"
   },
   {
    "duration": 324,
    "start_time": "2025-03-22T08:12:22.952Z"
   },
   {
    "duration": 226,
    "start_time": "2025-03-22T08:12:23.278Z"
   },
   {
    "duration": 11,
    "start_time": "2025-03-22T08:12:23.507Z"
   },
   {
    "duration": 285,
    "start_time": "2025-03-22T08:12:23.519Z"
   },
   {
    "duration": 3,
    "start_time": "2025-03-22T08:12:23.806Z"
   },
   {
    "duration": 321,
    "start_time": "2025-03-22T08:12:23.811Z"
   },
   {
    "duration": 15,
    "start_time": "2025-03-22T08:14:04.858Z"
   },
   {
    "duration": 28,
    "start_time": "2025-03-22T08:17:52.408Z"
   },
   {
    "duration": 1025,
    "start_time": "2025-03-22T08:17:58.032Z"
   },
   {
    "duration": 509,
    "start_time": "2025-03-22T08:17:59.059Z"
   },
   {
    "duration": 5,
    "start_time": "2025-03-22T08:17:59.570Z"
   },
   {
    "duration": 17,
    "start_time": "2025-03-22T08:17:59.577Z"
   },
   {
    "duration": 13,
    "start_time": "2025-03-22T08:17:59.595Z"
   },
   {
    "duration": 177,
    "start_time": "2025-03-22T08:17:59.609Z"
   },
   {
    "duration": 4,
    "start_time": "2025-03-22T08:17:59.787Z"
   },
   {
    "duration": 15,
    "start_time": "2025-03-22T08:17:59.792Z"
   },
   {
    "duration": 25,
    "start_time": "2025-03-22T08:17:59.809Z"
   },
   {
    "duration": 81,
    "start_time": "2025-03-22T08:17:59.838Z"
   },
   {
    "duration": 4,
    "start_time": "2025-03-22T08:17:59.931Z"
   },
   {
    "duration": 14,
    "start_time": "2025-03-22T08:17:59.936Z"
   },
   {
    "duration": 13,
    "start_time": "2025-03-22T08:17:59.952Z"
   },
   {
    "duration": 188,
    "start_time": "2025-03-22T08:17:59.966Z"
   },
   {
    "duration": 164,
    "start_time": "2025-03-22T08:18:00.156Z"
   },
   {
    "duration": 15,
    "start_time": "2025-03-22T08:18:00.321Z"
   },
   {
    "duration": 4,
    "start_time": "2025-03-22T08:18:00.338Z"
   },
   {
    "duration": 8,
    "start_time": "2025-03-22T08:18:00.344Z"
   },
   {
    "duration": 10,
    "start_time": "2025-03-22T08:18:00.354Z"
   },
   {
    "duration": 7,
    "start_time": "2025-03-22T08:18:00.366Z"
   },
   {
    "duration": 13,
    "start_time": "2025-03-22T08:18:00.374Z"
   },
   {
    "duration": 55,
    "start_time": "2025-03-22T08:18:00.389Z"
   },
   {
    "duration": 11,
    "start_time": "2025-03-22T08:18:00.446Z"
   },
   {
    "duration": 17,
    "start_time": "2025-03-22T08:18:00.459Z"
   },
   {
    "duration": 6,
    "start_time": "2025-03-22T08:18:00.478Z"
   },
   {
    "duration": 5,
    "start_time": "2025-03-22T08:18:00.487Z"
   },
   {
    "duration": 4,
    "start_time": "2025-03-22T08:18:00.493Z"
   },
   {
    "duration": 8,
    "start_time": "2025-03-22T08:18:00.533Z"
   },
   {
    "duration": 7,
    "start_time": "2025-03-22T08:18:00.542Z"
   },
   {
    "duration": 2892,
    "start_time": "2025-03-22T08:18:00.551Z"
   },
   {
    "duration": 278,
    "start_time": "2025-03-22T08:18:03.445Z"
   },
   {
    "duration": 224,
    "start_time": "2025-03-22T08:18:03.731Z"
   },
   {
    "duration": 229,
    "start_time": "2025-03-22T08:18:03.957Z"
   },
   {
    "duration": 11,
    "start_time": "2025-03-22T08:18:04.188Z"
   },
   {
    "duration": 279,
    "start_time": "2025-03-22T08:18:04.201Z"
   },
   {
    "duration": 5,
    "start_time": "2025-03-22T08:18:04.481Z"
   },
   {
    "duration": 313,
    "start_time": "2025-03-22T08:18:04.488Z"
   },
   {
    "duration": 17,
    "start_time": "2025-03-22T08:19:41.661Z"
   },
   {
    "duration": 128,
    "start_time": "2025-03-22T08:20:58.320Z"
   },
   {
    "duration": 45,
    "start_time": "2025-03-22T08:24:23.424Z"
   },
   {
    "duration": 3,
    "start_time": "2025-03-22T08:24:59.591Z"
   },
   {
    "duration": 9,
    "start_time": "2025-03-22T08:25:41.108Z"
   },
   {
    "duration": 1008,
    "start_time": "2025-03-22T08:25:50.631Z"
   },
   {
    "duration": 523,
    "start_time": "2025-03-22T08:25:51.641Z"
   },
   {
    "duration": 6,
    "start_time": "2025-03-22T08:25:52.166Z"
   },
   {
    "duration": 17,
    "start_time": "2025-03-22T08:25:52.177Z"
   },
   {
    "duration": 14,
    "start_time": "2025-03-22T08:25:52.195Z"
   },
   {
    "duration": 171,
    "start_time": "2025-03-22T08:25:52.210Z"
   },
   {
    "duration": 4,
    "start_time": "2025-03-22T08:25:52.382Z"
   },
   {
    "duration": 14,
    "start_time": "2025-03-22T08:25:52.388Z"
   },
   {
    "duration": 35,
    "start_time": "2025-03-22T08:25:52.403Z"
   },
   {
    "duration": 95,
    "start_time": "2025-03-22T08:25:52.441Z"
   },
   {
    "duration": 4,
    "start_time": "2025-03-22T08:25:52.538Z"
   },
   {
    "duration": 15,
    "start_time": "2025-03-22T08:25:52.543Z"
   },
   {
    "duration": 13,
    "start_time": "2025-03-22T08:25:52.560Z"
   },
   {
    "duration": 188,
    "start_time": "2025-03-22T08:25:52.574Z"
   },
   {
    "duration": 160,
    "start_time": "2025-03-22T08:25:52.764Z"
   },
   {
    "duration": 7,
    "start_time": "2025-03-22T08:25:52.926Z"
   },
   {
    "duration": 6,
    "start_time": "2025-03-22T08:25:52.934Z"
   },
   {
    "duration": 6,
    "start_time": "2025-03-22T08:25:52.942Z"
   },
   {
    "duration": 10,
    "start_time": "2025-03-22T08:25:52.950Z"
   },
   {
    "duration": 8,
    "start_time": "2025-03-22T08:25:52.962Z"
   },
   {
    "duration": 13,
    "start_time": "2025-03-22T08:25:52.971Z"
   },
   {
    "duration": 53,
    "start_time": "2025-03-22T08:25:52.986Z"
   },
   {
    "duration": 12,
    "start_time": "2025-03-22T08:25:53.040Z"
   },
   {
    "duration": 18,
    "start_time": "2025-03-22T08:25:53.053Z"
   },
   {
    "duration": 6,
    "start_time": "2025-03-22T08:25:53.073Z"
   },
   {
    "duration": 4,
    "start_time": "2025-03-22T08:25:53.081Z"
   },
   {
    "duration": 5,
    "start_time": "2025-03-22T08:25:53.087Z"
   },
   {
    "duration": 7,
    "start_time": "2025-03-22T08:25:53.132Z"
   },
   {
    "duration": 9,
    "start_time": "2025-03-22T08:25:53.140Z"
   },
   {
    "duration": 2858,
    "start_time": "2025-03-22T08:25:53.151Z"
   },
   {
    "duration": 287,
    "start_time": "2025-03-22T08:25:56.011Z"
   },
   {
    "duration": 239,
    "start_time": "2025-03-22T08:25:56.300Z"
   },
   {
    "duration": 219,
    "start_time": "2025-03-22T08:25:56.541Z"
   },
   {
    "duration": 10,
    "start_time": "2025-03-22T08:25:56.762Z"
   },
   {
    "duration": 274,
    "start_time": "2025-03-22T08:25:56.774Z"
   },
   {
    "duration": 4,
    "start_time": "2025-03-22T08:25:57.049Z"
   },
   {
    "duration": 433,
    "start_time": "2025-03-22T08:25:57.054Z"
   },
   {
    "duration": 0,
    "start_time": "2025-03-22T08:25:57.489Z"
   },
   {
    "duration": 3,
    "start_time": "2025-03-22T08:26:02.190Z"
   },
   {
    "duration": 1084,
    "start_time": "2025-03-22T08:27:40.467Z"
   },
   {
    "duration": 525,
    "start_time": "2025-03-22T08:27:41.553Z"
   },
   {
    "duration": 5,
    "start_time": "2025-03-22T08:27:42.079Z"
   },
   {
    "duration": 17,
    "start_time": "2025-03-22T08:27:42.087Z"
   },
   {
    "duration": 29,
    "start_time": "2025-03-22T08:27:42.105Z"
   },
   {
    "duration": 157,
    "start_time": "2025-03-22T08:27:42.136Z"
   },
   {
    "duration": 4,
    "start_time": "2025-03-22T08:27:42.295Z"
   },
   {
    "duration": 15,
    "start_time": "2025-03-22T08:27:42.300Z"
   },
   {
    "duration": 25,
    "start_time": "2025-03-22T08:27:42.316Z"
   },
   {
    "duration": 93,
    "start_time": "2025-03-22T08:27:42.344Z"
   },
   {
    "duration": 4,
    "start_time": "2025-03-22T08:27:42.439Z"
   },
   {
    "duration": 15,
    "start_time": "2025-03-22T08:27:42.444Z"
   },
   {
    "duration": 13,
    "start_time": "2025-03-22T08:27:42.461Z"
   },
   {
    "duration": 196,
    "start_time": "2025-03-22T08:27:42.476Z"
   },
   {
    "duration": 162,
    "start_time": "2025-03-22T08:27:42.673Z"
   },
   {
    "duration": 9,
    "start_time": "2025-03-22T08:27:42.838Z"
   },
   {
    "duration": 6,
    "start_time": "2025-03-22T08:27:42.850Z"
   },
   {
    "duration": 8,
    "start_time": "2025-03-22T08:27:42.859Z"
   },
   {
    "duration": 12,
    "start_time": "2025-03-22T08:27:42.871Z"
   },
   {
    "duration": 8,
    "start_time": "2025-03-22T08:27:42.885Z"
   },
   {
    "duration": 42,
    "start_time": "2025-03-22T08:27:42.894Z"
   },
   {
    "duration": 15,
    "start_time": "2025-03-22T08:27:42.937Z"
   },
   {
    "duration": 11,
    "start_time": "2025-03-22T08:27:42.954Z"
   },
   {
    "duration": 17,
    "start_time": "2025-03-22T08:27:42.967Z"
   },
   {
    "duration": 6,
    "start_time": "2025-03-22T08:27:42.985Z"
   },
   {
    "duration": 5,
    "start_time": "2025-03-22T08:27:42.993Z"
   },
   {
    "duration": 4,
    "start_time": "2025-03-22T08:27:43.032Z"
   },
   {
    "duration": 7,
    "start_time": "2025-03-22T08:27:43.039Z"
   },
   {
    "duration": 8,
    "start_time": "2025-03-22T08:27:43.048Z"
   },
   {
    "duration": 2817,
    "start_time": "2025-03-22T08:27:43.057Z"
   },
   {
    "duration": 286,
    "start_time": "2025-03-22T08:27:45.876Z"
   },
   {
    "duration": 228,
    "start_time": "2025-03-22T08:27:46.164Z"
   },
   {
    "duration": 212,
    "start_time": "2025-03-22T08:27:46.394Z"
   },
   {
    "duration": 3,
    "start_time": "2025-03-22T08:27:46.609Z"
   },
   {
    "duration": 43,
    "start_time": "2025-03-22T08:27:46.613Z"
   },
   {
    "duration": 3,
    "start_time": "2025-03-22T08:27:46.659Z"
   },
   {
    "duration": 8,
    "start_time": "2025-03-22T08:30:35.542Z"
   },
   {
    "duration": 245,
    "start_time": "2025-03-22T08:34:04.279Z"
   },
   {
    "duration": 17,
    "start_time": "2025-03-22T08:34:41.029Z"
   },
   {
    "duration": 1022,
    "start_time": "2025-03-22T08:35:10.612Z"
   },
   {
    "duration": 519,
    "start_time": "2025-03-22T08:35:11.636Z"
   },
   {
    "duration": 5,
    "start_time": "2025-03-22T08:35:12.156Z"
   },
   {
    "duration": 19,
    "start_time": "2025-03-22T08:35:12.164Z"
   },
   {
    "duration": 14,
    "start_time": "2025-03-22T08:35:12.185Z"
   },
   {
    "duration": 175,
    "start_time": "2025-03-22T08:35:12.203Z"
   },
   {
    "duration": 3,
    "start_time": "2025-03-22T08:35:12.380Z"
   },
   {
    "duration": 14,
    "start_time": "2025-03-22T08:35:12.385Z"
   },
   {
    "duration": 31,
    "start_time": "2025-03-22T08:35:12.401Z"
   },
   {
    "duration": 86,
    "start_time": "2025-03-22T08:35:12.435Z"
   },
   {
    "duration": 11,
    "start_time": "2025-03-22T08:35:12.522Z"
   },
   {
    "duration": 15,
    "start_time": "2025-03-22T08:35:12.534Z"
   },
   {
    "duration": 13,
    "start_time": "2025-03-22T08:35:12.550Z"
   },
   {
    "duration": 184,
    "start_time": "2025-03-22T08:35:12.564Z"
   },
   {
    "duration": 160,
    "start_time": "2025-03-22T08:35:12.750Z"
   },
   {
    "duration": 6,
    "start_time": "2025-03-22T08:35:12.912Z"
   },
   {
    "duration": 14,
    "start_time": "2025-03-22T08:35:12.920Z"
   },
   {
    "duration": 7,
    "start_time": "2025-03-22T08:35:12.937Z"
   },
   {
    "duration": 11,
    "start_time": "2025-03-22T08:35:12.946Z"
   },
   {
    "duration": 7,
    "start_time": "2025-03-22T08:35:12.959Z"
   },
   {
    "duration": 13,
    "start_time": "2025-03-22T08:35:12.968Z"
   },
   {
    "duration": 48,
    "start_time": "2025-03-22T08:35:12.983Z"
   },
   {
    "duration": 11,
    "start_time": "2025-03-22T08:35:13.033Z"
   },
   {
    "duration": 17,
    "start_time": "2025-03-22T08:35:13.046Z"
   },
   {
    "duration": 6,
    "start_time": "2025-03-22T08:35:13.065Z"
   },
   {
    "duration": 6,
    "start_time": "2025-03-22T08:35:13.072Z"
   },
   {
    "duration": 4,
    "start_time": "2025-03-22T08:35:13.080Z"
   },
   {
    "duration": 44,
    "start_time": "2025-03-22T08:35:13.087Z"
   },
   {
    "duration": 9,
    "start_time": "2025-03-22T08:35:13.133Z"
   },
   {
    "duration": 2787,
    "start_time": "2025-03-22T08:35:13.144Z"
   },
   {
    "duration": 281,
    "start_time": "2025-03-22T08:35:15.933Z"
   },
   {
    "duration": 238,
    "start_time": "2025-03-22T08:35:16.216Z"
   },
   {
    "duration": 222,
    "start_time": "2025-03-22T08:35:16.456Z"
   },
   {
    "duration": 3,
    "start_time": "2025-03-22T08:35:16.680Z"
   },
   {
    "duration": 4,
    "start_time": "2025-03-22T08:36:46.713Z"
   },
   {
    "duration": 89864,
    "start_time": "2025-03-22T08:36:46.719Z"
   },
   {
    "duration": 1071,
    "start_time": "2025-03-22T23:27:25.465Z"
   },
   {
    "duration": 475,
    "start_time": "2025-03-22T23:27:26.538Z"
   },
   {
    "duration": 3,
    "start_time": "2025-03-22T23:27:27.015Z"
   },
   {
    "duration": 16,
    "start_time": "2025-03-22T23:27:27.020Z"
   },
   {
    "duration": 13,
    "start_time": "2025-03-22T23:27:27.038Z"
   },
   {
    "duration": 197,
    "start_time": "2025-03-22T23:27:27.052Z"
   },
   {
    "duration": 4,
    "start_time": "2025-03-22T23:27:27.251Z"
   },
   {
    "duration": 16,
    "start_time": "2025-03-22T23:27:27.256Z"
   },
   {
    "duration": 12,
    "start_time": "2025-03-22T23:27:27.274Z"
   },
   {
    "duration": 101,
    "start_time": "2025-03-22T23:27:27.288Z"
   },
   {
    "duration": 3,
    "start_time": "2025-03-22T23:27:27.391Z"
   },
   {
    "duration": 15,
    "start_time": "2025-03-22T23:27:27.412Z"
   },
   {
    "duration": 16,
    "start_time": "2025-03-22T23:27:27.429Z"
   },
   {
    "duration": 203,
    "start_time": "2025-03-22T23:27:27.449Z"
   },
   {
    "duration": 159,
    "start_time": "2025-03-22T23:27:27.654Z"
   },
   {
    "duration": 8,
    "start_time": "2025-03-22T23:27:27.815Z"
   },
   {
    "duration": 6,
    "start_time": "2025-03-22T23:27:27.824Z"
   },
   {
    "duration": 6,
    "start_time": "2025-03-22T23:27:27.833Z"
   },
   {
    "duration": 13,
    "start_time": "2025-03-22T23:27:27.841Z"
   },
   {
    "duration": 8,
    "start_time": "2025-03-22T23:27:27.855Z"
   },
   {
    "duration": 15,
    "start_time": "2025-03-22T23:27:27.864Z"
   },
   {
    "duration": 14,
    "start_time": "2025-03-22T23:27:27.912Z"
   },
   {
    "duration": 13,
    "start_time": "2025-03-22T23:27:27.928Z"
   },
   {
    "duration": 22,
    "start_time": "2025-03-22T23:27:27.942Z"
   },
   {
    "duration": 4,
    "start_time": "2025-03-22T23:27:27.966Z"
   },
   {
    "duration": 5,
    "start_time": "2025-03-22T23:27:27.972Z"
   },
   {
    "duration": 37,
    "start_time": "2025-03-22T23:27:27.978Z"
   },
   {
    "duration": 9,
    "start_time": "2025-03-22T23:27:28.016Z"
   },
   {
    "duration": 9,
    "start_time": "2025-03-22T23:27:28.034Z"
   },
   {
    "duration": 2797,
    "start_time": "2025-03-22T23:27:28.045Z"
   },
   {
    "duration": 289,
    "start_time": "2025-03-22T23:27:30.843Z"
   },
   {
    "duration": 224,
    "start_time": "2025-03-22T23:27:31.135Z"
   },
   {
    "duration": 215,
    "start_time": "2025-03-22T23:27:31.362Z"
   },
   {
    "duration": 5,
    "start_time": "2025-03-22T23:27:31.578Z"
   },
   {
    "duration": 90574,
    "start_time": "2025-03-22T23:27:31.585Z"
   },
   {
    "duration": 155,
    "start_time": "2025-03-23T06:59:54.490Z"
   },
   {
    "duration": 2638,
    "start_time": "2025-03-23T07:00:04.299Z"
   },
   {
    "duration": 619,
    "start_time": "2025-03-23T07:00:06.939Z"
   },
   {
    "duration": 4,
    "start_time": "2025-03-23T07:00:07.559Z"
   },
   {
    "duration": 17,
    "start_time": "2025-03-23T07:00:07.566Z"
   },
   {
    "duration": 13,
    "start_time": "2025-03-23T07:00:07.584Z"
   },
   {
    "duration": 183,
    "start_time": "2025-03-23T07:00:07.599Z"
   },
   {
    "duration": 4,
    "start_time": "2025-03-23T07:00:07.784Z"
   },
   {
    "duration": 14,
    "start_time": "2025-03-23T07:00:07.789Z"
   },
   {
    "duration": 22,
    "start_time": "2025-03-23T07:00:07.805Z"
   },
   {
    "duration": 97,
    "start_time": "2025-03-23T07:00:07.830Z"
   },
   {
    "duration": 3,
    "start_time": "2025-03-23T07:00:07.930Z"
   },
   {
    "duration": 16,
    "start_time": "2025-03-23T07:00:07.935Z"
   },
   {
    "duration": 13,
    "start_time": "2025-03-23T07:00:07.952Z"
   },
   {
    "duration": 241,
    "start_time": "2025-03-23T07:00:07.967Z"
   },
   {
    "duration": 161,
    "start_time": "2025-03-23T07:00:08.210Z"
   },
   {
    "duration": 7,
    "start_time": "2025-03-23T07:00:08.373Z"
   },
   {
    "duration": 5,
    "start_time": "2025-03-23T07:00:08.381Z"
   },
   {
    "duration": 7,
    "start_time": "2025-03-23T07:00:08.387Z"
   },
   {
    "duration": 821,
    "start_time": "2025-03-23T07:00:08.395Z"
   },
   {
    "duration": 0,
    "start_time": "2025-03-23T07:00:09.219Z"
   },
   {
    "duration": 0,
    "start_time": "2025-03-23T07:00:09.224Z"
   },
   {
    "duration": 0,
    "start_time": "2025-03-23T07:00:09.226Z"
   },
   {
    "duration": 0,
    "start_time": "2025-03-23T07:00:09.227Z"
   },
   {
    "duration": 0,
    "start_time": "2025-03-23T07:00:09.229Z"
   },
   {
    "duration": 0,
    "start_time": "2025-03-23T07:00:09.230Z"
   },
   {
    "duration": 0,
    "start_time": "2025-03-23T07:00:09.231Z"
   },
   {
    "duration": 0,
    "start_time": "2025-03-23T07:00:09.236Z"
   },
   {
    "duration": 0,
    "start_time": "2025-03-23T07:00:09.237Z"
   },
   {
    "duration": 0,
    "start_time": "2025-03-23T07:00:09.238Z"
   },
   {
    "duration": 0,
    "start_time": "2025-03-23T07:00:09.239Z"
   },
   {
    "duration": 0,
    "start_time": "2025-03-23T07:00:09.241Z"
   },
   {
    "duration": 0,
    "start_time": "2025-03-23T07:00:09.242Z"
   },
   {
    "duration": 0,
    "start_time": "2025-03-23T07:00:09.243Z"
   },
   {
    "duration": 3,
    "start_time": "2025-03-23T07:00:38.294Z"
   },
   {
    "duration": 499,
    "start_time": "2025-03-23T07:00:38.298Z"
   },
   {
    "duration": 3,
    "start_time": "2025-03-23T07:00:38.799Z"
   },
   {
    "duration": 26,
    "start_time": "2025-03-23T07:00:38.804Z"
   },
   {
    "duration": 13,
    "start_time": "2025-03-23T07:00:38.832Z"
   },
   {
    "duration": 165,
    "start_time": "2025-03-23T07:00:38.846Z"
   },
   {
    "duration": 3,
    "start_time": "2025-03-23T07:00:39.013Z"
   },
   {
    "duration": 15,
    "start_time": "2025-03-23T07:00:39.024Z"
   },
   {
    "duration": 11,
    "start_time": "2025-03-23T07:00:39.040Z"
   },
   {
    "duration": 107,
    "start_time": "2025-03-23T07:00:39.053Z"
   },
   {
    "duration": 4,
    "start_time": "2025-03-23T07:00:39.164Z"
   },
   {
    "duration": 15,
    "start_time": "2025-03-23T07:00:39.169Z"
   },
   {
    "duration": 12,
    "start_time": "2025-03-23T07:00:39.187Z"
   },
   {
    "duration": 183,
    "start_time": "2025-03-23T07:00:39.201Z"
   },
   {
    "duration": 154,
    "start_time": "2025-03-23T07:00:39.386Z"
   },
   {
    "duration": 8,
    "start_time": "2025-03-23T07:00:39.542Z"
   },
   {
    "duration": 5,
    "start_time": "2025-03-23T07:00:39.551Z"
   },
   {
    "duration": 8,
    "start_time": "2025-03-23T07:00:39.557Z"
   },
   {
    "duration": 91,
    "start_time": "2025-03-23T07:00:39.567Z"
   },
   {
    "duration": 0,
    "start_time": "2025-03-23T07:00:39.660Z"
   },
   {
    "duration": 0,
    "start_time": "2025-03-23T07:00:39.662Z"
   },
   {
    "duration": 0,
    "start_time": "2025-03-23T07:00:39.663Z"
   },
   {
    "duration": 0,
    "start_time": "2025-03-23T07:00:39.665Z"
   },
   {
    "duration": 0,
    "start_time": "2025-03-23T07:00:39.666Z"
   },
   {
    "duration": 0,
    "start_time": "2025-03-23T07:00:39.667Z"
   },
   {
    "duration": 1,
    "start_time": "2025-03-23T07:00:39.668Z"
   },
   {
    "duration": 0,
    "start_time": "2025-03-23T07:00:39.669Z"
   },
   {
    "duration": 0,
    "start_time": "2025-03-23T07:00:39.670Z"
   },
   {
    "duration": 0,
    "start_time": "2025-03-23T07:00:39.671Z"
   },
   {
    "duration": 0,
    "start_time": "2025-03-23T07:00:39.672Z"
   },
   {
    "duration": 0,
    "start_time": "2025-03-23T07:00:39.673Z"
   },
   {
    "duration": 0,
    "start_time": "2025-03-23T07:00:39.674Z"
   },
   {
    "duration": 0,
    "start_time": "2025-03-23T07:00:39.675Z"
   },
   {
    "duration": 17,
    "start_time": "2025-03-23T07:02:02.102Z"
   },
   {
    "duration": 13,
    "start_time": "2025-03-23T07:02:05.448Z"
   },
   {
    "duration": 19,
    "start_time": "2025-03-23T07:02:06.299Z"
   },
   {
    "duration": 72,
    "start_time": "2025-03-23T07:02:22.567Z"
   },
   {
    "duration": 137,
    "start_time": "2025-03-23T07:07:00.391Z"
   },
   {
    "duration": 147,
    "start_time": "2025-03-23T07:07:02.385Z"
   },
   {
    "duration": 358,
    "start_time": "2025-03-23T07:07:30.216Z"
   },
   {
    "duration": 59,
    "start_time": "2025-03-23T07:08:40.888Z"
   },
   {
    "duration": 46,
    "start_time": "2025-03-23T07:09:14.202Z"
   },
   {
    "duration": 44,
    "start_time": "2025-03-23T07:09:25.750Z"
   },
   {
    "duration": 42,
    "start_time": "2025-03-23T07:09:44.921Z"
   },
   {
    "duration": 152,
    "start_time": "2025-03-23T07:10:54.284Z"
   },
   {
    "duration": 1031,
    "start_time": "2025-03-23T07:11:04.234Z"
   },
   {
    "duration": 491,
    "start_time": "2025-03-23T07:11:05.268Z"
   },
   {
    "duration": 5,
    "start_time": "2025-03-23T07:11:05.760Z"
   },
   {
    "duration": 18,
    "start_time": "2025-03-23T07:11:05.768Z"
   },
   {
    "duration": 14,
    "start_time": "2025-03-23T07:11:05.788Z"
   },
   {
    "duration": 176,
    "start_time": "2025-03-23T07:11:05.805Z"
   },
   {
    "duration": 4,
    "start_time": "2025-03-23T07:11:05.983Z"
   },
   {
    "duration": 35,
    "start_time": "2025-03-23T07:11:05.989Z"
   },
   {
    "duration": 10,
    "start_time": "2025-03-23T07:11:06.025Z"
   },
   {
    "duration": 96,
    "start_time": "2025-03-23T07:11:06.039Z"
   },
   {
    "duration": 4,
    "start_time": "2025-03-23T07:11:06.137Z"
   },
   {
    "duration": 15,
    "start_time": "2025-03-23T07:11:06.143Z"
   },
   {
    "duration": 12,
    "start_time": "2025-03-23T07:11:06.162Z"
   },
   {
    "duration": 184,
    "start_time": "2025-03-23T07:11:06.176Z"
   },
   {
    "duration": 158,
    "start_time": "2025-03-23T07:11:06.362Z"
   },
   {
    "duration": 6,
    "start_time": "2025-03-23T07:11:06.524Z"
   },
   {
    "duration": 5,
    "start_time": "2025-03-23T07:11:06.532Z"
   },
   {
    "duration": 7,
    "start_time": "2025-03-23T07:11:06.538Z"
   },
   {
    "duration": 12,
    "start_time": "2025-03-23T07:11:06.547Z"
   },
   {
    "duration": 108,
    "start_time": "2025-03-23T07:11:06.561Z"
   },
   {
    "duration": 7,
    "start_time": "2025-03-23T07:11:06.670Z"
   },
   {
    "duration": 5,
    "start_time": "2025-03-23T07:11:06.678Z"
   },
   {
    "duration": 4,
    "start_time": "2025-03-23T07:11:06.685Z"
   },
   {
    "duration": 9,
    "start_time": "2025-03-23T07:11:06.690Z"
   },
   {
    "duration": 32,
    "start_time": "2025-03-23T07:11:06.700Z"
   },
   {
    "duration": 2651,
    "start_time": "2025-03-23T07:11:06.734Z"
   },
   {
    "duration": 264,
    "start_time": "2025-03-23T07:11:09.386Z"
   },
   {
    "duration": 231,
    "start_time": "2025-03-23T07:11:09.654Z"
   },
   {
    "duration": 226,
    "start_time": "2025-03-23T07:11:09.887Z"
   },
   {
    "duration": 9,
    "start_time": "2025-03-23T07:11:10.115Z"
   },
   {
    "duration": 158067,
    "start_time": "2025-03-23T07:11:10.126Z"
   },
   {
    "duration": 231,
    "start_time": "2025-03-23T07:17:14.046Z"
   },
   {
    "duration": 6,
    "start_time": "2025-03-23T07:17:29.507Z"
   },
   {
    "duration": 5,
    "start_time": "2025-03-23T07:17:53.226Z"
   },
   {
    "duration": 7,
    "start_time": "2025-03-23T07:18:13.461Z"
   },
   {
    "duration": 1000,
    "start_time": "2025-03-23T07:18:23.352Z"
   },
   {
    "duration": 497,
    "start_time": "2025-03-23T07:18:24.354Z"
   },
   {
    "duration": 4,
    "start_time": "2025-03-23T07:18:24.853Z"
   },
   {
    "duration": 16,
    "start_time": "2025-03-23T07:18:24.859Z"
   },
   {
    "duration": 13,
    "start_time": "2025-03-23T07:18:24.877Z"
   },
   {
    "duration": 179,
    "start_time": "2025-03-23T07:18:24.892Z"
   },
   {
    "duration": 3,
    "start_time": "2025-03-23T07:18:25.073Z"
   },
   {
    "duration": 14,
    "start_time": "2025-03-23T07:18:25.078Z"
   },
   {
    "duration": 32,
    "start_time": "2025-03-23T07:18:25.093Z"
   },
   {
    "duration": 83,
    "start_time": "2025-03-23T07:18:25.128Z"
   },
   {
    "duration": 12,
    "start_time": "2025-03-23T07:18:25.213Z"
   },
   {
    "duration": 14,
    "start_time": "2025-03-23T07:18:25.228Z"
   },
   {
    "duration": 13,
    "start_time": "2025-03-23T07:18:25.244Z"
   },
   {
    "duration": 186,
    "start_time": "2025-03-23T07:18:25.258Z"
   },
   {
    "duration": 165,
    "start_time": "2025-03-23T07:18:25.446Z"
   },
   {
    "duration": 14,
    "start_time": "2025-03-23T07:18:25.613Z"
   },
   {
    "duration": 5,
    "start_time": "2025-03-23T07:18:25.629Z"
   },
   {
    "duration": 7,
    "start_time": "2025-03-23T07:18:25.635Z"
   },
   {
    "duration": 12,
    "start_time": "2025-03-23T07:18:25.644Z"
   },
   {
    "duration": 103,
    "start_time": "2025-03-23T07:18:25.657Z"
   },
   {
    "duration": 6,
    "start_time": "2025-03-23T07:18:25.762Z"
   },
   {
    "duration": 4,
    "start_time": "2025-03-23T07:18:25.771Z"
   },
   {
    "duration": 6,
    "start_time": "2025-03-23T07:18:25.777Z"
   },
   {
    "duration": 6,
    "start_time": "2025-03-23T07:18:25.784Z"
   },
   {
    "duration": 5,
    "start_time": "2025-03-23T07:18:25.792Z"
   },
   {
    "duration": 29,
    "start_time": "2025-03-23T07:18:25.799Z"
   },
   {
    "duration": 8,
    "start_time": "2025-03-23T07:18:25.829Z"
   },
   {
    "duration": 11,
    "start_time": "2025-03-23T07:18:25.842Z"
   },
   {
    "duration": 2713,
    "start_time": "2025-03-23T07:18:25.854Z"
   },
   {
    "duration": 274,
    "start_time": "2025-03-23T07:18:28.568Z"
   },
   {
    "duration": 238,
    "start_time": "2025-03-23T07:18:28.844Z"
   },
   {
    "duration": 228,
    "start_time": "2025-03-23T07:18:29.084Z"
   },
   {
    "duration": 10,
    "start_time": "2025-03-23T07:18:29.314Z"
   },
   {
    "duration": 157753,
    "start_time": "2025-03-23T07:18:29.325Z"
   },
   {
    "duration": 637,
    "start_time": "2025-03-23T07:22:29.180Z"
   },
   {
    "duration": 2039,
    "start_time": "2025-03-23T07:24:07.996Z"
   },
   {
    "duration": 1200,
    "start_time": "2025-03-23T07:25:12.682Z"
   },
   {
    "duration": 1217,
    "start_time": "2025-03-23T07:26:39.165Z"
   },
   {
    "duration": 2546,
    "start_time": "2025-03-23T07:27:17.731Z"
   },
   {
    "duration": 722,
    "start_time": "2025-03-23T07:29:56.579Z"
   },
   {
    "duration": 2512,
    "start_time": "2025-03-23T07:30:24.967Z"
   },
   {
    "duration": 3266,
    "start_time": "2025-03-23T07:33:05.431Z"
   },
   {
    "duration": 3225,
    "start_time": "2025-03-23T07:34:27.963Z"
   },
   {
    "duration": 30,
    "start_time": "2025-03-23T07:37:38.602Z"
   },
   {
    "duration": 9,
    "start_time": "2025-03-23T07:39:37.246Z"
   },
   {
    "duration": 3154,
    "start_time": "2025-03-23T07:40:01.334Z"
   },
   {
    "duration": 2089,
    "start_time": "2025-03-23T07:40:11.622Z"
   },
   {
    "duration": 2052,
    "start_time": "2025-03-23T07:40:51.112Z"
   },
   {
    "duration": 1905,
    "start_time": "2025-03-23T07:41:14.699Z"
   },
   {
    "duration": 2026,
    "start_time": "2025-03-23T07:41:36.498Z"
   },
   {
    "duration": 1937,
    "start_time": "2025-03-23T07:42:02.697Z"
   },
   {
    "duration": 8,
    "start_time": "2025-03-23T07:43:20.414Z"
   },
   {
    "duration": 8,
    "start_time": "2025-03-23T07:44:04.368Z"
   },
   {
    "duration": 2091,
    "start_time": "2025-03-23T07:45:09.763Z"
   },
   {
    "duration": 1866,
    "start_time": "2025-03-23T07:45:19.738Z"
   },
   {
    "duration": 1884,
    "start_time": "2025-03-23T07:45:29.620Z"
   },
   {
    "duration": 2148,
    "start_time": "2025-03-23T07:46:19.667Z"
   },
   {
    "duration": 1892,
    "start_time": "2025-03-23T07:46:44.003Z"
   },
   {
    "duration": 2018,
    "start_time": "2025-03-23T07:47:16.985Z"
   },
   {
    "duration": 2078,
    "start_time": "2025-03-23T07:47:33.432Z"
   },
   {
    "duration": 1897,
    "start_time": "2025-03-23T07:48:37.202Z"
   },
   {
    "duration": 1997,
    "start_time": "2025-03-23T07:48:58.112Z"
   },
   {
    "duration": 2029,
    "start_time": "2025-03-23T07:49:14.098Z"
   },
   {
    "duration": 170,
    "start_time": "2025-03-23T09:21:59.175Z"
   },
   {
    "duration": 9,
    "start_time": "2025-03-23T09:23:48.178Z"
   },
   {
    "duration": 19,
    "start_time": "2025-03-23T09:24:04.855Z"
   },
   {
    "duration": 2728,
    "start_time": "2025-03-23T09:24:25.053Z"
   },
   {
    "duration": 633,
    "start_time": "2025-03-23T09:24:27.784Z"
   },
   {
    "duration": 4,
    "start_time": "2025-03-23T09:24:28.419Z"
   },
   {
    "duration": 17,
    "start_time": "2025-03-23T09:24:28.426Z"
   },
   {
    "duration": 27,
    "start_time": "2025-03-23T09:24:28.444Z"
   },
   {
    "duration": 215,
    "start_time": "2025-03-23T09:24:28.473Z"
   },
   {
    "duration": 3,
    "start_time": "2025-03-23T09:24:28.690Z"
   },
   {
    "duration": 14,
    "start_time": "2025-03-23T09:24:28.694Z"
   },
   {
    "duration": 10,
    "start_time": "2025-03-23T09:24:28.710Z"
   },
   {
    "duration": 111,
    "start_time": "2025-03-23T09:24:28.723Z"
   },
   {
    "duration": 3,
    "start_time": "2025-03-23T09:24:28.836Z"
   },
   {
    "duration": 14,
    "start_time": "2025-03-23T09:24:28.841Z"
   },
   {
    "duration": 32,
    "start_time": "2025-03-23T09:24:28.857Z"
   },
   {
    "duration": 169,
    "start_time": "2025-03-23T09:24:28.890Z"
   },
   {
    "duration": 160,
    "start_time": "2025-03-23T09:24:29.061Z"
   },
   {
    "duration": 6,
    "start_time": "2025-03-23T09:24:29.223Z"
   },
   {
    "duration": 6,
    "start_time": "2025-03-23T09:24:29.231Z"
   },
   {
    "duration": 6,
    "start_time": "2025-03-23T09:24:29.239Z"
   },
   {
    "duration": 34,
    "start_time": "2025-03-23T09:24:29.246Z"
   },
   {
    "duration": 89,
    "start_time": "2025-03-23T09:24:29.281Z"
   },
   {
    "duration": 7,
    "start_time": "2025-03-23T09:24:29.372Z"
   },
   {
    "duration": 5,
    "start_time": "2025-03-23T09:24:29.380Z"
   },
   {
    "duration": 7,
    "start_time": "2025-03-23T09:24:29.387Z"
   },
   {
    "duration": 7,
    "start_time": "2025-03-23T09:24:29.396Z"
   },
   {
    "duration": 5,
    "start_time": "2025-03-23T09:24:29.404Z"
   },
   {
    "duration": 4,
    "start_time": "2025-03-23T09:24:29.412Z"
   },
   {
    "duration": 10,
    "start_time": "2025-03-23T09:24:29.417Z"
   },
   {
    "duration": 12,
    "start_time": "2025-03-23T09:24:29.471Z"
   },
   {
    "duration": 1978,
    "start_time": "2025-03-23T09:24:29.484Z"
   },
   {
    "duration": 180,
    "start_time": "2025-03-23T09:24:31.465Z"
   },
   {
    "duration": 429,
    "start_time": "2025-03-23T09:24:31.647Z"
   },
   {
    "duration": 0,
    "start_time": "2025-03-23T09:24:32.078Z"
   },
   {
    "duration": 0,
    "start_time": "2025-03-23T09:24:32.079Z"
   },
   {
    "duration": 0,
    "start_time": "2025-03-23T09:24:32.081Z"
   },
   {
    "duration": 0,
    "start_time": "2025-03-23T09:24:32.082Z"
   },
   {
    "duration": 4,
    "start_time": "2025-03-23T09:25:14.808Z"
   },
   {
    "duration": 1076,
    "start_time": "2025-03-23T09:25:19.788Z"
   },
   {
    "duration": 528,
    "start_time": "2025-03-23T09:25:20.866Z"
   },
   {
    "duration": 6,
    "start_time": "2025-03-23T09:25:21.396Z"
   },
   {
    "duration": 18,
    "start_time": "2025-03-23T09:25:21.403Z"
   },
   {
    "duration": 13,
    "start_time": "2025-03-23T09:25:21.424Z"
   },
   {
    "duration": 191,
    "start_time": "2025-03-23T09:25:21.439Z"
   },
   {
    "duration": 3,
    "start_time": "2025-03-23T09:25:21.632Z"
   },
   {
    "duration": 15,
    "start_time": "2025-03-23T09:25:21.636Z"
   },
   {
    "duration": 25,
    "start_time": "2025-03-23T09:25:21.652Z"
   },
   {
    "duration": 92,
    "start_time": "2025-03-23T09:25:21.679Z"
   },
   {
    "duration": 3,
    "start_time": "2025-03-23T09:25:21.773Z"
   },
   {
    "duration": 15,
    "start_time": "2025-03-23T09:25:21.778Z"
   },
   {
    "duration": 13,
    "start_time": "2025-03-23T09:25:21.795Z"
   },
   {
    "duration": 192,
    "start_time": "2025-03-23T09:25:21.811Z"
   },
   {
    "duration": 160,
    "start_time": "2025-03-23T09:25:22.005Z"
   },
   {
    "duration": 6,
    "start_time": "2025-03-23T09:25:22.170Z"
   },
   {
    "duration": 5,
    "start_time": "2025-03-23T09:25:22.178Z"
   },
   {
    "duration": 7,
    "start_time": "2025-03-23T09:25:22.184Z"
   },
   {
    "duration": 11,
    "start_time": "2025-03-23T09:25:22.193Z"
   },
   {
    "duration": 105,
    "start_time": "2025-03-23T09:25:22.206Z"
   },
   {
    "duration": 7,
    "start_time": "2025-03-23T09:25:22.313Z"
   },
   {
    "duration": 4,
    "start_time": "2025-03-23T09:25:22.322Z"
   },
   {
    "duration": 6,
    "start_time": "2025-03-23T09:25:22.328Z"
   },
   {
    "duration": 35,
    "start_time": "2025-03-23T09:25:22.336Z"
   },
   {
    "duration": 5,
    "start_time": "2025-03-23T09:25:22.373Z"
   },
   {
    "duration": 5,
    "start_time": "2025-03-23T09:25:22.380Z"
   },
   {
    "duration": 8,
    "start_time": "2025-03-23T09:25:22.387Z"
   },
   {
    "duration": 10,
    "start_time": "2025-03-23T09:25:22.397Z"
   },
   {
    "duration": 2443,
    "start_time": "2025-03-23T09:25:22.409Z"
   },
   {
    "duration": 182,
    "start_time": "2025-03-23T09:25:24.854Z"
   },
   {
    "duration": 1094,
    "start_time": "2025-03-23T09:25:25.037Z"
   },
   {
    "duration": 240,
    "start_time": "2025-03-23T09:25:26.133Z"
   },
   {
    "duration": 244,
    "start_time": "2025-03-23T09:25:26.375Z"
   },
   {
    "duration": 5,
    "start_time": "2025-03-23T09:25:26.621Z"
   },
   {
    "duration": 1021,
    "start_time": "2025-03-23T09:28:02.544Z"
   },
   {
    "duration": 612,
    "start_time": "2025-03-23T09:28:03.568Z"
   },
   {
    "duration": 5,
    "start_time": "2025-03-23T09:28:04.181Z"
   },
   {
    "duration": 25,
    "start_time": "2025-03-23T09:28:04.188Z"
   },
   {
    "duration": 66,
    "start_time": "2025-03-23T09:28:04.215Z"
   },
   {
    "duration": 316,
    "start_time": "2025-03-23T09:28:04.282Z"
   },
   {
    "duration": 4,
    "start_time": "2025-03-23T09:28:04.599Z"
   },
   {
    "duration": 68,
    "start_time": "2025-03-23T09:28:04.604Z"
   },
   {
    "duration": 10,
    "start_time": "2025-03-23T09:28:04.674Z"
   },
   {
    "duration": 133,
    "start_time": "2025-03-23T09:28:04.687Z"
   },
   {
    "duration": 5,
    "start_time": "2025-03-23T09:28:04.822Z"
   },
   {
    "duration": 13,
    "start_time": "2025-03-23T09:28:04.829Z"
   },
   {
    "duration": 29,
    "start_time": "2025-03-23T09:28:04.844Z"
   },
   {
    "duration": 168,
    "start_time": "2025-03-23T09:28:04.875Z"
   },
   {
    "duration": 159,
    "start_time": "2025-03-23T09:28:05.045Z"
   },
   {
    "duration": 6,
    "start_time": "2025-03-23T09:28:05.206Z"
   },
   {
    "duration": 6,
    "start_time": "2025-03-23T09:28:05.214Z"
   },
   {
    "duration": 6,
    "start_time": "2025-03-23T09:28:05.223Z"
   },
   {
    "duration": 40,
    "start_time": "2025-03-23T09:28:05.231Z"
   },
   {
    "duration": 77,
    "start_time": "2025-03-23T09:28:05.273Z"
   },
   {
    "duration": 6,
    "start_time": "2025-03-23T09:28:05.351Z"
   },
   {
    "duration": 5,
    "start_time": "2025-03-23T09:28:05.370Z"
   },
   {
    "duration": 5,
    "start_time": "2025-03-23T09:28:05.377Z"
   },
   {
    "duration": 7,
    "start_time": "2025-03-23T09:28:05.384Z"
   },
   {
    "duration": 5,
    "start_time": "2025-03-23T09:28:05.393Z"
   },
   {
    "duration": 5,
    "start_time": "2025-03-23T09:28:05.400Z"
   },
   {
    "duration": 10,
    "start_time": "2025-03-23T09:28:05.406Z"
   },
   {
    "duration": 50,
    "start_time": "2025-03-23T09:28:05.421Z"
   },
   {
    "duration": 1966,
    "start_time": "2025-03-23T09:28:05.473Z"
   },
   {
    "duration": 192,
    "start_time": "2025-03-23T09:28:07.441Z"
   },
   {
    "duration": 1686,
    "start_time": "2025-03-23T09:28:07.634Z"
   },
   {
    "duration": 0,
    "start_time": "2025-03-23T09:28:09.322Z"
   },
   {
    "duration": 1,
    "start_time": "2025-03-23T09:28:09.323Z"
   },
   {
    "duration": 0,
    "start_time": "2025-03-23T09:28:09.325Z"
   },
   {
    "duration": 0,
    "start_time": "2025-03-23T09:28:09.326Z"
   },
   {
    "duration": 964,
    "start_time": "2025-03-23T09:28:33.607Z"
   },
   {
    "duration": 1013,
    "start_time": "2025-03-23T09:30:13.629Z"
   },
   {
    "duration": 941,
    "start_time": "2025-03-23T09:30:33.398Z"
   },
   {
    "duration": 907,
    "start_time": "2025-03-23T09:30:49.106Z"
   },
   {
    "duration": 1031,
    "start_time": "2025-03-23T09:31:00.029Z"
   },
   {
    "duration": 521,
    "start_time": "2025-03-23T09:31:01.062Z"
   },
   {
    "duration": 6,
    "start_time": "2025-03-23T09:31:01.585Z"
   },
   {
    "duration": 18,
    "start_time": "2025-03-23T09:31:01.593Z"
   },
   {
    "duration": 14,
    "start_time": "2025-03-23T09:31:01.612Z"
   },
   {
    "duration": 188,
    "start_time": "2025-03-23T09:31:01.629Z"
   },
   {
    "duration": 4,
    "start_time": "2025-03-23T09:31:01.818Z"
   },
   {
    "duration": 15,
    "start_time": "2025-03-23T09:31:01.824Z"
   },
   {
    "duration": 29,
    "start_time": "2025-03-23T09:31:01.841Z"
   },
   {
    "duration": 80,
    "start_time": "2025-03-23T09:31:01.873Z"
   },
   {
    "duration": 3,
    "start_time": "2025-03-23T09:31:01.955Z"
   },
   {
    "duration": 14,
    "start_time": "2025-03-23T09:31:01.970Z"
   },
   {
    "duration": 12,
    "start_time": "2025-03-23T09:31:01.986Z"
   },
   {
    "duration": 195,
    "start_time": "2025-03-23T09:31:02.000Z"
   },
   {
    "duration": 162,
    "start_time": "2025-03-23T09:31:02.197Z"
   },
   {
    "duration": 10,
    "start_time": "2025-03-23T09:31:02.361Z"
   },
   {
    "duration": 5,
    "start_time": "2025-03-23T09:31:02.373Z"
   },
   {
    "duration": 7,
    "start_time": "2025-03-23T09:31:02.380Z"
   },
   {
    "duration": 12,
    "start_time": "2025-03-23T09:31:02.388Z"
   },
   {
    "duration": 186,
    "start_time": "2025-03-23T09:31:02.402Z"
   },
   {
    "duration": 7,
    "start_time": "2025-03-23T09:31:02.591Z"
   },
   {
    "duration": 4,
    "start_time": "2025-03-23T09:31:02.599Z"
   },
   {
    "duration": 6,
    "start_time": "2025-03-23T09:31:02.605Z"
   },
   {
    "duration": 61,
    "start_time": "2025-03-23T09:31:02.613Z"
   },
   {
    "duration": 5,
    "start_time": "2025-03-23T09:31:02.676Z"
   },
   {
    "duration": 3,
    "start_time": "2025-03-23T09:31:02.683Z"
   },
   {
    "duration": 9,
    "start_time": "2025-03-23T09:31:02.688Z"
   },
   {
    "duration": 12,
    "start_time": "2025-03-23T09:31:02.700Z"
   },
   {
    "duration": 2133,
    "start_time": "2025-03-23T09:31:02.713Z"
   },
   {
    "duration": 179,
    "start_time": "2025-03-23T09:31:04.848Z"
   },
   {
    "duration": 1039,
    "start_time": "2025-03-23T09:31:05.030Z"
   },
   {
    "duration": 4,
    "start_time": "2025-03-23T09:31:06.070Z"
   },
   {
    "duration": 155064,
    "start_time": "2025-03-23T09:31:06.076Z"
   },
   {
    "duration": 1072,
    "start_time": "2025-03-23T09:35:39.982Z"
   },
   {
    "duration": 514,
    "start_time": "2025-03-23T09:35:41.056Z"
   },
   {
    "duration": 4,
    "start_time": "2025-03-23T09:35:41.572Z"
   },
   {
    "duration": 16,
    "start_time": "2025-03-23T09:35:41.579Z"
   },
   {
    "duration": 13,
    "start_time": "2025-03-23T09:35:41.596Z"
   },
   {
    "duration": 180,
    "start_time": "2025-03-23T09:35:41.610Z"
   },
   {
    "duration": 4,
    "start_time": "2025-03-23T09:35:41.792Z"
   },
   {
    "duration": 15,
    "start_time": "2025-03-23T09:35:41.797Z"
   },
   {
    "duration": 10,
    "start_time": "2025-03-23T09:35:41.814Z"
   },
   {
    "duration": 107,
    "start_time": "2025-03-23T09:35:41.828Z"
   },
   {
    "duration": 3,
    "start_time": "2025-03-23T09:35:41.938Z"
   },
   {
    "duration": 15,
    "start_time": "2025-03-23T09:35:41.942Z"
   },
   {
    "duration": 12,
    "start_time": "2025-03-23T09:35:41.971Z"
   },
   {
    "duration": 176,
    "start_time": "2025-03-23T09:35:41.984Z"
   },
   {
    "duration": 161,
    "start_time": "2025-03-23T09:35:42.161Z"
   },
   {
    "duration": 7,
    "start_time": "2025-03-23T09:35:42.324Z"
   },
   {
    "duration": 5,
    "start_time": "2025-03-23T09:35:42.332Z"
   },
   {
    "duration": 7,
    "start_time": "2025-03-23T09:35:42.338Z"
   },
   {
    "duration": 13,
    "start_time": "2025-03-23T09:35:42.369Z"
   },
   {
    "duration": 86,
    "start_time": "2025-03-23T09:35:42.384Z"
   },
   {
    "duration": 6,
    "start_time": "2025-03-23T09:35:42.472Z"
   },
   {
    "duration": 4,
    "start_time": "2025-03-23T09:35:42.479Z"
   },
   {
    "duration": 6,
    "start_time": "2025-03-23T09:35:42.485Z"
   },
   {
    "duration": 6,
    "start_time": "2025-03-23T09:35:42.492Z"
   },
   {
    "duration": 5,
    "start_time": "2025-03-23T09:35:42.500Z"
   },
   {
    "duration": 4,
    "start_time": "2025-03-23T09:35:42.507Z"
   },
   {
    "duration": 10,
    "start_time": "2025-03-23T09:35:42.512Z"
   },
   {
    "duration": 11,
    "start_time": "2025-03-23T09:35:42.570Z"
   },
   {
    "duration": 1973,
    "start_time": "2025-03-23T09:35:42.583Z"
   },
   {
    "duration": 179,
    "start_time": "2025-03-23T09:35:44.560Z"
   },
   {
    "duration": 1035,
    "start_time": "2025-03-23T09:35:44.741Z"
   },
   {
    "duration": 4,
    "start_time": "2025-03-23T09:35:45.778Z"
   },
   {
    "duration": 427351,
    "start_time": "2025-03-23T09:35:45.784Z"
   },
   {
    "duration": 14,
    "start_time": "2025-03-23T09:42:53.138Z"
   }
  ],
  "kernelspec": {
   "display_name": "Python 3 (ipykernel)",
   "language": "python",
   "name": "python3"
  },
  "language_info": {
   "codemirror_mode": {
    "name": "ipython",
    "version": 3
   },
   "file_extension": ".py",
   "mimetype": "text/x-python",
   "name": "python",
   "nbconvert_exporter": "python",
   "pygments_lexer": "ipython3",
   "version": "3.9.19"
  },
  "toc": {
   "base_numbering": 1,
   "nav_menu": {},
   "number_sections": true,
   "sideBar": true,
   "skip_h1_title": true,
   "title_cell": "Table of Contents",
   "title_sidebar": "Contents",
   "toc_cell": false,
   "toc_position": {
    "height": "calc(100% - 180px)",
    "left": "10px",
    "top": "150px",
    "width": "290.781px"
   },
   "toc_section_display": true,
   "toc_window_display": true
  }
 },
 "nbformat": 4,
 "nbformat_minor": 2
}
